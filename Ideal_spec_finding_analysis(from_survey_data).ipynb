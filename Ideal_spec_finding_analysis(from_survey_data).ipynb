{
  "nbformat": 4,
  "nbformat_minor": 0,
  "metadata": {
    "colab": {
      "name": "Ideal spec finding analysis(from survey data).ipynb",
      "provenance": [],
      "collapsed_sections": [],
      "authorship_tag": "ABX9TyNiwx+U0PYj5tOksUnfqXTs",
      "include_colab_link": true
    },
    "kernelspec": {
      "name": "python3",
      "display_name": "Python 3"
    },
    "language_info": {
      "name": "python"
    }
  },
  "cells": [
    {
      "cell_type": "markdown",
      "metadata": {
        "id": "view-in-github",
        "colab_type": "text"
      },
      "source": [
        "<a href=\"https://colab.research.google.com/github/Sreeharipavithran/PG-Diploma-Project-2022/blob/main/Ideal_spec_finding_analysis(from_survey_data).ipynb\" target=\"_parent\"><img src=\"https://colab.research.google.com/assets/colab-badge.svg\" alt=\"Open In Colab\"/></a>"
      ]
    },
    {
      "cell_type": "code",
      "source": [
        "import pandas as pd\n",
        "import numpy as np\n",
        "from google.colab import files"
      ],
      "metadata": {
        "id": "084mlGdZt0EC"
      },
      "execution_count": null,
      "outputs": []
    },
    {
      "cell_type": "markdown",
      "source": [
        "# **First Analysis is based on Gaming Flagship Devices**"
      ],
      "metadata": {
        "id": "IqrHquZOKCZm"
      }
    },
    {
      "cell_type": "code",
      "source": [
        "files.upload()"
      ],
      "metadata": {
        "colab": {
          "resources": {
            "http://localhost:8080/nbextensions/google.colab/files.js": {
              "data": "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",
              "ok": true,
              "headers": [
                [
                  "content-type",
                  "application/javascript"
                ]
              ],
              "status": 200,
              "status_text": ""
            }
          },
          "base_uri": "https://localhost:8080/",
          "height": 128
        },
        "id": "V9kFTUYfuGdk",
        "outputId": "f2b0088f-5a6c-4da2-b99c-a6b832f87f7d"
      },
      "execution_count": null,
      "outputs": [
        {
          "output_type": "display_data",
          "data": {
            "text/html": [
              "\n",
              "     <input type=\"file\" id=\"files-cb17d73c-c750-4bec-93e2-70c4e5fb4d71\" name=\"files[]\" multiple disabled\n",
              "        style=\"border:none\" />\n",
              "     <output id=\"result-cb17d73c-c750-4bec-93e2-70c4e5fb4d71\">\n",
              "      Upload widget is only available when the cell has been executed in the\n",
              "      current browser session. Please rerun this cell to enable.\n",
              "      </output>\n",
              "      <script src=\"/nbextensions/google.colab/files.js\"></script> "
            ],
            "text/plain": [
              "<IPython.core.display.HTML object>"
            ]
          },
          "metadata": {}
        },
        {
          "output_type": "stream",
          "name": "stdout",
          "text": [
            "Saving Gaming Flagship Survey Data.xlsx to Gaming Flagship Survey Data.xlsx\n"
          ]
        },
        {
          "output_type": "execute_result",
          "data": {
            "text/plain": [
              "{'Gaming Flagship Survey Data.xlsx': b'PK\\x03\\x04\\x14\\x00\\x06\\x00\\x08\\x00\\x00\\x00!\\x00A7\\x82\\xcfn\\x01\\x00\\x00\\x04\\x05\\x00\\x00\\x13\\x00\\x08\\x02[Content_Types].xml \\xa2\\x04\\x02(\\xa0\\x00\\x02\\x00\\x00\\x00\\x00\\x00\\x00\\x00\\x00\\x00\\x00\\x00\\x00\\x00\\x00\\x00\\x00\\x00\\x00\\x00\\x00\\x00\\x00\\x00\\x00\\x00\\x00\\x00\\x00\\x00\\x00\\x00\\x00\\x00\\x00\\x00\\x00\\x00\\x00\\x00\\x00\\x00\\x00\\x00\\x00\\x00\\x00\\x00\\x00\\x00\\x00\\x00\\x00\\x00\\x00\\x00\\x00\\x00\\x00\\x00\\x00\\x00\\x00\\x00\\x00\\x00\\x00\\x00\\x00\\x00\\x00\\x00\\x00\\x00\\x00\\x00\\x00\\x00\\x00\\x00\\x00\\x00\\x00\\x00\\x00\\x00\\x00\\x00\\x00\\x00\\x00\\x00\\x00\\x00\\x00\\x00\\x00\\x00\\x00\\x00\\x00\\x00\\x00\\x00\\x00\\x00\\x00\\x00\\x00\\x00\\x00\\x00\\x00\\x00\\x00\\x00\\x00\\x00\\x00\\x00\\x00\\x00\\x00\\x00\\x00\\x00\\x00\\x00\\x00\\x00\\x00\\x00\\x00\\x00\\x00\\x00\\x00\\x00\\x00\\x00\\x00\\x00\\x00\\x00\\x00\\x00\\x00\\x00\\x00\\x00\\x00\\x00\\x00\\x00\\x00\\x00\\x00\\x00\\x00\\x00\\x00\\x00\\x00\\x00\\x00\\x00\\x00\\x00\\x00\\x00\\x00\\x00\\x00\\x00\\x00\\x00\\x00\\x00\\x00\\x00\\x00\\x00\\x00\\x00\\x00\\x00\\x00\\x00\\x00\\x00\\x00\\x00\\x00\\x00\\x00\\x00\\x00\\x00\\x00\\x00\\x00\\x00\\x00\\x00\\x00\\x00\\x00\\x00\\x00\\x00\\x00\\x00\\x00\\x00\\x00\\x00\\x00\\x00\\x00\\x00\\x00\\x00\\x00\\x00\\x00\\x00\\x00\\x00\\x00\\x00\\x00\\x00\\x00\\x00\\x00\\x00\\x00\\x00\\x00\\x00\\x00\\x00\\x00\\x00\\x00\\x00\\x00\\x00\\x00\\x00\\x00\\x00\\x00\\x00\\x00\\x00\\x00\\x00\\x00\\x00\\x00\\x00\\x00\\x00\\x00\\x00\\x00\\x00\\x00\\x00\\x00\\x00\\x00\\x00\\x00\\x00\\x00\\x00\\x00\\x00\\x00\\x00\\x00\\x00\\x00\\x00\\x00\\x00\\x00\\x00\\x00\\x00\\x00\\x00\\x00\\x00\\x00\\x00\\x00\\x00\\x00\\x00\\x00\\x00\\x00\\x00\\x00\\x00\\x00\\x00\\x00\\x00\\x00\\x00\\x00\\x00\\x00\\x00\\x00\\x00\\x00\\x00\\x00\\x00\\x00\\x00\\x00\\x00\\x00\\x00\\x00\\x00\\x00\\x00\\x00\\x00\\x00\\x00\\x00\\x00\\x00\\x00\\x00\\x00\\x00\\x00\\x00\\x00\\x00\\x00\\x00\\x00\\x00\\x00\\x00\\x00\\x00\\x00\\x00\\x00\\x00\\x00\\x00\\x00\\x00\\x00\\x00\\x00\\x00\\x00\\x00\\x00\\x00\\x00\\x00\\x00\\x00\\x00\\x00\\x00\\x00\\x00\\x00\\x00\\x00\\x00\\x00\\x00\\x00\\x00\\x00\\x00\\x00\\x00\\x00\\x00\\x00\\x00\\x00\\x00\\x00\\x00\\x00\\x00\\x00\\x00\\x00\\x00\\x00\\x00\\x00\\x00\\x00\\x00\\x00\\x00\\x00\\x00\\x00\\x00\\x00\\x00\\x00\\x00\\x00\\x00\\x00\\x00\\x00\\x00\\x00\\x00\\x00\\x00\\x00\\x00\\x00\\x00\\x00\\x00\\x00\\x00\\x00\\x00\\x00\\x00\\x00\\x00\\x00\\x00\\x00\\x00\\x00\\x00\\x00\\x00\\x00\\x00\\x00\\x00\\x00\\x00\\x00\\x00\\x00\\x00\\x00\\x00\\x00\\x00\\x00\\x00\\x00\\x00\\x00\\x00\\x00\\x00\\x00\\x00\\x00\\x00\\x00\\x00\\x00\\x00\\x00\\x00\\x00\\x00\\x00\\x00\\x00\\x00\\x00\\x00\\x00\\x00\\x00\\x00\\x00\\x00\\x00\\x00\\x00\\x00\\x00\\x00\\x00\\x00\\x00\\x00\\x00\\xacT\\xc9n\\xc20\\x10\\xbdW\\xea?D\\xbeV\\x89\\xa1\\x87\\xaa\\xaa\\x08\\x1c\\xba\\x1c[$\\xe8\\x07\\x98x\\x92X$\\xb6\\xe5\\x19(\\xfc}\\'fQU\\xb1\\x08\\xc1%Ql\\xcf[&\\xf3<\\x18\\xad\\xda&YB@\\xe3l.\\xfaYO$`\\x0b\\xa7\\x8d\\xadr\\xf1=\\xfdH\\x9fE\\x82\\xa4\\xacV\\x8d\\xb3\\x90\\x8b5\\xa0\\x18\\r\\xef\\xef\\x06\\xd3\\xb5\\x07L\\xb8\\xdab.j\"\\xff\"%\\x165\\xb4\\n3\\xe7\\xc1\\xf2N\\xe9B\\xab\\x88?C%\\xbd*\\xe6\\xaa\\x02\\xf9\\xd8\\xeb=\\xc9\\xc2Y\\x02K)u\\x18b8x\\x83R-\\x1aJ\\xdeW\\xbc\\xbcQ23V$\\xaf\\x9bs\\x1dU.\\x94\\xf7\\x8d)\\x14\\xb1P\\xb9\\xb4\\xfa\\x1fI\\xea\\xca\\xd2\\x14\\xa0]\\xb1h\\x19:C\\x1f@i\\xac\\x01\\xa8m2\\x1f\\x0c3\\x86\\t\\x10\\xb11\\x14\\xf2 g\\x80\\x06/#\\xdd\\xba\\xca\\xb82\\n\\xc3\\xdax|`\\xebG\\x18\\xba\\x9d\\xe3\\xae\\xb6u_\\xfc;\\x82\\xd1\\x90\\x8cU\\xa0O\\xd5\\xb2w\\xb9j\\xe4\\x8f\\x0b\\xf3\\x99s\\xf3\\xec4\\xc8\\xa5\\xad\\x89-\\xcaZe\\xecN\\xf7\\t\\xfex\\x18e|\\xf5o,\\xa4\\xf3\\x17\\x81\\xcf\\xe8 \\x9e1\\x90\\xf1y\\xbd\\x84\\x08s\\x86\\x10i\\xdd\\x00\\xde\\xba\\xed\\x11\\xf4\\x1cs\\xad\\x02\\xe8\\t\\xf1\\xf4V7\\x17\\xf0\\x17\\xfb\\x94\\x0e\\x8e\\xd488\\x8f\\x9c\\xda\\x00\\x97wa\\x17\\x91\\xae:\\xf5\\x0c\\x04\\x81\\x0c\\xecCrh\\xd8\\xf6\\x8c\\x1c\\xf9\\xab\\xdb\\x0e\\xdd\\x9d\\xa2A\\x1f\\xe0\\x96\\xf1\\x0e\\x1b\\xfe\\x02\\x00\\x00\\xff\\xff\\x03\\x00PK\\x03\\x04\\x14\\x00\\x06\\x00\\x08\\x00\\x00\\x00!\\x00\\xb5U0#\\xf4\\x00\\x00\\x00L\\x02\\x00\\x00\\x0b\\x00\\x08\\x02_rels/.rels \\xa2\\x04\\x02(\\xa0\\x00\\x02\\x00\\x00\\x00\\x00\\x00\\x00\\x00\\x00\\x00\\x00\\x00\\x00\\x00\\x00\\x00\\x00\\x00\\x00\\x00\\x00\\x00\\x00\\x00\\x00\\x00\\x00\\x00\\x00\\x00\\x00\\x00\\x00\\x00\\x00\\x00\\x00\\x00\\x00\\x00\\x00\\x00\\x00\\x00\\x00\\x00\\x00\\x00\\x00\\x00\\x00\\x00\\x00\\x00\\x00\\x00\\x00\\x00\\x00\\x00\\x00\\x00\\x00\\x00\\x00\\x00\\x00\\x00\\x00\\x00\\x00\\x00\\x00\\x00\\x00\\x00\\x00\\x00\\x00\\x00\\x00\\x00\\x00\\x00\\x00\\x00\\x00\\x00\\x00\\x00\\x00\\x00\\x00\\x00\\x00\\x00\\x00\\x00\\x00\\x00\\x00\\x00\\x00\\x00\\x00\\x00\\x00\\x00\\x00\\x00\\x00\\x00\\x00\\x00\\x00\\x00\\x00\\x00\\x00\\x00\\x00\\x00\\x00\\x00\\x00\\x00\\x00\\x00\\x00\\x00\\x00\\x00\\x00\\x00\\x00\\x00\\x00\\x00\\x00\\x00\\x00\\x00\\x00\\x00\\x00\\x00\\x00\\x00\\x00\\x00\\x00\\x00\\x00\\x00\\x00\\x00\\x00\\x00\\x00\\x00\\x00\\x00\\x00\\x00\\x00\\x00\\x00\\x00\\x00\\x00\\x00\\x00\\x00\\x00\\x00\\x00\\x00\\x00\\x00\\x00\\x00\\x00\\x00\\x00\\x00\\x00\\x00\\x00\\x00\\x00\\x00\\x00\\x00\\x00\\x00\\x00\\x00\\x00\\x00\\x00\\x00\\x00\\x00\\x00\\x00\\x00\\x00\\x00\\x00\\x00\\x00\\x00\\x00\\x00\\x00\\x00\\x00\\x00\\x00\\x00\\x00\\x00\\x00\\x00\\x00\\x00\\x00\\x00\\x00\\x00\\x00\\x00\\x00\\x00\\x00\\x00\\x00\\x00\\x00\\x00\\x00\\x00\\x00\\x00\\x00\\x00\\x00\\x00\\x00\\x00\\x00\\x00\\x00\\x00\\x00\\x00\\x00\\x00\\x00\\x00\\x00\\x00\\x00\\x00\\x00\\x00\\x00\\x00\\x00\\x00\\x00\\x00\\x00\\x00\\x00\\x00\\x00\\x00\\x00\\x00\\x00\\x00\\x00\\x00\\x00\\x00\\x00\\x00\\x00\\x00\\x00\\x00\\x00\\x00\\x00\\x00\\x00\\x00\\x00\\x00\\x00\\x00\\x00\\x00\\x00\\x00\\x00\\x00\\x00\\x00\\x00\\x00\\x00\\x00\\x00\\x00\\x00\\x00\\x00\\x00\\x00\\x00\\x00\\x00\\x00\\x00\\x00\\x00\\x00\\x00\\x00\\x00\\x00\\x00\\x00\\x00\\x00\\x00\\x00\\x00\\x00\\x00\\x00\\x00\\x00\\x00\\x00\\x00\\x00\\x00\\x00\\x00\\x00\\x00\\x00\\x00\\x00\\x00\\x00\\x00\\x00\\x00\\x00\\x00\\x00\\x00\\x00\\x00\\x00\\x00\\x00\\x00\\x00\\x00\\x00\\x00\\x00\\x00\\x00\\x00\\x00\\x00\\x00\\x00\\x00\\x00\\x00\\x00\\x00\\x00\\x00\\x00\\x00\\x00\\x00\\x00\\x00\\x00\\x00\\x00\\x00\\x00\\x00\\x00\\x00\\x00\\x00\\x00\\x00\\x00\\x00\\x00\\x00\\x00\\x00\\x00\\x00\\x00\\x00\\x00\\x00\\x00\\x00\\x00\\x00\\x00\\x00\\x00\\x00\\x00\\x00\\x00\\x00\\x00\\x00\\x00\\x00\\x00\\x00\\x00\\x00\\x00\\x00\\x00\\x00\\x00\\x00\\x00\\x00\\x00\\x00\\x00\\x00\\x00\\x00\\x00\\x00\\x00\\x00\\x00\\x00\\x00\\x00\\x00\\x00\\x00\\x00\\x00\\x00\\x00\\x00\\x00\\x00\\x00\\x00\\x00\\x00\\x00\\x00\\x00\\x00\\x00\\x00\\x00\\x00\\x00\\x00\\x00\\x00\\x00\\x00\\x00\\x00\\x00\\x00\\x00\\x00\\x00\\x00\\x00\\x00\\x00\\x00\\x00\\x00\\x00\\x00\\x00\\x00\\x00\\x00\\x00\\x00\\xac\\x92MO\\xc30\\x0c\\x86\\xefH\\xfc\\x87\\xc8\\xf7\\xd5\\xdd\\x90\\x10BKwAH\\xbb!T~\\x80I\\xdc\\x0f\\xb5\\x8d\\xa3$\\x1b\\xdd\\xbf\\'\\x1c\\x10T\\x1a\\x83\\x03G\\x7f\\xbd~\\xfc\\xca\\xdb\\xdd<\\x8d\\xea\\xc8!\\xf6\\xe24\\xac\\x8b\\x12\\x14;#\\xb6w\\xad\\x86\\x97\\xfaqu\\x07*&r\\x96Fq\\xac\\xe1\\xc4\\x11v\\xd5\\xf5\\xd5\\xf6\\x99GJy(v\\xbd\\x8f*\\xab\\xb8\\xa8\\xa1K\\xc9\\xdf#F\\xd3\\xf1D\\xb1\\x10\\xcf.W\\x1a\\t\\x13\\xa5\\x1c\\x86\\x16=\\x99\\x81Z\\xc6MY\\xdeb\\xf8\\xae\\x01\\xd5BS\\xed\\xad\\x86\\xb0\\xb77\\xa0\\xea\\x93\\xcf\\x9b\\x7f\\xd7\\x96\\xa6\\xe9\\r?\\x889L\\xec\\xd2\\x99\\x15\\xc8sbg\\xd9\\xae|\\xc8l!\\xf5\\xf9\\x1aUSh9i\\xb0b\\x9er:\"y_dl\\xc0\\xf3D\\x9b\\xbf\\x13\\xfd|-N\\x9c\\xc8R\"4\\x12\\xf82\\xcfG\\xc7%\\xa0\\xf5\\x7fZ\\xb44\\xf1\\xcb\\x9dy\\xc47\\t\\xc3\\xab\\xc8\\xf0\\xc9\\x82\\x8b\\x1f\\xa8\\xde\\x01\\x00\\x00\\xff\\xff\\x03\\x00PK\\x03\\x04\\x14\\x00\\x06\\x00\\x08\\x00\\x00\\x00!\\x00{\\x13\\x116\\xc0\\x02\\x00\\x00g\\x06\\x00\\x00\\x0f\\x00\\x00\\x00xl/workbook.xml\\xa4U\\xdfo\\xda0\\x10~\\x9f\\xb4\\xff!\\xb3x\\r\\x89S\\x08\\x10\\x11*~\\xb4\\x1d\\xd2Z\\xa1uk_*!\\x93\\x18\\xe25\\xb13\\xdb\\x01\\xaa\\xaa\\xff\\xfb\\xce\\t\\xa1P^\\xba6J\\xec\\x9c\\x0f\\xbe\\xfb\\xee\\xee\\xb3\\xd3?\\xdff\\xa9\\xb5\\xa6R1\\xc1C\\x84\\x9b.\\xb2(\\x8fD\\xcc\\xf8*D\\xbf\\x7f]\\xda]d)MxLR\\xc1i\\x88\\x9e\\xa8B\\xe7\\x83\\xaf_\\xfa\\x1b!\\x1f\\x17B<Z\\x00\\xc0U\\x88\\x12\\xad\\xf3\\xc0qT\\x94\\xd0\\x8c\\xa8\\xa6\\xc8)\\x07\\xcfR\\xc8\\x8ch0\\xe5\\xcaQ\\xb9\\xa4$V\\t\\xa5:K\\x1d\\xcfu}\\'#\\x8c\\xa3\\n!\\x90\\xef\\xc1\\x10\\xcb%\\x8b\\xe8DDEF\\xb9\\xae@$M\\x89\\x06\\xfa*a\\xb9\\xaa\\xd1\\xb2\\xe8=p\\x19\\x91\\x8fEnG\"\\xcb\\x01b\\xc1R\\xa6\\x9fJPdeQ0]q!\\xc9\"\\x85\\xb4\\xb7\\xb8mm%\\xdc><\\xd8\\x85\\xc1\\xab#\\x81\\xeb$T\\xc6\")\\x94X\\xea&@;\\x15\\xe9\\x93\\xfc\\xb1\\xeb`|T\\x82\\xedi\\r\\xde\\x87\\xd4r$]3\\xd3\\xc3=+\\xe9\\x7f\\x90\\x95\\xbf\\xc7\\xf2_\\xc1\\xb0\\xfbi4\\x0c\\xd2*\\xb5\\x12@\\xf1>\\x88\\xd6\\xdes\\xf3\\xd0\\xa0\\xbfd)\\xbd\\xab\\xa4k\\x91<\\xbf!\\x99\\xe9T\\x8a\\xac\\x94(}\\x113M\\xe3\\x10u\\xc0\\x14\\x1bz\\xb4 \\x8b|T\\xb0\\x14\\xbc^\\xab\\xe3\\xf5\\x903\\xd8\\xcby&\\xc1\\x80\\xde\\x0fSM%\\'\\x9a\\x8e\\x05\\xd7 \\xb5\\x1d\\xf5\\xcf\\xca\\xaa\\xc4\\x1e\\'\\x02Dl\\xfd\\xa4\\x7f\\x0b&)\\xec\\x1d\\x90\\x10\\xa4\\x03#\\x89\\x02\\xb2P3\\xa2\\x13\\xab\\x90i\\x88n\\x83\\x87\\x99\\x14\\x7fh\\xa4\\x1f\\x0e\\xe4FN\\xb5\\xfd\\x1f\\x82#\\x91\\xc9\\xd7\\x81\\x1c+\\x1e\\xd5\\xfb\\xdb|\\x81\\x8e\\x0cjQ\\xcd\\xb4\\xb4\\xe0}:\\xf9\\x01\\x85\\xbd%k(343\\xde\\xed\\xc2)\\xd4\\x11\\x9f\\xcdy$\\x03<\\x7f\\xf6G-\\xbf\\xdb\\xf5]{\\xec\\xb9#\\xbbu\\xe6\\xfav\\xaf\\xd3\\x1e\\xdb\\xa3\\xb1;\\xecv\\xbb\\xbd\\x8bN\\xdb{\\x81d\\xa4\\x1fD\\x82\\x14:\\xd9u\\xd0@\\x87\\xa8\\x05\\xed:q]\\x93m\\xed\\xc1nP\\xb0\\xf8\\x95\\xc6\\xb3\\xbb\\xbbl3\\xbf\\x19j\\xdf\\x8bI\\xd8\\x9cUw\\x8cn\\xd4k\\xaf\\x8dim\\xef\\x19\\x8f\\xc5&D66\\n}:67\\xa5\\xf3\\x9e\\xc5:\\x81${-\\x0f~R\\xad}\\xa7l\\x95\\x00c\\xec\\x96\\x8b\\xa0i\\xc3,DG\\x8c&\\x15\\xa3K\\xb8l3\\x1c1r\\x0e(\\x95\\xa7\"P+g\\x8b\\x97J\\xbe\\x1a^Oo\\xae\\xe0\\xf85\\'fYdd\\xc9\\xc0\\xc4\\x90\\xd3\\x18\\x97M\\xac\\xff\\x16\\xd3%\\xe346;\\x00@\\x0e\\xac\\x1d\\xd4|\\x9b\\xf2\\xac9\\xbfdF\\xd5\\x13\\xa2\\xc9\\x82(j6FD\\xd2\\xdb\\x1a\\x1eRKX\\x1cS\\xf3\\x1d@\\x83*\\xfa\\xb7\\xc6\\xb0\\x81\\x83\\xc6}\\xc3\\xeb\\xf5\\x9d\\x03\\\\\\x10\\xcdqL\\x00\\x8af\\xd22\\x93\\xa1\\xea\\x96\\xf4\\xeao\\xc4\\xe0\\x1f\\x00\\x00\\x00\\xff\\xff\\x03\\x00PK\\x03\\x04\\x14\\x00\\x06\\x00\\x08\\x00\\x00\\x00!\\x00\\x81>\\x94\\x97\\xf3\\x00\\x00\\x00\\xba\\x02\\x00\\x00\\x1a\\x00\\x08\\x01xl/_rels/workbook.xml.rels \\xa2\\x04\\x01(\\xa0\\x00\\x01\\x00\\x00\\x00\\x00\\x00\\x00\\x00\\x00\\x00\\x00\\x00\\x00\\x00\\x00\\x00\\x00\\x00\\x00\\x00\\x00\\x00\\x00\\x00\\x00\\x00\\x00\\x00\\x00\\x00\\x00\\x00\\x00\\x00\\x00\\x00\\x00\\x00\\x00\\x00\\x00\\x00\\x00\\x00\\x00\\x00\\x00\\x00\\x00\\x00\\x00\\x00\\x00\\x00\\x00\\x00\\x00\\x00\\x00\\x00\\x00\\x00\\x00\\x00\\x00\\x00\\x00\\x00\\x00\\x00\\x00\\x00\\x00\\x00\\x00\\x00\\x00\\x00\\x00\\x00\\x00\\x00\\x00\\x00\\x00\\x00\\x00\\x00\\x00\\x00\\x00\\x00\\x00\\x00\\x00\\x00\\x00\\x00\\x00\\x00\\x00\\x00\\x00\\x00\\x00\\x00\\x00\\x00\\x00\\x00\\x00\\x00\\x00\\x00\\x00\\x00\\x00\\x00\\x00\\x00\\x00\\x00\\x00\\x00\\x00\\x00\\x00\\x00\\x00\\x00\\x00\\x00\\x00\\x00\\x00\\x00\\x00\\x00\\x00\\x00\\x00\\x00\\x00\\x00\\x00\\x00\\x00\\x00\\x00\\x00\\x00\\x00\\x00\\x00\\x00\\x00\\x00\\x00\\x00\\x00\\x00\\x00\\x00\\x00\\x00\\x00\\x00\\x00\\x00\\x00\\x00\\x00\\x00\\x00\\x00\\x00\\x00\\x00\\x00\\x00\\x00\\x00\\x00\\x00\\x00\\x00\\x00\\x00\\x00\\x00\\x00\\x00\\x00\\x00\\x00\\x00\\x00\\x00\\x00\\x00\\x00\\x00\\x00\\x00\\x00\\x00\\x00\\x00\\x00\\x00\\x00\\x00\\x00\\x00\\x00\\x00\\x00\\x00\\x00\\x00\\x00\\x00\\x00\\x00\\x00\\x00\\x00\\x00\\x00\\x00\\x00\\x00\\x00\\x00\\x00\\x00\\x00\\x00\\x00\\x00\\x00\\x00\\x00\\x00\\x00\\x00\\x00\\x00\\x00\\x00\\x00\\x00\\x00\\x00\\x00\\x00\\x00\\xacRMK\\xc40\\x10\\xbd\\x0b\\xfe\\x870w\\x9bv\\x15\\x11\\xd9t/\"\\xecU\\xeb\\x0f\\x08\\xc9\\xb4)\\xdb&!3~\\xf4\\xdf\\x1b*\\xba]X\\xd6K/\\x03o\\x86y\\xef\\xcd\\xc7v\\xf75\\x0e\\xe2\\x03\\x13\\xf5\\xc1+\\xa8\\x8a\\x12\\x04z\\x13l\\xef;\\x05o\\xcd\\xf3\\xcd\\x03\\x08b\\xed\\xad\\x1e\\x82G\\x05\\x13\\x12\\xec\\xea\\xeb\\xab\\xed\\x0b\\x0e\\x9as\\x13\\xb9>\\x92\\xc8,\\x9e\\x148\\xe6\\xf8(%\\x19\\x87\\xa3\\xa6\"D\\xf4\\xb9\\xd2\\x864j\\xce0u2js\\xd0\\x1d\\xcaMY\\xde\\xcb\\xb4\\xe4\\x80\\xfa\\x84S\\xec\\xad\\x82\\xb4\\xb7\\xb7 \\x9a)f\\xe5\\xff\\xb9C\\xdb\\xf6\\x06\\x9f\\x82y\\x1f\\xd1\\xf3\\x19\\tI<\\ry\\x00\\xd1\\xe8\\xd4!+\\xf8\\xc1E\\xf6\\x08\\xf2\\xbc\\xfcfMy\\xcek\\xc1\\xa3\\xfa\\x0c\\xe5\\x1c\\xabK\\x1e\\xaa5=|\\x86t \\x87\\xc8G\\x1f\\x7f)\\x92s\\xe5\\xa2\\x99\\xbbU\\xef\\xe1tB\\xfb\\xca)\\xbf\\xdb\\xf2,\\xcb\\xf4\\xeff\\xe4\\xc9\\xc7\\xd5\\xdf\\x00\\x00\\x00\\xff\\xff\\x03\\x00PK\\x03\\x04\\x14\\x00\\x06\\x00\\x08\\x00\\x00\\x00!\\x00\\xe7\\x08\\xc6;\\xe9\\x10\\x00\\x00Ln\\x00\\x00\\x18\\x00\\x00\\x00xl/worksheets/sheet1.xml\\xa4\\x95\\xd1n\\x9b0\\x14\\x86\\xef\\'\\xed\\x1d\\x90\\xef\\x0b\\x18\\x02\\tQH\\xd5\\xb5\\xea6m\\xaa\\xaaf[\\xaf\\x1d0\\x89U\\xc0\\x0c;M\\xd3i\\xef\\xbec\\x83!S\\xa6\\n\\xb2*\\xc5\\x8e\\x8d?\\x9f\\xf3\\xfb?\\xce\\xe2\\xf2\\xa5\\xc8\\xadgZ\\x0b\\xc6\\xcb\\x18a\\xdbE\\x16-\\x13\\x9e\\xb2r\\x13\\xa3\\xef\\xdfn/f\\xc8\\x12\\x92\\x94)\\xc9yIct\\xa0\\x02].\\xdf\\xbf[\\xecy\\xfd$\\xb6\\x94J\\x0b\\x08\\xa5\\x88\\xd1V\\xcaj\\xee8\"\\xd9\\xd2\\x82\\x08\\x9bW\\xb4\\x84\\x99\\x8c\\xd7\\x05\\x91\\xf0\\xb5\\xde8\\xa2\\xaa)I\\xf5\\xa2\"w<\\xd7\\r\\x9d\\x82\\xb0\\x125\\x84y=\\x84\\xc1\\xb3\\x8c%\\xf4\\x86\\'\\xbb\\x82\\x96\\xb2\\x81\\xd44\\'\\x12\\xe2\\x17[V\\tC+\\x92!\\xb8\\x82\\xd4O\\xbb\\xea\"\\xe1E\\x05\\x885\\xcb\\x99<h(\\xb2\\x8ad\\xfeyS\\xf2\\x9a\\xacs\\xc8\\xfb\\x05OHb\\xbd\\xd4\\xf0\\xf1\\xe0\\xdf7\\xdb\\xe8\\xf1\\x93\\x9d\\n\\x96\\xd4\\\\\\xf0L\\xda@v\\x9a\\x98O\\xd3\\x8f\\x9c\\xc8!IG:\\xcd\\x7f\\x10\\x06O\\x9c\\x9a>3u\\x80=\\xca;/$\\x1ct,\\xaf\\x87\\xf9g\\xc2\\xc2\\x0e\\xa6\\xe4\\xaa\\xe7;\\x96\\xc6\\xe8\\x97\\xdb\\xfe]@\\x8b\\xd5\\xc3\\xed\\x1ff\\xee7Z.\\xb4O\\xeek\\x0b\\xccH\\xefH\\x01g\\xb0Rv\\xc30\\xc5w2g%\\x85I\\xb1+\\xe0\\x08\\x0f\\x1fh\\xce\\xf71\\x02\\xf3\\xb6\\x03\\x0fl\\xb3\\x95j\\xc0Y.\\x9c\\x96\\xb4\\\\\\xa4\\x0cL\\xa3\\x84\\xb2j\\x9a\\xc5\\xe8\\n\\xcf\\x1f\\xbdH\\xbd\\xa2\\xdf\\xf8\\xc1\\xe8^\\x1c\\xf5-I\\xd6+\\x9a\\xd3DR\\x88\\x1b#K\\xf2\\xea+\\xcd\\xe45\\xcd\\xf3\\x18}\\x84\\x81W\\xce\\x8bUB\\x94?\\x82\\xe8\\xe8\\xeb\\x9d2=\\xbc\\xa3\\x06U\\x9d\\xac9\\x7fR\\xf4\\xcf\\xc0q!\\xfe\\x8a\\x94\\xd4:\\xac*p\\xdb)\\xf8\\n\\x94\\'\\x89d\\xcf\\xf4\\x1e^\\x8b\\xd1\\x9aK\\xc9\\x0b\\xb5\\xb1\\xaeD\\tCY\\xcd_i\\xa9\\x03\\xd7\\xf1\\xa9\\x8c\\x14\\xf3\\xef\\x97\\x1bH\\x13\\xed\\x17\\x1f\\xa8\\xe2\\xa7N[\\xf5;YTXF\\xa2c\\x01nu\\xdd\\x82\\xc2)\\xcd\\xc8.\\x97\\xd7<\\x7fd\\xa9\\xdcB\\xbc\\x13{\\x12\\xf8\\xd8\\x0b\\x90\\x99{\\xe0\\xfbO\\xb4\\x11\\x1c\\x07\\xf6\\x14&\\x92\\x9d\\x80\\x98\\xbbA8}U>\\xf3\\xf4pCE\\x02u\\x0b2\\xd8\\x00\\x80(\\x12\\x9e\\x83\\xe6\\xf0\\xb4\\n\\xa6. \\xa8;\\xf2\\xa2\\xdb}\\xb3\\x9d\\x87\\xed`\\xe2E\\xe1Lq\\xd7T\\xc8\\xdbV\\xb4f\\x0f\\x13T\\xcbj(\\x90\\xab\\xa6@\\xdbR|l{a\\xd4\\x86\\xfd\\xc6J0\\xaa^\\t\\xad\\xd9?\\xb0\\xddY4\\x9b\\xf8#\\xf6\\x9f\\xb4\\x14\\x88\\xf8_Y\\xbc\\xb1\\x7f\\xd8\\xae\\x84\\xd6\\xac\\x9c\\xda\\xa1\\xef\\xcd\\xb4\\xde\\x03\\xd3\\x9f\\xb6\\x10h\\r$\\xb2\\xa7^\\x18\\x84\\xea\\xd0\\x06B\\xe0\\xde\\xd7J@k4\\x0c\\x8e4\\x1cH\\x81\\x02\\xd0\\x14U\\x08\\xcdy*#\\x0e\\\\\\x8c\\xa1\\x9e\\x1b7@\\xa7?\\x8e\\xd1v\\xc0\\x9d\\xab\\xa0\\xd3r\\x02l\\xfbcu\\xc5\\xc6W\\xaa\\xd3\\x1bk\\x86\\xc3\\x89;FZl\\\\\\xa6:\\x9d,]U\\rU\\xc7\\xb8\\x0cC\\xe7\\x0cq\\xc1\\n\\x8d\\xb8\\xbdK\\xa1J\\xa2q\\x99\\x18\\xbf\\xe2\\xde\\xb0\\xd8\\xb7\\xc7+b,\\x8b{\\xcf\\xc2=3\\xba\\xf0\\xb0q\\xad\\xea\\xf4\\x054\\x9ec|\\x8b\\x8f\\x8c;\\xb5\\xf1t\\xe4=d\\x0c\\xec\\x1d\\x198\\x1a\\x9f\\x96g\\x0c\\xac:&\\xad3d\\xf6\\xba\\x8b\\xb17\\xb07\\x1by\\xe6\\x9eq\\xaf\\xea\\xfcO0\\xc6\\xbf\\xf0\\x13<\\xf0\\x9at\\xf4\\xaf\\xc5\\x1f\\x00\\x00\\x00\\xff\\xff\\x00\\x00\\x00\\xff\\xff\\xac\\x9d\\xdbr\\xdbF\\x12\\x86_E\\xa5\\x07\\xa0\\x05\\x90\\xa2\\xa5\\x94\\xec\\xaae\\xe8\\x93H\\x11\\xb0#\\xc9\\xd7.\\xadj\\xb3\\x17\\x9b\\xa4\"\\xe7\\xb0o\\xbf\\x04AB\\xfd\\x1f03k\\xd3\\x17\\xae\\x94\\xfb\\x9f\\x9e\\x9e\\x01?\\xf5`\\xba\\xa9\\\\=\\xfd\\xfc\\xf8\\xf8u\\xf9\\xe5\\xeb\\x97\\xd7W\\xbf\\xff\\xfa\\xd7\\xc9\\xef\\xafN\\xab\\xd3\\x93\\xa7\\xdf\\xbe\\xfc\\xf2\\xb4\\xfd\\xaf\\x1f\\xea\\xe9\\xe9\\xc9\\xcf_\\xb7\\xffu>yy~z\\xf2\\xf0\\xc7\\xd3\\xd7_\\xff\\xf3\\xfe\\xf1\\xdf\\xff\\xda\\xfd\\xe3\\xe9\\xc9\\xdf\\xd5\\xec\\xcb\\xc3\\x0f\\xff\\xfc\\xef\\xf2\\xf1\\xe9\\xe1\\xf1\\x97\\xad\\xf0l2=}}\\xf5\\xd0\\xf9\\xf9G\\xe7\\xe8\\xd5\\xe9\\xd6\\xc3\\xf6\\xdf\\x9f\\xb6\\xff\\xfa\\xe7\\xeb\\xea\\xea\\xc5\\x9f\\xaf\\xaf^<\\xec\\x15\\x0bU\\x9c\\xa1\\xe2GUL_\\xa2di$\\x17(y\\xa3\\x92\\x1a\\x15o\\x8d\\x13T\\xbcS\\xc5\\x0c\\x15\\xefUq\\x8e\\x8a\\x0f\\xaa\\x98\\xa3\\xe2Z\\x15\\xb4\\xdc\\x95\\x89\\x83\\xb6um$\\xb4\\xde\\x1b#\\x99b(\\x1b#\\xa1\\x157FBKnUB\\x0f\\xe7\\xa3*.1\\x92O\\xaa\\xa8\\xe8s\\xf2\\x93\\x89\\x84\\xb6\\xf6\\xd6x\\xa1\\x8d\\xbb3^h\\xfb\\xef\\x8d\\x84\\x16\\xf4Y%\\xd3\\xe7\\xed\\x7f\\xb1\\xa5l@\\xad\\xfe>\\xd4\\xea\\xf3\\x81\\xb5\\xce\\xd3\\x0e\\xddg\\xd6(\\xf2\\x85JjZ\\xff\\x8f\\x07I\\xc7*\\xadj\\xd9\\xdb\\xb6\\x7f\\x0f3\\xcc\\xe8!\\xbc13\\x90\\xe4\\xadz\\x99\\xd2sz\\x17\\x83\\xa8jr\\xf0>Zg\\x17d\\xfd\\x80c\\x89\\xad\\x94q\\x952\\xae\\xf3\\xbb{\\x93\\x97l\\xf2\\x92&/i\\x8d\\x84\\x892\\x12F\\x8a\\xb6\\x91q\\x8a\\xe6zJ\\xd6[\\x18L\\xc6;\\xf3!\\xa0\\x1f>\\xf7q\\xfc\\xc5\\xe4\\xe2\\x0c\\xfe\\xd0\\xc7\\xf6\\xb3\\xfa\\x0b\\xf1\\x00M\\xdbL\\xf3=\\x89+\\xd0\\xd4y\"\\x9ah\\r\\x0b\\x95\\x08M\\x07IG\\xd3|B\\xac-{\\xebvu\\x03OSzHoL\\x18\\xf4C\\xfa\\xad\\x91\\xd0\\x0f\\xe9w1\\x0c\\xe5)Z\\xa7g\\xcc\\x13\\x8e%\\x9eR\\xc6\\x95\\x066\\xa3\\xe5\\xadM\\xec\\xf4\\xf0o\\xf2\\x92M^\\xd2\\xe4%\\xadJ\\xa6\\xb4\\x8f\\x1f\\x8d\\x17\\xa6*\\xee\\xc8\\xec\\x9cw\\xf3\\xa7h\\xae\\xcf\\xc8\\xff->\\t\\xdc\\xeb;\\x1c\\x8a\\xc6\\xfbh\\xe4dd\\x16\\xf6\\xfcI\\x04|fG\\xc3\\xa7\\xf3\\x94\\xc1G%\\x82\\xcfA\\xe2\\xf1\\xe9\\xadI|L\\x18\\x8c\\x8f\\x910>1\\x0c\\xc5\\'Z\\x15\\x1f\\x1cK\\xf8\\xe8\\xdcL\\xc8\\xca\\x84G\\xe7\\xab\\xb5\\x91PB\\xbd\\xc9K6FB(6yIk$\\x9c\\x9a\\x8c\\x84!\\x8a\\x9b\\xb6\\xcd\\xf0\\x9c\\x9a`O/\\xe8\\x81\\xde\\xc2`NM`\\xa4\\x8d\\xbc\\x8f\\xc6\\x8b\\xc9\\xf6Y\\xc6?\\x9c\\x94t\\x19\\xd3\\x11\\xaa\\xb6oMGJJ\\x9d\\xa7\\x0cU*\\x11\\xaa\\x0e\\x92\\x9e*\\xda\\xbeeo\\x8dT\\xc9!\\xcf\\x84\\xc1T\\x19\\tS\\x15\\xc3P\\xaa\\xa2U\\xa9\\xc2\\xb1DU\\xca\\xb82\\x811OF\\xc2<\\xe5%\\x1b#a\\x9e\\xf2^Z#a\\x9eT2\\xa5\\x15}\\x8a;\\xb2\\xcdI\\xcc\\x13l\\x98\\xf0\\x14\\xads\\xf2|\\xa7\\x93\\xd7|\\xd4\\x8b\\xe395\\x99\\xd8\\x9f\\x83\\x83\\xd44?\\x1aD\\x9d\\xa7\\x0cD*\\x11\\x88\\x0e\\x92\\x1e\\xa2s\\xda\\x97eoN\\xe6&\\x13\\x07Sd$LQ\\x8c\\xe3\\x92\\xdf\\x94\\xa2\\xb1\\x927%X\\x02\\xf9\\xbd\\x8e\\xc6\\x19=\\xb6\\x15\\xf8\\xa5I\\xd7&h>\\xd3\\x19\\t\\x11\\xb6\\xc9{i\\xf2\\x92\\xd6H\\x18\\x1f#\\xe1t\\x14\\x97k\\xf0\\x81\\xddxIk\\xbd\\x85]f|\\xa2\\x91\\xdfs\\xef\\xa3\\x91\\xc1\\xd1\\xa8\\xc7\\xb2\\xcf\\xcb\\xa3\\x81\\xd3y\\xca\\x80\\xa3\\x12\\x01\\xe7 \\xe9\\xc1\\xe1\\x9b\\xbc\\xde\\x9a\\xe4\\xc6\\x84\\xc1\\xdc\\x18\\ts\\x13\\xc3\\xd0\\xec\\x13\\xad\\x9a}p,e\\x9f\\x94q\\x952\\xaeM\\xd4\\x0c\\x8e\\x9108y/M^\\xd2\\x1a\\t\\x83c$\\x0cN\\\\\\xaey\\x19\\x82\\xdd\\xb8 \\xff\\xb7\\xf8\\x0c\\xe8e(\\x1a\\x05\\x9ch\\xcc^.\\xe82\\xc6H\\xba8\\x1aI\\x9d\\'$\\xa9\\xa6\\x8f\\xf0\\xc2H\\xf8\\xaa\\xee \\x19IA\\xbd9y\\x90\\xd3I*F\\xc9H\\x18\\xa5\\x18G5\\xe3+\\xf1h\\xd5\\xdb:X\\x03\\xe7 pL\\xc7\\x8a\\x95\\x06&\\xb7\\x0b&v>\\xc8\\x19\\t1\\xb7\\xc9{i\\xf2^Z#a\\xa0\\x8c\\x84\\x81\\x82\\xed\\xd2\\x83\\x1cl\\xd8%\\r\\xbe\\x85\\xc1\\x9c\\x89tr9\\xc8\\xc5\\xf1Y\\xac\\xd4\\xdf\\xd8\\x9d\\xdd\\xe5\\xd1\\xb0\\xea<e\\xb02\\x12\\xc6\\xea \\xe9\\xb1\\x9as\\x86\\xea\\xcd\\xc9\\x0c\\xa5\\x93\\x08VF\\xc2X\\xc58\\x14+\\x88R.\\xed\\xa2\\xf5\\x9c\\x0eh\\xd7\\xe0\\x98\\xb1J\\x19\\xd7&j\\xcePF\\xc2\\x19*\\xef\\xa5\\xc9KZ#a\\xa0\\x8c\\x84\\x81\\xa2m\\xe47#\\xd8\\r\\x01\\n\\x063P:\\xb9\\x00\\x15\\xc7_Lh\\x9b>\\xab\\x831\\x82\\xaa\\xb3\\xa3!\\xb4s\\x95a\\xc8i\\x18\\xa2A\\xe3\\x8fy{s29\\x99i\\x04#\\xa7a\\x8e \\x14\\x05\\t\\xcd\\xf23\\xf5\\x03\\xae\\x84S\\x14\\x8ef\\x98Lx\\x92\\xa4\\xdc\\x128K\\x15h6\\x05\\x9a\\xc6i\\x08\\xe0\\xd6i\\xa4^\\xdb}\\xe0\\xe8U@*\\xb6\\x07\\xcd\\xee\\x13\\xa0\\xb9\\nw\\xee\\x92\\xf0\\xb9\\x053\\xbf\\xba\\xde\\x99 \\x85.\\xf0p9\\xa9.\\xe1\\x0f\\x9ds>\\x1b\\x8f\\xa3\\xb8u\\xd5\\xdd\\xefh\\x8f\\x08U\\xa6\\xaa/\\x14o\\xff\\x1eJ@r\\x12t\\x1a\\xc1\\xed\\xe0g\\x04\\xb7\\xde\\x9cLZf\\x1a\\xc5M\\xc3\\xad\\x04\\xb7\\x18\\x8a\\xc1\\r\"\\x95\\xc45D\\xb1[\\x88\\xd0\\x06\\xbe\\x856\\x13\\x1d\\xdf\\xed\\xb9Ur\\n+\\xd0l\\n4M\\x81\\xa6u\\x1a\\xa1\\xcd\\xacKh\\xa3m\\xe5D\\x06\\xfbZ)mq\\xb8\\xd2f>\\xa5|\\xcb\\x07\\x13dO\\x87f\\xd9\\xa3\\xb4u\\xd5\\xdf#\\xd1f\\n\\xd3\\xfc\\xdeU\\x19\\x8d\\xd0\\x16\\xab\\xd7\\xf3\\t\\xb7I\\xec]\\xa4\\x93\\x9bN\\xa3\\xb4\\x19\\x8d\\xd0\\x16C1\\xb4\\x81\\xd9$7X\\x89\\xe0\\x06\\xa3\\x057\\rO\\x93\\x9bY\\x82\\xe0\\x96\\xd7l\\xccS\\xa9\\xf86\\xbd@\\xd3:\\x8d\\xe0f\\xe2\\x11\\xdc`\\xdfLr\\x83\\x9d\\x93\\x83\\xe3\\x10\\xc6\\xae\\xcb\\x86kT\\xee#(\\xb8\\xc5\\t\\xf2\\xc9M\\x974\\x8a[W->\\x12nZx\\xd6\\xe4f4\\x82[,n\\x1b\\xdczs\\xc4M\\xda(*S\\xb9\\xe7\\x9b\\x0e\\xa7\\x11\\xdcb(\\x067,\\xe0s+\\xc50C\\xf7\\xd8\\xe5\\xb5\\x0c\\xacr\\xe5\\x0e\\xd6\\x8a\\x0e\\x88k\\x17\\xbb\\x1c\"\\xcd\\x1e\\xf0]G\\x81\\x9f\\xc6i\\xe4\\x10iz\\x0eh\\xbf?\\x1a?S\\xd2|\\x82U\\xcf\\rg\\xe9~\\n\\x1c\\xceoh`\\xad\\xb9\\x18\\x0c\\xd6l5\\xd8-f\\xa4\\x92Uu\\x95\\xe3#\\x11\\xa6E\\xe8\\x9a~T-v\\xd3\\xd1\\x1b\\x9d\\x10\\x16+\\xdf\\xf3\\t\\xdf\\xe1-\\xf7>\\xd2\\x88\\x99\\xba\\xbe f4\\x82\\x18T\\xf7\\xa5\\xf9oXN\\xc7\\x90^\\xcd\\x83Y\\x11\\x8b\\xbe\\xd9\\xba\\x82\\xb1\\x8aX\\xbe\\xfb\\xe1\\xc6\\xec5\\xfb\\xd9\\x14h\\x1a\\xa7\\x11\\xc4\\nZ-\\x9c\\x1fIe\\xb8\\'R\\x1c\\xc6]\\xd1\\x93#<.\\x1e}\\x07\\xa3g\\xc2\\x18v\\\\d\\xda\\x00\\xcdjF\\xb3XWX>\\x12c\\xa6\\xc4-\\x8c\\x19\\x8d0\\x06u\\xf4\\x89T\\x8c\\xab\\xde\\x1e\\x19\\x93\\xc6\\x8b\\xbd&\\xbe.\\xea\\xa9\\xd1\\xb4\\x0c\\x08cP\\xf1\\x97+\\xfba\\x9a]\\xc3\\xbe95\\xc2\\xf03:@]\\xc3\\xf09\\xcd\\xbdJZ\\xd7n\\x85\\x92\\xc8\\xcc\\n\\xf9\\x8e\\xb1\\xc0O\\xe34B\\x99\\x99K\\x0e\\x8cF#\\x94\\xc1\\xd37\\x89\\x0c\\xb6T\\x0f\\x8c\\xb8\\xe3rb\\x8cf\\xa5,Z\\xf3gE]\\xcd(e]\\x15\\xfaH\\x94iA[3\\x99\\xd1\\x08ePn\\x9f\\xc8\\xed}\\xd5\\xdb\\xd3\\x99\\xcc\\xb4\\x04H&3\\x1a\\xa1\\x0c\\x1a\\x034\\x93A\\xa8z\\x13\\x02\\xa3\\x152lJ\\xc0\\xf2\\xe8j\\xbf\\xcc\\xaa\\xff\\xca\\x8d\\x9c\\x16M\\xf0\\x02Y^\\xb3\\x19f\\t_\\xef!?\\x8d\\xd3\\x08df.\\x81\\xcch\\x04\\xb2\\xb8\\'\\xa6o\\x10wE\\n\\xce`\\x96N\\'\\xb0\\xeai1N\\x9d\\xbf\\xfe\\xd0\\xc5\\x8c2\\xd6\\xd5\\xa7\\x8f\\xc4\\x98\\x96\\xba\\x951\\xa3\\x11\\xc6b}\\xdd\\xbc\\x8f\\xf5\\xe6t\"3\\xcd\\x03\\x82\\x98\\xd1\\x08b\\xd0B\\xa0\\x88A\\x03\\x824@U\\xd1\\xac\\x87\\xc5\\x94u\\x95\\x1c\\xbb\\x1e\\xac\\x81\\x0c\\xb9\\xf70\\xeb\\x934f4r\\xef\\x91\\xd7\\xb4.\\x1e!\\xcc\\xf8\\x11\\xc2pO\\xf4\\xb0\\x08\\xcfC\\x0f\\x8b\\xf0<$\\x8bE\\xab\\x12\\x16\\xady\\xc2t1\\xa3\\x84u\\xa5\\xea#\\x11f\\xaa\\xe8t\\xe6]TF#\\x84A\\xa9^/\\x18{s\\x9a0\\xd3M \\x84\\x19\\x8d\\x10\\x06=\\x05zT\\x04\\xb39*\\xa2]\\x8e\\x8a`\\x96\\x1b\\xc6\\x94um6\\x92_\\xb6n\\n4\\x9b\\x02M\\xe34\\x92\\xc5\\xccn\\ncF#\\x8c\\xc1\\xc37GE\\xd8\\x15e,\\x9a\\xb9#\\xf4\\xce}\\xfa\\xe4n1z\\xc8\\x93\\xa6K\\x1a%\\xad+i\\x1f\\x894S^\\xa7\\xcd^TF#\\xa4A\\r_\\xbe\\xa1\\xb5w\\x91>.\\x9a6\\x03!\\xcdh\\x844h6P\\xd2\\xc0lHC\\xbb\\x90\\x16\\xcdz\\xbb\\x08\\x83\\xe9\\x03\\xb16\\x1b\\xc9\\xb7\\xef7\\x05\\x9aM\\x81\\xa6)\\xd0\\xb4N#\\xa4\\x99\\x1d\\x17\\xd2\\xe2\\xaaMc\\xef0\\xcf\\xee=XI\\x8b\\xc3\\xf9\\xea\\xf2\\xce}\\xfa\\x844\\xec\\x00\\xc9\\xdd\\x7f\\x94w\\x84\\xd4\\xc7\\xeb\\x08\\xd9\\xb9\\xa2\\xfbC\\xfa\\xe8.\\x9cF\\xbeX\\x0c\\xfd\\x00z\\xff\\xb1\\xf7\\x91Ljf\\x1e\\xb9\\xffp\\x1aFm\\xd0\\xec\\x1e\\xac~\\xc1\\x98Z\\x17\\xe8+\\xfc0Z\\x8e\\x8dI\\xeb\\x8afF\\xcfk\\x17;\\x1f\\x1b\\x0b4\\x9b\\x02MS\\xa0i\\x9d\\x86As\\x1a\\x06\\x8d\\xf6D\\x8e\\x8d\\xb8+r\\xfb\\x01f\\xa9N\\x83U.?pl\\xf6\\x9b\\xc6\\xda\\xd82\\x96\\xccj\\xdb\\x05RO\\xb6\\xd7\\'\\xe6Wb\\xc4\\xef\\xe9\\x9bj\\xba\\x00e4\\x02\\x14\\xf6|\\xc8\\x85\\xe2.\\xc0W\\xa7i\\xa0Lk\\x01\\xe7\\xae\\xbd\\x1f\\xb8t\\x14\\xa0\\xd2M\\x1f\\x83\\x8b}/\\x10\\x03\\x15Gsn\\xba6\\xf3\\xcb\\xb7$a\\x02\\xf6\\xb0v+\\xe0\\xfb\\x0e\\xa7\\xe1\\xeaX\\x81\\xa6)\\x98\\xabu\\x1a\\xc1\\xaa\\xa0\\xe9\\x03W\\xad_6\\x06\\xbb6}\\xe0S\\xe1\\xea\\x18X\\xe5m\\x0c\\xac\\xda\\xbbhV8\\xcaQW\\x9b>\\xce\\xa1\\xb0\\xd62w-d\\x19\\x8d\\x90\\x05\\xd5}\\xbdD\\xdc\\xcf\\x93<\\x15\\x9aX4Ui,\\xd2N5\\xf8\\x19IU1\\xd4JO\\x850\\\\s\\x15\\x8c&$Vf\\t\\xd2\\xe0\\xe1\\x96)h\\x99e\\xf2EG\\x81\\x9f\\xc6i\\xf8%\\xcci\\x04-\\x13\\x8fd\\xac\\xb83\\xe6h\\x88\\x8fE\\xae\\x12\\xc1,W\\x89\\xees*\\xbf #\\x06\\x90\\xff\\r\\x19\\xba\\xa4Q\\xde\\x8e\\xd7\\xe0\\xd1\\xfdj(n\\xb8\\x17\\xde\\n\\x1a<\\x06?\\xbe{qoN\\xe3V\\xd0\\xe0a\\xc2U\\xdc\\xd2\\r\\x1e\\x18\\xa9\\xdc\\xd9\\x83Yi\\x03\\xdfB\\x1bX\\xf9\\x15\\xcc\\xc5.\\'\\xc3\\x82\\x06\\x8f\\x02?M\\x81\\xa6u\\x1a\\xe1\\xcc\\xc4#\\x9c\\xc5U;\\xce`W\\xf4d\\x18\\xcd\\xca\\x19\\x0c\\xe6\\xe23<\\xac<a\\xa6\\xa3e\\xa4\\xc1\\xa3\\xb6\\r\\x1e%\\'C\\xd3\\xceA\\x0fy\\xb1s\\x9ei\\xe7\\x184=Ot\\xa0[\\xee\\xcdi\\x9e\\n\\xba9L(\\xca\\x13\\xb4\\x07\\xc8\\xa5\\x06Dj~\\x97S\\xaa_\\xe3\\x1a\\x06\\xd3\\x87o\\xe5\\x82\\xe3f`\\xa7\\x91\\xe4e6B\\x92W^\\xd3\\xb8\\xb9$y\\x15\\xb4t8?\\x02U\\xa6\\xa5\\x036\\xce\\x9c\\x0b\\xe3p\\x85*Z\\xf5\\\\\\xf8\\x7fut\\x98\\xc5\\x8c\\xa6\\xad\\xae,-\\xc7\\xc4\\x12\\xa8\\xb4\\x9e]\\x0bTF#\\x87B\\xa8\\xe0k\\x8f\\xd4\\xf6\\r\\xafK\\x86i\\xaaL\\xa7\\x80\\xbcn\\x19\\x8d\\xbcnA;\\x80R\\x05\\xed\\x00\\xfa\\x1b\\xd2\\xd0\\xcc\\xbf\"-Z\\x85\\xaa\\x84q\\xbd\\xdf\\x01xQ\\x14\\x9c\\xcc\\xea\\x04\\xa7\\xbc\\xa6qs\\tN\\xc6\\x8f\\xe4(\\xa3\\x11\\x9c\\xe2\\xa2]\\x8e\\x82\\xa7\\xa1gA\\xf8\\xe0\\xc8k\\x96\\x06 \\xdfd\\x19\\x16\\xbbk\\x17\\xce\\xdea\\xa8\\xc7Q\\xa8\\xba:\\xf47A\\xa5\\x05\\xec\\x9a\\x1e\\xe3\\xa26\\x1a\\x81\\nz &t\\xeaY\\xee]D\\xa6\\xf47\\x0e\\x9a\\xc6\\x00a\\xcah\\x84)\\xe8\\xb7P\\xa6\\xa8\\xb7\\x80\\xaf0`\\xb4tk\\x0c{\\xb1{\\x8b\\x93\\xa3\\x1f\\x0c\\x96\\xa3_\\xbe\\x13\\xe3\\xc6\\xec\\xb54\\x1e\\x16h\\x1a\\xa7\\x11\\xac\\n\\xba5\\x9c\\x1f\\xc1*\\xae\\xdaa\\x05\\xbb\\xa2X\\xe1\\x8es1\\xd9}\\xfa\\xe4\\x1d+\\xba\\xc86F\\x19\\x8f\\xa3\\\\u\\xd5\\xe7o\\xe2J\\xcb\\xd6\\xca\\x95\\xd1\\x08W\\xb1X>77\\x18\\xbd=\\x9d\\xacL?\\x80\\x80e4\\x02\\x16\\xf4\\x04(X\\xd0\\x13\\xa0\\xc9\\nF+X\\xd0\\x15@]P\\xb5\\x89N\\xce\\x80F#I+\\xaf\\xd9\\xb8\\xb9\\xb8\\x17\\xcai\\x84.3\\x97$-\\xa3\\x11\\xba\\xe2\\xc68\\xba`_\\xa5\\xb65\\x84\\xbao\\x01\\xa5_\\xbfaV\\xa2Y\\x0b\\x1eM6k\\xe9\\x9aF\\xe9\\xea*\\xce\\xdfD\\x97\\x96\\xaa\\x95.\\xa3\\x11\\xba\\xa0B?\\xa1G\\xb8\\xac{s\\x1a.\\xd3\\x08 p\\x19\\x8d\\xc0\\x05\\xcd\\x00\\n\\x17\\xf5\\x12p\\xd6\\x82\\xd1\\n\\x174\\x020\\\\&:\\x81\\xcbh\\x04\\xae\\xbcf\\xb3\\xdf\\xd1\\xd4\\xc9\\xb2q\\x1a\\x81\\xcb\\xcc%p\\x19\\x8d\\xc0E\\xdb\\xca\\xdf\\xb6\\x1cb\\xf1\\x85c4K\\xcf\\xbcY\\x89\\xc2\\x05\\x8f&\\x0b\\x97\\xaei\\x14.\\xdb\\xa3Q\\xf2\\x9ee\\xba-\\xe4HX\\xd0\\x91QcG\\x86\\xc0\\xd5\\x9b\\xd3GBS\\xfb\\x17\\xb8\\x8cF\\xe0\\x82\\xae\\x08\\x85\\x0b[*\\xf8\\xdb^\\xb0\\x10\\xbd\\x0cLu\\\\\\xac`l%\\'B\\x13\\xbb`\\x95\\xd7l\\x86Y\\xc6\\xbb\\x14\\x9b\\x02M\\xeb4\\x82\\x95\\x89G\\xb0\\x82G\\xaf\\x9dO\\xb8+z\\x19\\x08[\\xaaX\\xc1\\xe3\\x92\\xdb\\xc0h\\xcd\\x9f\\x05u5\\x02\\xd4\\x8b\\xe7\\xff\\xaf\\xc2\\xff\\x00\\x00\\x00\\xff\\xff\\x00\\x00\\x00\\xff\\xff\\xccR\\xc1j\\xc30\\x0c\\xfd\\x15\\xe3\\xfb\\xea$c\\x94\\x85\\xa6\\xb0\\x0e\\x06=\\x0c\\x06=\\xec\\xec%rm\\x96XFV\\xb7\\x8e\\xb1\\x7f\\x9f\\x92&\\xeb/\\xcc\\x07Y\\x92\\xe1===o\\xec\\x89\\xf1)\\xf4\\x0c\\xa4\\x08\\\\\\xa3\\x1f\\xca\\xfa\\xb5\\xba\\xd7\\xeaL\\xf5)t\\x8d\\xfe.\\xe6s#w9\\x86\\xe2\\x1a\\x96\\xb7\\x1f\\xbd\\xddd$>\\xb0e\\x98q\\xaa\\x19g\\xe8c\\xae\\xcf=uU\\xa3=s\\xaa\\x8d\\xc9\\xad\\x87\\xc1\\xe6\\xd5\\x10Z\\xc2\\x8c\\x8eW-\\x0e\\x06\\x9d\\x0b-\\x98\\x9c\\x08l\\x97=\\x00\\x0f\\xbd\\xa9\\x8arm(\\xb4\\xbe\\xb3l\\xab\\x99\\xe6\\x11c\\x178`\\xbcP\\xed\\xcaz\\'#\\x9b\\xed\\xc6\\xfc\\r!\\xf9U\\xd9\\xff\\x1b.y\\x8c\\xc0\\xa1}!\\xe50\\xf2^\\x16}\\xab\\x15\\x7f%htD\\xd1\\xf7\\x01\\x94E\\xe0(*\\xd9#<[:\\x86\\x98U\\x0f\\x8e\\x1b]\\xac\\xd6ZQ8\\xfa%gLS\\xf7N\\xab7d\\xc6a\\xa9\\xbc\\xac\\x12h\\xac\\x04\\xde!\\x8a\\xcd\\x97b\\xc6=\\x00\\x9f\\x92B\\n\\x10\\xc5:!lt\\x12\\x1f\\xc9\\x06\\x16\\x86z\\xfc\\x00\\xb4\\xef\\xcai\\xb7\\x9fH\\xef\\x93-\\xdb_\\x00\\x00\\x00\\xff\\xff\\x03\\x00PK\\x03\\x04\\x14\\x00\\x06\\x00\\x08\\x00\\x00\\x00!\\x00f\\x1c\\x9c#\\x9f\\x03\\x00\\x00\\x89\\x0e\\x00\\x00\\x13\\x00\\x00\\x00xl/theme/theme1.xml\\xccW\\xc9n\\xdb0\\x10\\xbd\\x17\\xe8?\\x08\\xba7\\xb6b\\xcb\\xb1\\x8d8A\\xe2\\xc4\\xe8\\xa1E\\x81\\xbaE\\xcf\\x8cD-\\tE\\t$\\xb3\\xfd}\\x87C-\\xa4%7\\xcd\\x06\\xc4\\'i\\xfc8|\\xb3\\xf0\\ru|\\xfaP0\\xef\\x8e\\n\\x99\\x97|\\xe5\\x07\\x07c\\xdf\\xa3<*\\xe3\\x9c\\xa7+\\xff\\xf7\\xaf\\xcd\\x97\\xb9\\xefIExLX\\xc9\\xe9\\xca\\x7f\\xa4\\xd2?=\\xf9\\xfc\\xe9\\x98,UF\\x0b\\xea\\xc1z.\\x97d\\xe5gJU\\xcb\\xd1HF`&\\xf2\\xa0\\xac(\\x87\\xff\\x92R\\x14D\\xc1\\xabHG\\xb1 \\xf7\\xe0\\xb7`\\xa3\\xc3\\xf1x6*H\\xce}\\x8f\\x93\\x02\\xdcn3J\\x95\\xf4O\\x1a\\xb7\\x97\\x0c|s%\\xb5!bb\\xab\\x9d\\xd2>6\\xbe\\t4B\\x8a\\xf4j\\xcd\\x84wG\\xd8\\xca\\x1f\\xe3\\xcf\\x1f\\x9d\\x1c\\x8f\\xc8\\xb2\\x060\\xd5\\xc7m\\xf0W\\xe3j@|s\\xf8\\x94?\\x040\\xd5\\xc7\\xed\\xf8C\\x00\\x89\"\\x88\\xa2\\xbf\\xf7\\xf4p\\x1en\\xa6\\xf5\\xde\\x16\\xc8<\\xf6}_\\x9eM\\'\\x93\\xd0\\xc1[\\xfe\\'=\\xce\\x9b\\xf3\\xf3\\xf5\\xd8\\xf5\\x8f \\xe3\\x7f\\xda\\xc3O\\xa6g\\xf3p\\xe2\\xf8G\\x90\\xc1\\x87}\\xff\\x9b\\xd9\\xc58p\\xf0\\x082\\xf8Y\\x0f?\\x9d\\x9d_\\xacg\\x0e\\x1eA\\x19\\xcb\\xf9M\\x0f\\x1d\\x04a\\xb8^\\xd7\\xe8\\x16\\x92\\x94\\xec\\xeb\\xd3\\xf0\\x0e\\x05\\xd5o;Go\\x91\\x94\\\\\\xed\\xeb\\xa3\\x82\\\\\\x97b\\x03\\x00\\rdD\\xe5\\xdcS\\x8f\\x15MH\\x04\\xbdy&r\\xc24\\x1b\\xb2\\xa4d\\xd8\\x1e\\xc9!;0p\\x1c\\x179\\x7f\\xa7]:\\xc7\\xb0g\\x17(\\x86]\\xb8Q\\xffH\\x92<\\xa2x\\xd2\\x92\\x9c\\xb1\\xadzd\\xf4\\x9b\\xc4\\xc0e\\xc9\\xf2x\\x03F\\xac\\x08\\x1e\\xb9\\xf6TU\\x19<\\xd6%qp\\xa9 \\xb8\\xc6\\x13\\xa5\\xfa\\x93\\xabl\\x9b\\x91\\n\\x92\\x16\\xe0\\x0e\\xa9\\xac]\\xa7\\xd2\\xabJ\\t\\x87\\x13\\xcd\\xa8\\x11t\\xc77\\xa6\\xfe\\xb6\\xf8^\\xc6\\xe6\\x1c\\x07\\x81>\\xc8&\\xef\\x92\\xa8\\xce>\\x0e[;\\x14J\\x19\\xf4\\xec\\xa86B\\x02Z\\xf7(\\x01)\\x8aHC@\\xaf}\\x0e\\tk3\\x97\\xc4d\\x80\\xc4Qc|\\x82\\x04F\\xf6&,\\x16\\x03,\\xe6\\xda}S\\xaa\\xa6\\x8am*\\x80Z[\\x158N\\x1e\\xd1B\\x1fN\\x8dhz2\"\\x8c\\xc6\\xbaNF?\\x9b\\xea\\xea\\xe2\\xbci\\xa5\\xf7%\\x93\\xd9\\x1d0\\x869Qw@W\\xe9\\x85\\xe6\\xba7<\\x1d\\x9di\\xb5\\xff\\xa8\\xb4C\\xc2j7\\x97\\x84\\xd5\\x86\\x19\\x89i\\xdd\\x9d\\xf6\\x94\\xf9W\\xc3=\\xb7\\xd6\\x8b\\xae\\xa4\\x0e=\\x9d\\x8a\\xe64t4\\x8e\\xe6\\xefQk-\";\\xda\\xc0\\xb8\\xad\\x14\\x8c{\\xf7+\\x7f6\\t\\xe1\\xba\\x10\\x91j\\xe5\\' \\x9a\\xf0XT\\xd0;\\x92\\xa7\\xbeGX\\n\\xf7\\x89H\\ts\\xe0_\\xa2,\\x95\\x90\\xea\\x82\\xc8\\xcc$\\x1cE\\xc7\\xa8A\\x91+*<\\x96\\x17+_\\x87\\xdfv\\x03\\xe3\\xa8!\\xc8-8\\x04A\\xf8\\xb0\\xe4\\x16 +\\x1f\\x8d\\x1c\\x14\\xdd-2M\\x12\\x1a)\\xbb\\xec\\x96\\x05\\xa7!\\x02@\\xe1\\x8dV\\x0c\\xfe\\x8b\\xcb_\\x0e\\xd6+\\xcb[(\\xf76\\x8b\\xef\\xbd+v+~\\x12h\\xb1\\xf0(\\xd0\\t\\x8cs\\xa9`\\xd4\\x98l\\xc6\\xb9\\xb0\\x84\\xac\\xeb\\xbf\\x9d\\xc1T\\xcb\\xee\\xc0\\x8dQ\\xefEX\\x95\\x91z\\xa2\\xd8bn\\xe0(\\xa2-\\x1d|3A\\xe3\\x94\\x83\\x04:)p\\xdf\\xebAx\\x95\\xea\\x01\\xfb\\xea\\xa9\\xfb\\xf4\\xa8\\xd6\\xd1X\\xa2\\xd9\\xcdLGU\\xf4\\xd4\\x1c\\x16\\xd3\\xf7\\x1b\\xf2\\x16\\xabn\\x88:\\xac\\x8ct\\xe3\\x8dKvZ\\xb7h\\xb4\\x0e\\x1aupJ\\xbc~\\xf4[\\xd4\\xba\\xcd\\x1cj\\x9aq_\\x86\\xb5f\\xd7V\\x97\\xda\\x1b^\\x08\\xacL\\xcc\\xf6\\xe4\\xad\\x9d\\x11\\x83\\x99x\\xe9\\xe4\\x87u\\xbb]\\xab\\x07Ds\\xaf\\xc4c\\x80\\xdf\\x82\\xf6G[yu\\r\\xe2q\\x01W\\xe8[\\xa6\\xa4\\xb9<?(A\\xe0\\xd2g.\\xe1\\xadl\\xe0\\xd2\\x93\\xbf\\x00\\x00\\x00\\xff\\xff\\x03\\x00PK\\x03\\x04\\x14\\x00\\x06\\x00\\x08\\x00\\x00\\x00!\\x00,ed\\xce\\xf1\\x02\\x00\\x00~\\x08\\x00\\x00\\r\\x00\\x00\\x00xl/styles.xml\\xb4V[o\\x9b0\\x14~\\x9f\\xb4\\xff\\x80\\xfcN\\xb9\\x14\\xb2$\\x02\\xaa\\xa6)R\\xa5n\\x9a\\xd4N\\xda\\xab\\x03\\x86X\\xf5\\x05\\x19\\'#\\x9b\\xf6\\xdfw\\xcc%\\xa1j\\xd2\\xae\\xdd\\x9a\\x87`\\x1f\\xec\\xef|\\xe7|\\xc7\\xc7D\\x17\\rg\\xd6\\x96\\xa8\\x9aJ\\x11#\\xef\\xccE\\x16\\x11\\x99\\xcc\\xa9(c\\xf4\\xed>\\xb5\\xa7\\xc8\\xaa5\\x169fR\\x90\\x18\\xedH\\x8d.\\x92\\x8f\\x1f\\xa2Z\\xef\\x18\\xb9[\\x13\\xa2-\\x80\\x10u\\x8c\\xd6ZWs\\xc7\\xa9\\xb35\\xe1\\xb8>\\x93\\x15\\x11\\xf0\\xa6\\x90\\x8ac\\rSU:u\\xa5\\x08\\xcek\\xb3\\x893\\xc7w\\xdd\\x89\\xc31\\x15\\xa8C\\x98\\xf3\\xeco@8V\\x0f\\x9b\\xca\\xce$\\xaf\\xb0\\xa6+\\xca\\xa8\\xde\\xb5X\\xc8\\xe2\\xd9\\xfc\\xa6\\x14R\\xe1\\x15\\x03\\xaa\\x8d\\x17\\xe0\\xccj\\xbc\\x89\\xf2\\xadF\\rNZ\\xeb\\x13?\\x9cfJ\\xd6\\xb2\\xd0g\\x80\\xeb\\xc8\\xa2\\xa0\\x19yJw\\xe6\\xcc\\x1c\\x9c\\x1d\\x90\\x00\\xf9mH^\\xe8\\xb8\\xfe\\xa3\\xd8\\x1b\\xf5F\\xa4\\xc0QdK\\x8d|(\\x89\\n)tmer#t\\x8cB jR0\\x7f\\x10\\xf2\\x87H\\xcd+P\\xb8_\\x95D\\xf5Ok\\x8b\\x19X\\\\\\xe4$Q&\\x99T\\x96*W1JS\\xb7\\xfd\\x19\\xb3\\xc0\\x9ct\\xcb.\\x15\\xc5\\xcc\\x98\\x1c\\xe3\\xa4su\\x1cD\\x83\\xfe\\x90~\\xef\\x9d\\xf6\\x17\\x98S\\xb6\\xebH\\xf9\\'\\tMOx\\x7f~\\xf7\\n\\xe2;\\x96\\x97\\x17B:\\x05\\xda\\xa6\\xaa\\x86\\\\Q\\xc6\\xf6\\xb2\\xf8F\\x010$\\x11\\xd4\\xaf&J\\xa40\\xb1\\xfa\\xf1\\xfd\\xae\\x82\\xd4\\t8j]d\\xed\\xba\\x17V\\x97\\n\\xef<?\\x1cmpZ\\x87I\\xb4\\x92*\\x87\\xa3=\\x14\\x84\\xd1\\xbe3%\\x11#\\x85\\x86`\\x15-\\xd7\\xe6\\xa9e\\x05\\xff+\\xa95\\x94\\x7f\\x12\\xe5\\x14\\x97R`f\\xe4\\x1ev\\xf4\\x03\\x08\\'#\\x8c\\xdd\\x99\\xe3\\xff\\xbdx\\x84\\xdd\\x14\\x96\\xd8\\xf0\\x94\\xeb\\x9b<F\\xd0HL\\xa1\\x0cC\\x08\\xa4\\x1fvx\\xdd\\xc4\\xe0\\x8f\\xd1:\\xec\\x11l\\x00\\x94_\\x0fk5E\\xef\\x0cW\\x15\\xdb\\x99\\xd27\\xf5h\\xb5\\xb3KFK\\xc1Ig\\x02\\x02\\xa7\\xe0a\\xbdI\\xe3\\x11\\xd6\\xff\\x05\\xde\\x7f_\\xf8\\xe0\\xb5\\xf0\\x83\\x14\\x90\\xfc\\x91\\xc2\\x8f\\xf4\\xdd+e\\x99\\xb6\\x10\\xa3/\\xa6\\xb53\\xe82C\\xb6W\\x1b\\xca4\\x15G\\xb4\\x05\\xcc\\xbc9TK\\xdbr\\xb4i\\xd3m\\x1d\\xed\\xbd@\\xd1\\xe4\\xa4\\xc0\\x1b\\xa6\\xef\\xf7/ct\\x18\\x7f&9\\xddpH]\\xbf\\xea+\\xddJ\\xddB\\xc4\\xe80\\xbe5E\\xedM\\xcc\\x81 \\x8d\\xbe\\xad\\xa1[\\xc1\\xd3\\xda(\\x1a\\xa3_\\xd7\\x8bO\\xb3\\xe5u\\xea\\xdbSw1\\xb5\\x83s\\x12\\xda\\xb3p\\xb1\\xb4\\xc3\\xe0j\\xb1\\\\\\xa63\\xd7w\\xaf~\\x8f.\\x8b\\x7f\\xb8*\\xda\\xbb\\r\\n\\xcc\\x0b\\xe65\\x83\\x0bE\\xf5\\xc1\\xf6\\xe4\\xef\\x0e\\xb6\\x18\\x8d&\\x1d\\xfd\\xf68\\x03\\xed1\\xf7\\x99?q/C\\xcf\\xb5\\xd3s\\xd7\\xb3\\x83\\t\\x9e\\xda\\xd3\\xc9yh\\xa7\\xa1\\xe7/\\'\\xc1\\xe2:L\\xc3\\x11\\xf7\\xf0\\x8dW\\x8a\\xebx^w9\\x19\\xf2\\xe1\\\\SN\\x18\\x15\\x83V\\x83Bc+\\x88\\x04\\xd3g\\x82p\\x06%\\x9c\\xc3\\x87C\\xf2\\x07\\x00\\x00\\xff\\xff\\x03\\x00PK\\x03\\x04\\x14\\x00\\x06\\x00\\x08\\x00\\x00\\x00!\\x00\\x9e\\x8d1\\xc6\\xb0\\x02\\x00\\x00\\xdc\\x06\\x00\\x00\\x14\\x00\\x00\\x00xl/sharedStrings.xml\\x94U\\xefO\\xdb0\\x10\\xfd>i\\xff\\xc3)_V4\\x95\\xb4\\xe5W4\\xb5EY)\\x0c\\xa9m\\xb2\\xa6\\x1d\\xf0\\ty\\xce5\\xb1H\\xec\\xccv\\x06\\xe5\\xaf\\x9f\\xd3\\x0e\\x81\\xec\\x08m\\x1fs\\xf7\\xee\\xe5\\xfc|\\xf7<<\\x7f*\\x0b\\xf8\\x8dR1\\xc1G^\\xff\\xb0\\xe7\\x01r*R\\xc6\\xb3\\x91\\xb7^]v\\x03\\x0f\\x94&<%\\x85\\xe08\\xf2\\xb6\\xa8\\xbc\\xf3\\xf1\\xc7\\x0fC\\xa54\\x98Z\\xaeF^\\xaeu\\xf5\\xc5\\xf7\\x15\\xcd\\xb1$\\xeaPT\\xc8Mf#dI\\xb4\\xf9\\x94\\x99\\xaf*\\x89$U9\\xa2.\\x0b\\x7f\\xd0\\xeb\\x9d\\xfa%a\\xdc\\x03*j\\xaeG\\xdeQp\\xeaA\\xcd\\xd9\\xaf\\x1a\\'\\xfb\\xc8I\\xcf\\x1b\\x0f\\x15\\x1b\\x0f\\xf5x\\xb5\\xad\\x10\\xc4\\x06TI\\xa4\\xaer\\xd3\\x06lE\\r\\x1c1\\x1d\\xfaz<\\xf4\\x1b\\xd8\\x1e\\xfaU\\x9aN\\xe1\\xced\\'\\xb9\\x10\\n\\xed|C\\xd5\\x16k\\xe8S\\xa6\\xaa\\x82lw\\xdc\\xa6\\xdd\\rJ\\x1b\\xb9\\xc4\\x8dD\\x95\\x83$\\x1aA\\x0b\\xa0\\xbb\\x7f@\\xe7\\xdb\\xf3\\x81C*j\\x9a\\x83\"eU\\xa0\\x0f\\xa6\\xaa\\x12\\\\\\xe1\\xbe\\xb2\\r\\x1fKfN\\xb7\\x85\\t)Q\\x12\\xe8\\xcc\\xe3\\x83]#\\x8f\\x84k\\x9b{]hI\\xba\\x8f,E\\xa0\\xafp\\x1b\\x954\\xf9\\x8d4\\x00G$B\\x1f &\\x1c\\x0b7\\xa35\\x9a.\\x1a\\x01\\xe3\\x9d\\x04\\xd0)\\xc3\\xdc9\\xdd\\r\\x93\\x98\\x9a\\xe3\\x13\\x99\\xa14MT\\x842\\xbd\\x85\\xce\\xa3\\x83\\x0c\\xe3x6\\xb5\\x7f\\xb3\\x10\\xbc{)\\x8a\\x94\\xfc,\\x9c\\xe6\\xc2y4\\x9b^\\xd8\\x15\\'F\\x11B\\xa5p\\xf8\\x93hq\\xe7\\x9c<\\x9c\\'\\xeb\\xc5\\x95\\x1d\\x0e\\x8b\\xbad\\x9c\\xd5\\xa5\\x9d\\xb8*\\x88Rv\\xf0\\xa5\\xbf7S\\xe7\\xd4\\x11\\xc3\\x97\\xd9Q.\\xf4n4\\xdd\\xe1\\x0c\\x93ub\\xa3\\xa3\\xc54\\x9e\\xb9\\xe1\\xd9t\\x11\\xfd\\x88l\\xf0\\xedu\\x18\\xcd\\xaf\\xed\\xe8r\\x1a\\xce\\xe6\\x8e\\xc6\\xf3h\\x15-\\xa3Yh\\xa3\\xaf\\xbfG\\x0eo\\xc2I\\x95J\\x92\\t\\x0eA\\x10|v\\x84k\\xee\\x10\\xc2\\xfe\\x89\\x9d\\x88\\xa5\\xa0\\xa8\\x94\\x90\\xef\\xecLl\\xc4\\xd5\\x8c:w\\xa4\\xcd\\xfa\\x17\\xa6\\x18\\x12\\x8d\\xee N\\xa9\\x80\\x19\\x12\\x9d\\xbbKx\\xb1\\xe5Fw\\xda\\xdd\\x0fJwp\\xebPS\\x89\\xc8!a\\xcf{\\x9fh\\xdf\\xe5d\\x8fZ\\xa2\\x12E\\xad\\x8d\\xf9\\xd94\\xfdAp\\xfc48;\\x0b\\xec\\xc4`\\xd0\\x0b\\x9e\\xfag\\xa7Nb\\x85R\\xb3\\xd7%\\xbe\\xd7X\\xa0\\xb1+c\\x14F\\xa1\\xb2\\x19\\xdf\\xfbw\\xf6U!o\\x94T\\xa6\\x88j\\xb3]\\xc6>\\xa1o<\\xd6\\xf8B\\xe6lI\\x1bx`\\x9c\\xef\\x9f\\xc1G\\xf2?\\xc0\\xc7:og\\xbeA\\x96\\xe5\\xba\\xc5\\x9b\\xf7\\x9aC\\'k\\xb5\\x8e\\xdd\\xbdO\\xfe\\xbaG\\x8bi\\xacrF\\x1fx3\\x1c\\x8d\\xcf\\xbfp\\x95\\xa5Cv!\\xf8\\'\\r\\x0b\\xf3\\x10\\x80\\xce\\xd9\\x9b\\x1d\\xf6\\xcd\\xeb4\\xfe\\x03\\x00\\x00\\xff\\xff\\x03\\x00PK\\x03\\x04\\x14\\x00\\x06\\x00\\x08\\x00\\x00\\x00!\\x00;m2K\\xc1\\x00\\x00\\x00B\\x01\\x00\\x00#\\x00\\x00\\x00xl/worksheets/_rels/sheet1.xml.rels\\x84\\x8f\\xc1\\x8a\\xc20\\x14E\\xf7\\x03\\xfeCx{\\x93\\xd6\\x85\\x0cCS7\"\\xb8U\\xe7\\x03b\\xfa\\xda\\x06\\xdb\\x97\\x90\\xf7\\x14\\xfd{\\xb3\\x1ce\\xc0\\xe5\\xe5p\\xcf\\xe56\\x9b\\xfb<\\xa9\\x1bf\\x0e\\x91,\\xd4\\xba\\x02\\x85\\xe4c\\x17h\\xb0\\xf0{\\xda-\\xbfA\\xb18\\xea\\xdc\\x14\\t-<\\x90a\\xd3.\\xbe\\x9a\\x03NNJ\\x89\\xc7\\x90X\\x15\\x0b\\xb1\\x85Q$\\xfd\\x18\\xc3~\\xc4\\xd9\\xb1\\x8e\\t\\xa9\\x90>\\xe6\\xd9I\\x89y0\\xc9\\xf9\\x8b\\x1b\\xd0\\xac\\xaajm\\xf2_\\x07\\xb4/N\\xb5\\xef,\\xe4}W\\x83:=RY\\xfe\\xec\\x8e}\\x1f<n\\xa3\\xbf\\xceH\\xf2\\xcf\\x84I9\\x90`>\\xa2H9\\xc8E\\xed\\xf2\\x80bA\\xebw\\xf6\\x9ek}\\x0e\\x04\\xa6m\\xcc\\xcb\\xf3\\xf6\\t\\x00\\x00\\xff\\xff\\x03\\x00PK\\x03\\x04\\x14\\x00\\x06\\x00\\x08\\x00\\x00\\x00!\\x00\\xcf\\xe0G\\xb4\\xc2\\x01\\x00\\x00,\\x15\\x00\\x00\\'\\x00\\x00\\x00xl/printerSettings/printerSettings1.bin\\xecT\\xcdJ\\xdcP\\x18=3\\xb1\\xed\\xe8\\xa6\\x0e\\x14\\xdctQ\\xa4+q\\xe8\\x0c\\x93\\xa9\\xddU\\x99\\xa4vJ\\xd2\\x84$3\\xb8q1tR\\x08\\x8c\\xc9\\x90DD\\xa5\\x82\\xf8\\x1a>H\\x97.]\\xf6\\x01\\xbav!\\xc5\\x07p\\xa3\\xe7\\xa63\\xd8\\x96\\xa1\\x8c\\xe0F\\xf8\\xee\\xe5\\xbb\\xdf\\xcf=97\\xf7\\x90|6\"|A\\x8a\\x04\\x19\\xed+r\\xbc\\x82\\xcb<B\\\\\\xc49\\xab\\xaab\\xe0\\x03\\xa6\\x8d\\xd2\\x9c\\xf6\\xf4\\'\\xdc\\x17\\xda\\x9b\\x12\\xd4\\xbc\\\\H*\\x03\\xfa\\xe7\\xd8*\\x97\\xe9\\xb7\\xca\\x1aW\\x0b!\\xd9r\\xae\\xe9T\\x96\\xfb\\x15Kc\\xb8\\xf2e\\x9a\\xf27\\x1c\\x9b\\x1d_\\xff\\x93\\xc9\\xe8|\\xee.\\xe3\\x1c\\xaf\\xb5\\xd5\\xea\\xfb\\xed\\xc3\\xa3\\xff\\x9d\\xf2\\xa4\\xd8\\x9c/\\xb8\\x1e\\xe0\\x15\\x85\\xe2\\x11*0\\xf9\\xaefy\\xf5s\\x82|;\\xf8\\xa4\\xb0\\x8b\\xf8\\x8eC\\xd4\\xf1\\x0e:\\xff\\x92:\\x1a\\\\7P\\x83\\x89\\xb7h\\xb2V\\xa3\\x19X\\xe3\\xac\\x11\\xd3d\\xdddTg\\xae3o\\xd0\\xb7\\x995\\xd1*\\xb2od\\xf4L\\xdf\\xb0,t\\xe3(\\r3\\x15\\xb9\\xfdQ\\x98\\xfa\\xd1A\\x08\\xcb\\x0c\\x02\\xd3\\x83\\x93Fa\\x9c\\xf7\\xf3(\\x89\\xe1:^\\xe0mt\\x02xa\\x96\\x0cw\\x8b\\x1aCg\\xa4\\xa2\\x06\\xda\\xc90I\\xedd\\x10\\xfe\\x8e\\xfe\\xbe\\xddj\\x15\\xe8\\xe9\\x86=\\xb9\\xfb\\xe9\\xc2h\\xf9%!\\xbfh\\x1a\\xed\\xba\\xe4T\\xf4\\x8b=\\xfb\\xe4\\xea\\xd9\\xc7\\xa5\\xb3\\xd6\\xf1\\x0f\\xd6\\xac\\xf1\\x1e*w\\\\\\n\\xab\\xf2\\x95\\xb1W\\xf9:\\xad\\xa7\\xf2E\\xf0\\xfe\\t\\xfb\\xcc.v\\xd8\\x03Tg\\xe9\\xb2\\xdf\\xa8n\\xe0\\xa2\\xcf(\\xc3\\x1e\\xf7S\\x0c\\x08\\xfe\\x17\\xe9p/\\x9e\\x11\\xdb&\\xc7>F\\xe4\\xf7\\xf9\\x84:Ou\\xb2\\x9c5\\x19\\xa2\\x80( \\n\\x88\\x02\\xa2\\x80( \\n\\x88\\x02\\xa2\\x80( \\n\\x88\\x02\\xa2\\x80( \\n\\xcc\\xa2\\xc0-\\x00\\x00\\x00\\xff\\xff\\x03\\x00PK\\x03\\x04\\x14\\x00\\x06\\x00\\x08\\x00\\x00\\x00!\\x00\\x8f\\x01\\x01\\xa8%\\x01\\x00\\x00\\xef\\x01\\x00\\x00\\x11\\x00\\x08\\x01docProps/core.xml \\xa2\\x04\\x01(\\xa0\\x00\\x01\\x00\\x00\\x00\\x00\\x00\\x00\\x00\\x00\\x00\\x00\\x00\\x00\\x00\\x00\\x00\\x00\\x00\\x00\\x00\\x00\\x00\\x00\\x00\\x00\\x00\\x00\\x00\\x00\\x00\\x00\\x00\\x00\\x00\\x00\\x00\\x00\\x00\\x00\\x00\\x00\\x00\\x00\\x00\\x00\\x00\\x00\\x00\\x00\\x00\\x00\\x00\\x00\\x00\\x00\\x00\\x00\\x00\\x00\\x00\\x00\\x00\\x00\\x00\\x00\\x00\\x00\\x00\\x00\\x00\\x00\\x00\\x00\\x00\\x00\\x00\\x00\\x00\\x00\\x00\\x00\\x00\\x00\\x00\\x00\\x00\\x00\\x00\\x00\\x00\\x00\\x00\\x00\\x00\\x00\\x00\\x00\\x00\\x00\\x00\\x00\\x00\\x00\\x00\\x00\\x00\\x00\\x00\\x00\\x00\\x00\\x00\\x00\\x00\\x00\\x00\\x00\\x00\\x00\\x00\\x00\\x00\\x00\\x00\\x00\\x00\\x00\\x00\\x00\\x00\\x00\\x00\\x00\\x00\\x00\\x00\\x00\\x00\\x00\\x00\\x00\\x00\\x00\\x00\\x00\\x00\\x00\\x00\\x00\\x00\\x00\\x00\\x00\\x00\\x00\\x00\\x00\\x00\\x00\\x00\\x00\\x00\\x00\\x00\\x00\\x00\\x00\\x00\\x00\\x00\\x00\\x00\\x00\\x00\\x00\\x00\\x00\\x00\\x00\\x00\\x00\\x00\\x00\\x00\\x00\\x00\\x00\\x00\\x00\\x00\\x00\\x00\\x00\\x00\\x00\\x00\\x00\\x00\\x00\\x00\\x00\\x00\\x00\\x00\\x00\\x00\\x00\\x00\\x00\\x00\\x00\\x00\\x00\\x00\\x00\\x00\\x00\\x00\\x00\\x00\\x00\\x00\\x00\\x00\\x00\\x00\\x00\\x00\\x00\\x00\\x00\\x00\\x00\\x00\\x00\\x00\\x00\\x00\\x00\\x00\\x00\\x00\\x00\\x00\\x00\\x00\\x00\\x00\\x00\\x00\\x00\\x00\\x00\\x00\\x00\\x00\\x00l\\x91]K\\xc30\\x14\\x86\\xef\\x05\\xffC\\xc9}\\x9b\\xb6\\x03\\x9d\\xa5\\xcd@ex\\xe1@Xe\\xe2]H\\xce\\xba`\\xf3A\\x12\\xed\\xfa\\xefM\\xbbZ\\xe7\\x07\\x9c\\x9b\\xf0\\xbey\\xce{\\xce)WG\\xd9F\\x1f`\\x9d\\xd0\\xaaBY\\x92\\xa2\\x08\\x14\\xd3\\\\\\xa8\\xa6B\\xcf\\xf5:^\\xa2\\xc8y\\xaa8m\\xb5\\x82\\n\\xf5\\xe0\\xd0\\x8a\\\\^\\x94\\xcc\\x14L[x\\xb2\\xda\\x80\\xf5\\x02\\\\\\x14H\\xca\\x15\\xccT\\xe8\\xe0\\xbd)0v\\xec\\x00\\x92\\xba$8T\\x10\\xf7\\xdaJ\\xea\\xc3\\xd36\\xd8P\\xf6F\\x1b\\xc0y\\x9a^a\\t\\x9er\\xea)\\x1e\\x80\\xb1\\x99\\x89hBr6#\\xcd\\xbbmG\\x00g\\x18Z\\x90\\xa0\\xbc\\xc3Y\\x92\\xe1o\\xaf\\x07+\\xdd\\xbf\\x1fF\\xe5\\xcc)\\x85\\xefM\\x98i\\x8a{\\xce\\xe6\\xec$\\xce\\xee\\xa3\\x13\\xb3\\xb1\\xeb\\xba\\xa4[\\x8c1B\\xfe\\x0c\\xbfl\\x1e\\xb7\\xe3\\xa8\\xb1P\\xc3\\xae\\x18 2\\xec\\xa7\\xa5\\xceo\\xc2*\\xf7\\x02\\xf8mO\\xb6\\x16\\xe0\\x81ZQ\\xe2\\xbfZ\\xc9\\xd9\\x98\\xae\\x90\\x93?\\n\\r\\x8bS\\xbc/i\\xb7\\xb8\\xbb\\xaf\\xd7\\x88\\xe4i\\x9e\\xc7i\\xa8e\\x9d^\\x17y\\xa8\\x9b\\xd7\\x12\\xff\\x06\\x90\\xb1\\xcd\\xcf\\x13\\x91O\\x00\\x00\\x00\\xff\\xff\\x03\\x00PK\\x03\\x04\\x14\\x00\\x06\\x00\\x08\\x00\\x00\\x00!\\x00\\xcc\\xd7\\xcaL\\x82\\x01\\x00\\x00\\xfe\\x02\\x00\\x00\\x10\\x00\\x08\\x01docProps/app.xml \\xa2\\x04\\x01(\\xa0\\x00\\x01\\x00\\x00\\x00\\x00\\x00\\x00\\x00\\x00\\x00\\x00\\x00\\x00\\x00\\x00\\x00\\x00\\x00\\x00\\x00\\x00\\x00\\x00\\x00\\x00\\x00\\x00\\x00\\x00\\x00\\x00\\x00\\x00\\x00\\x00\\x00\\x00\\x00\\x00\\x00\\x00\\x00\\x00\\x00\\x00\\x00\\x00\\x00\\x00\\x00\\x00\\x00\\x00\\x00\\x00\\x00\\x00\\x00\\x00\\x00\\x00\\x00\\x00\\x00\\x00\\x00\\x00\\x00\\x00\\x00\\x00\\x00\\x00\\x00\\x00\\x00\\x00\\x00\\x00\\x00\\x00\\x00\\x00\\x00\\x00\\x00\\x00\\x00\\x00\\x00\\x00\\x00\\x00\\x00\\x00\\x00\\x00\\x00\\x00\\x00\\x00\\x00\\x00\\x00\\x00\\x00\\x00\\x00\\x00\\x00\\x00\\x00\\x00\\x00\\x00\\x00\\x00\\x00\\x00\\x00\\x00\\x00\\x00\\x00\\x00\\x00\\x00\\x00\\x00\\x00\\x00\\x00\\x00\\x00\\x00\\x00\\x00\\x00\\x00\\x00\\x00\\x00\\x00\\x00\\x00\\x00\\x00\\x00\\x00\\x00\\x00\\x00\\x00\\x00\\x00\\x00\\x00\\x00\\x00\\x00\\x00\\x00\\x00\\x00\\x00\\x00\\x00\\x00\\x00\\x00\\x00\\x00\\x00\\x00\\x00\\x00\\x00\\x00\\x00\\x00\\x00\\x00\\x00\\x00\\x00\\x00\\x00\\x00\\x00\\x00\\x00\\x00\\x00\\x00\\x00\\x00\\x00\\x00\\x00\\x00\\x00\\x00\\x00\\x00\\x00\\x00\\x00\\x00\\x00\\x00\\x00\\x00\\x00\\x00\\x00\\x00\\x00\\x00\\x00\\x00\\x00\\x00\\x00\\x00\\x00\\x00\\x00\\x00\\x00\\x00\\x00\\x00\\x00\\x00\\x00\\x00\\x00\\x00\\x00\\x00\\x00\\x00\\x00\\x00\\x00\\x00\\x00\\x00\\x00\\x00\\x00\\x00\\x00\\x00\\x00\\x00\\x00\\x9c\\x92[O\\xe30\\x10\\x85\\xdfW\\xda\\xff\\x10\\xf9\\x9d:e\\x11B\\x95c\\x84`\\xb9H\\xc0Vj\\x81g\\xaf3i,\\\\;\\xf2\\x0cQ\\xcb\\xafg\\x92\\x88\\x92\\x02O\\xbc\\xcd\\xe5\\xe8\\xf8\\xf3\\xb1\\xd5\\xe9f\\xed\\xb3\\x16\\x12\\xba\\x18\\n1\\x9d\\xe4\"\\x83`c\\xe9\\xc2\\xaa\\x10\\x0f\\xcb\\xcb\\x83\\x13\\x91!\\x99P\\x1a\\x1f\\x03\\x14b\\x0b(N\\xf5\\xef_j\\x9eb\\x03\\x89\\x1c`\\xc6\\x16\\x01\\x0bQ\\x1353)\\xd1\\xd6\\xb068\\xe1u\\xe0M\\x15\\xd3\\xda\\x10\\xb7i%cU9\\x0b\\x17\\xd1\\xbe\\xac!\\x90<\\xcc\\xf3c\\t\\x1b\\x82PBy\\xd0\\xec\\x0c\\xc5\\xe08k\\xe9\\xa7\\xa6e\\xb4\\x1d\\x1f>.\\xb7\\r\\x03ku\\xd64\\xdeYC|K}\\xe7l\\x8a\\x18+\\xca\\xfen,x%\\xc7K\\xc5t\\x0b\\xb0/\\xc9\\xd1V\\xe7J\\x8e[\\xb5\\xb0\\xc6\\xc39\\x1b\\xeb\\xcax\\x04%?\\x06\\xea\\x1aL\\x17\\xda\\xdc\\xb8\\x84Z\\xb54k\\xc1RL\\x19\\xbaW\\x8e\\xedPd\\xff\\rB\\x87S\\x88\\xd6$g\\x021V\\'\\x1b\\x9a\\xbe\\xf6\\rR\\xd2O1=c\\r@\\xa8$\\x0b\\x86a_\\x8e\\xb5\\xe3\\xda\\x1d\\xe9i/\\xe0b_\\xd8\\x19\\x0c \\xbc\\xd8G\\\\:\\xf2\\x80\\xff\\xaa\\xb9I\\xf4\\r\\xf1tL\\xdc3\\x0c\\xbc\\x03\\xce\\xd5\\xd9\\xdd\\xcd\\xfd\\xd5\\x17\\xbe\\xfe\\xca|\\xd2\\'\\xef[\\x17\\x9e\\xf1\\xa1Y\\xc6\\x0bC\\xf0\\x9e\\xdd\\xfeP-j\\x93\\xa0\\xe4\\xb8w\\xd9\\xee\\x06\\xea\\x9acK\\xbe39\\xafMXA\\xf9\\xae\\xf9\\xba\\xe8^\\xfaq\\xf8\\xcezz<\\xc9\\xff\\xe4\\xfc\\x88\\xa3\\x99\\x92\\x1f\\x1fW\\xbf\\x01\\x00\\x00\\xff\\xff\\x03\\x00PK\\x01\\x02-\\x00\\x14\\x00\\x06\\x00\\x08\\x00\\x00\\x00!\\x00A7\\x82\\xcfn\\x01\\x00\\x00\\x04\\x05\\x00\\x00\\x13\\x00\\x00\\x00\\x00\\x00\\x00\\x00\\x00\\x00\\x00\\x00\\x00\\x00\\x00\\x00\\x00\\x00[Content_Types].xmlPK\\x01\\x02-\\x00\\x14\\x00\\x06\\x00\\x08\\x00\\x00\\x00!\\x00\\xb5U0#\\xf4\\x00\\x00\\x00L\\x02\\x00\\x00\\x0b\\x00\\x00\\x00\\x00\\x00\\x00\\x00\\x00\\x00\\x00\\x00\\x00\\x00\\xa7\\x03\\x00\\x00_rels/.relsPK\\x01\\x02-\\x00\\x14\\x00\\x06\\x00\\x08\\x00\\x00\\x00!\\x00{\\x13\\x116\\xc0\\x02\\x00\\x00g\\x06\\x00\\x00\\x0f\\x00\\x00\\x00\\x00\\x00\\x00\\x00\\x00\\x00\\x00\\x00\\x00\\x00\\xcc\\x06\\x00\\x00xl/workbook.xmlPK\\x01\\x02-\\x00\\x14\\x00\\x06\\x00\\x08\\x00\\x00\\x00!\\x00\\x81>\\x94\\x97\\xf3\\x00\\x00\\x00\\xba\\x02\\x00\\x00\\x1a\\x00\\x00\\x00\\x00\\x00\\x00\\x00\\x00\\x00\\x00\\x00\\x00\\x00\\xb9\\t\\x00\\x00xl/_rels/workbook.xml.relsPK\\x01\\x02-\\x00\\x14\\x00\\x06\\x00\\x08\\x00\\x00\\x00!\\x00\\xe7\\x08\\xc6;\\xe9\\x10\\x00\\x00Ln\\x00\\x00\\x18\\x00\\x00\\x00\\x00\\x00\\x00\\x00\\x00\\x00\\x00\\x00\\x00\\x00\\xec\\x0b\\x00\\x00xl/worksheets/sheet1.xmlPK\\x01\\x02-\\x00\\x14\\x00\\x06\\x00\\x08\\x00\\x00\\x00!\\x00f\\x1c\\x9c#\\x9f\\x03\\x00\\x00\\x89\\x0e\\x00\\x00\\x13\\x00\\x00\\x00\\x00\\x00\\x00\\x00\\x00\\x00\\x00\\x00\\x00\\x00\\x0b\\x1d\\x00\\x00xl/theme/theme1.xmlPK\\x01\\x02-\\x00\\x14\\x00\\x06\\x00\\x08\\x00\\x00\\x00!\\x00,ed\\xce\\xf1\\x02\\x00\\x00~\\x08\\x00\\x00\\r\\x00\\x00\\x00\\x00\\x00\\x00\\x00\\x00\\x00\\x00\\x00\\x00\\x00\\xdb \\x00\\x00xl/styles.xmlPK\\x01\\x02-\\x00\\x14\\x00\\x06\\x00\\x08\\x00\\x00\\x00!\\x00\\x9e\\x8d1\\xc6\\xb0\\x02\\x00\\x00\\xdc\\x06\\x00\\x00\\x14\\x00\\x00\\x00\\x00\\x00\\x00\\x00\\x00\\x00\\x00\\x00\\x00\\x00\\xf7#\\x00\\x00xl/sharedStrings.xmlPK\\x01\\x02-\\x00\\x14\\x00\\x06\\x00\\x08\\x00\\x00\\x00!\\x00;m2K\\xc1\\x00\\x00\\x00B\\x01\\x00\\x00#\\x00\\x00\\x00\\x00\\x00\\x00\\x00\\x00\\x00\\x00\\x00\\x00\\x00\\xd9&\\x00\\x00xl/worksheets/_rels/sheet1.xml.relsPK\\x01\\x02-\\x00\\x14\\x00\\x06\\x00\\x08\\x00\\x00\\x00!\\x00\\xcf\\xe0G\\xb4\\xc2\\x01\\x00\\x00,\\x15\\x00\\x00\\'\\x00\\x00\\x00\\x00\\x00\\x00\\x00\\x00\\x00\\x00\\x00\\x00\\x00\\xdb\\'\\x00\\x00xl/printerSettings/printerSettings1.binPK\\x01\\x02-\\x00\\x14\\x00\\x06\\x00\\x08\\x00\\x00\\x00!\\x00\\x8f\\x01\\x01\\xa8%\\x01\\x00\\x00\\xef\\x01\\x00\\x00\\x11\\x00\\x00\\x00\\x00\\x00\\x00\\x00\\x00\\x00\\x00\\x00\\x00\\x00\\xe2)\\x00\\x00docProps/core.xmlPK\\x01\\x02-\\x00\\x14\\x00\\x06\\x00\\x08\\x00\\x00\\x00!\\x00\\xcc\\xd7\\xcaL\\x82\\x01\\x00\\x00\\xfe\\x02\\x00\\x00\\x10\\x00\\x00\\x00\\x00\\x00\\x00\\x00\\x00\\x00\\x00\\x00\\x00\\x00>,\\x00\\x00docProps/app.xmlPK\\x05\\x06\\x00\\x00\\x00\\x00\\x0c\\x00\\x0c\\x00&\\x03\\x00\\x00\\xf6.\\x00\\x00\\x00\\x00'}"
            ]
          },
          "metadata": {},
          "execution_count": 2
        }
      ]
    },
    {
      "cell_type": "code",
      "source": [
        "gd=pd.read_excel('Gaming Flagship Survey Data.xlsx')"
      ],
      "metadata": {
        "id": "GiPs4Sv4vEIf"
      },
      "execution_count": null,
      "outputs": []
    },
    {
      "cell_type": "code",
      "source": [
        "gd.head()"
      ],
      "metadata": {
        "colab": {
          "base_uri": "https://localhost:8080/",
          "height": 461
        },
        "id": "YGWBgiJ1yfdv",
        "outputId": "82d99970-abb9-4c49-ba1e-b9f7dce0babe"
      },
      "execution_count": null,
      "outputs": [
        {
          "output_type": "execute_result",
          "data": {
            "text/html": [
              "\n",
              "  <div id=\"df-7d87b8da-9c9f-48a4-a371-b199a9af1313\">\n",
              "    <div class=\"colab-df-container\">\n",
              "      <div>\n",
              "<style scoped>\n",
              "    .dataframe tbody tr th:only-of-type {\n",
              "        vertical-align: middle;\n",
              "    }\n",
              "\n",
              "    .dataframe tbody tr th {\n",
              "        vertical-align: top;\n",
              "    }\n",
              "\n",
              "    .dataframe thead th {\n",
              "        text-align: right;\n",
              "    }\n",
              "</style>\n",
              "<table border=\"1\" class=\"dataframe\">\n",
              "  <thead>\n",
              "    <tr style=\"text-align: right;\">\n",
              "      <th></th>\n",
              "      <th>Brand You Choose</th>\n",
              "      <th>Type of smartphone you need</th>\n",
              "      <th>Screen Size you prefer</th>\n",
              "      <th>Screen Resolution</th>\n",
              "      <th>Type</th>\n",
              "      <th>Type of display you prefer</th>\n",
              "      <th>Refresh rate to choose (Hz)</th>\n",
              "      <th>Touch sample/ response rate (Hz)</th>\n",
              "      <th>Primary Camera (MP) you want</th>\n",
              "      <th>Ultra-wide camera (MP)</th>\n",
              "      <th>Tertiary Camera_telephoto or macro_camera (MP)</th>\n",
              "      <th>sensor selected for 1st image</th>\n",
              "      <th>sensor selected for 2nd image</th>\n",
              "      <th>sensor selected for 3rd image</th>\n",
              "      <th>sensor selected for 4th image</th>\n",
              "      <th>Side frame</th>\n",
              "      <th>Back Panel</th>\n",
              "      <th>Battery You Prefer (mAh)</th>\n",
              "      <th>Weight of smartphone you prefer (g)</th>\n",
              "      <th>Wired charger capacity (w)</th>\n",
              "      <th>Wireless Charger (w)</th>\n",
              "      <th>Thickness you prefer (mm)</th>\n",
              "      <th>Processor you prefer</th>\n",
              "    </tr>\n",
              "  </thead>\n",
              "  <tbody>\n",
              "    <tr>\n",
              "      <th>0</th>\n",
              "      <td>SAMSUNG</td>\n",
              "      <td>Gaming</td>\n",
              "      <td>8.00</td>\n",
              "      <td>2208x1768</td>\n",
              "      <td>Foldable smartphone</td>\n",
              "      <td>Dynamic-AMOLED-2X</td>\n",
              "      <td>120</td>\n",
              "      <td>480</td>\n",
              "      <td>12</td>\n",
              "      <td>12</td>\n",
              "      <td>12</td>\n",
              "      <td>SAMSUNG</td>\n",
              "      <td>SAMSUNG</td>\n",
              "      <td>SAMSUNG</td>\n",
              "      <td>SAMSUNG</td>\n",
              "      <td>Aluminium</td>\n",
              "      <td>Glass</td>\n",
              "      <td>4800</td>\n",
              "      <td>230</td>\n",
              "      <td>40</td>\n",
              "      <td>not needed</td>\n",
              "      <td>8.8</td>\n",
              "      <td>Snapdragon 888+</td>\n",
              "    </tr>\n",
              "    <tr>\n",
              "      <th>1</th>\n",
              "      <td>APPLE</td>\n",
              "      <td>Gaming</td>\n",
              "      <td>6.10</td>\n",
              "      <td>1284x2778</td>\n",
              "      <td>Non-Foldable</td>\n",
              "      <td>AMOLED</td>\n",
              "      <td>120</td>\n",
              "      <td>300</td>\n",
              "      <td>12</td>\n",
              "      <td>12</td>\n",
              "      <td>Don't Need this</td>\n",
              "      <td>SAMSUNG</td>\n",
              "      <td>SAMSUNG</td>\n",
              "      <td>SAMSUNG</td>\n",
              "      <td>SAMSUNG</td>\n",
              "      <td>Stainless Steel</td>\n",
              "      <td>Glass</td>\n",
              "      <td>4500</td>\n",
              "      <td>204</td>\n",
              "      <td>30</td>\n",
              "      <td>20</td>\n",
              "      <td>8.0</td>\n",
              "      <td>APPLE A15</td>\n",
              "    </tr>\n",
              "    <tr>\n",
              "      <th>2</th>\n",
              "      <td>APPLE</td>\n",
              "      <td>Gaming</td>\n",
              "      <td>6.10</td>\n",
              "      <td>1284x2778</td>\n",
              "      <td>Non-Foldable</td>\n",
              "      <td>AMOLED</td>\n",
              "      <td>120</td>\n",
              "      <td>300</td>\n",
              "      <td>12</td>\n",
              "      <td>Don't Need this</td>\n",
              "      <td>5 (Macro)</td>\n",
              "      <td>SONY</td>\n",
              "      <td>SONY</td>\n",
              "      <td>SAMSUNG</td>\n",
              "      <td>SAMSUNG</td>\n",
              "      <td>Aluminium</td>\n",
              "      <td>Glass</td>\n",
              "      <td>4800</td>\n",
              "      <td>183</td>\n",
              "      <td>40</td>\n",
              "      <td>45</td>\n",
              "      <td>8.3</td>\n",
              "      <td>APPLE A15</td>\n",
              "    </tr>\n",
              "    <tr>\n",
              "      <th>3</th>\n",
              "      <td>APPLE</td>\n",
              "      <td>Gaming</td>\n",
              "      <td>6.30</td>\n",
              "      <td>2208x1768</td>\n",
              "      <td>Non-Foldable</td>\n",
              "      <td>AMOLED</td>\n",
              "      <td>120</td>\n",
              "      <td>300</td>\n",
              "      <td>12</td>\n",
              "      <td>12</td>\n",
              "      <td>5 (Macro)</td>\n",
              "      <td>SONY</td>\n",
              "      <td>SONY</td>\n",
              "      <td>SAMSUNG</td>\n",
              "      <td>SONY</td>\n",
              "      <td>Aluminium</td>\n",
              "      <td>Eco Leather</td>\n",
              "      <td>5000</td>\n",
              "      <td>183</td>\n",
              "      <td>65</td>\n",
              "      <td>not needed</td>\n",
              "      <td>8.0</td>\n",
              "      <td>Snapdragon 888+</td>\n",
              "    </tr>\n",
              "    <tr>\n",
              "      <th>4</th>\n",
              "      <td>APPLE</td>\n",
              "      <td>Gaming</td>\n",
              "      <td>6.55</td>\n",
              "      <td>1284x2778</td>\n",
              "      <td>Non-Foldable</td>\n",
              "      <td>AMOLED</td>\n",
              "      <td>90</td>\n",
              "      <td>180</td>\n",
              "      <td>64</td>\n",
              "      <td>48</td>\n",
              "      <td>10</td>\n",
              "      <td>SAMSUNG</td>\n",
              "      <td>SONY</td>\n",
              "      <td>SAMSUNG</td>\n",
              "      <td>SAMSUNG</td>\n",
              "      <td>Aluminium</td>\n",
              "      <td>Glass</td>\n",
              "      <td>5000</td>\n",
              "      <td>177</td>\n",
              "      <td>65</td>\n",
              "      <td>20</td>\n",
              "      <td>8.0</td>\n",
              "      <td>APPLE A15</td>\n",
              "    </tr>\n",
              "  </tbody>\n",
              "</table>\n",
              "</div>\n",
              "      <button class=\"colab-df-convert\" onclick=\"convertToInteractive('df-7d87b8da-9c9f-48a4-a371-b199a9af1313')\"\n",
              "              title=\"Convert this dataframe to an interactive table.\"\n",
              "              style=\"display:none;\">\n",
              "        \n",
              "  <svg xmlns=\"http://www.w3.org/2000/svg\" height=\"24px\"viewBox=\"0 0 24 24\"\n",
              "       width=\"24px\">\n",
              "    <path d=\"M0 0h24v24H0V0z\" fill=\"none\"/>\n",
              "    <path d=\"M18.56 5.44l.94 2.06.94-2.06 2.06-.94-2.06-.94-.94-2.06-.94 2.06-2.06.94zm-11 1L8.5 8.5l.94-2.06 2.06-.94-2.06-.94L8.5 2.5l-.94 2.06-2.06.94zm10 10l.94 2.06.94-2.06 2.06-.94-2.06-.94-.94-2.06-.94 2.06-2.06.94z\"/><path d=\"M17.41 7.96l-1.37-1.37c-.4-.4-.92-.59-1.43-.59-.52 0-1.04.2-1.43.59L10.3 9.45l-7.72 7.72c-.78.78-.78 2.05 0 2.83L4 21.41c.39.39.9.59 1.41.59.51 0 1.02-.2 1.41-.59l7.78-7.78 2.81-2.81c.8-.78.8-2.07 0-2.86zM5.41 20L4 18.59l7.72-7.72 1.47 1.35L5.41 20z\"/>\n",
              "  </svg>\n",
              "      </button>\n",
              "      \n",
              "  <style>\n",
              "    .colab-df-container {\n",
              "      display:flex;\n",
              "      flex-wrap:wrap;\n",
              "      gap: 12px;\n",
              "    }\n",
              "\n",
              "    .colab-df-convert {\n",
              "      background-color: #E8F0FE;\n",
              "      border: none;\n",
              "      border-radius: 50%;\n",
              "      cursor: pointer;\n",
              "      display: none;\n",
              "      fill: #1967D2;\n",
              "      height: 32px;\n",
              "      padding: 0 0 0 0;\n",
              "      width: 32px;\n",
              "    }\n",
              "\n",
              "    .colab-df-convert:hover {\n",
              "      background-color: #E2EBFA;\n",
              "      box-shadow: 0px 1px 2px rgba(60, 64, 67, 0.3), 0px 1px 3px 1px rgba(60, 64, 67, 0.15);\n",
              "      fill: #174EA6;\n",
              "    }\n",
              "\n",
              "    [theme=dark] .colab-df-convert {\n",
              "      background-color: #3B4455;\n",
              "      fill: #D2E3FC;\n",
              "    }\n",
              "\n",
              "    [theme=dark] .colab-df-convert:hover {\n",
              "      background-color: #434B5C;\n",
              "      box-shadow: 0px 1px 3px 1px rgba(0, 0, 0, 0.15);\n",
              "      filter: drop-shadow(0px 1px 2px rgba(0, 0, 0, 0.3));\n",
              "      fill: #FFFFFF;\n",
              "    }\n",
              "  </style>\n",
              "\n",
              "      <script>\n",
              "        const buttonEl =\n",
              "          document.querySelector('#df-7d87b8da-9c9f-48a4-a371-b199a9af1313 button.colab-df-convert');\n",
              "        buttonEl.style.display =\n",
              "          google.colab.kernel.accessAllowed ? 'block' : 'none';\n",
              "\n",
              "        async function convertToInteractive(key) {\n",
              "          const element = document.querySelector('#df-7d87b8da-9c9f-48a4-a371-b199a9af1313');\n",
              "          const dataTable =\n",
              "            await google.colab.kernel.invokeFunction('convertToInteractive',\n",
              "                                                     [key], {});\n",
              "          if (!dataTable) return;\n",
              "\n",
              "          const docLinkHtml = 'Like what you see? Visit the ' +\n",
              "            '<a target=\"_blank\" href=https://colab.research.google.com/notebooks/data_table.ipynb>data table notebook</a>'\n",
              "            + ' to learn more about interactive tables.';\n",
              "          element.innerHTML = '';\n",
              "          dataTable['output_type'] = 'display_data';\n",
              "          await google.colab.output.renderOutput(dataTable, element);\n",
              "          const docLink = document.createElement('div');\n",
              "          docLink.innerHTML = docLinkHtml;\n",
              "          element.appendChild(docLink);\n",
              "        }\n",
              "      </script>\n",
              "    </div>\n",
              "  </div>\n",
              "  "
            ],
            "text/plain": [
              "  Brand You Choose  ... Processor you prefer\n",
              "0          SAMSUNG  ...      Snapdragon 888+\n",
              "1            APPLE  ...            APPLE A15\n",
              "2            APPLE  ...            APPLE A15\n",
              "3            APPLE  ...      Snapdragon 888+\n",
              "4            APPLE  ...            APPLE A15\n",
              "\n",
              "[5 rows x 23 columns]"
            ]
          },
          "metadata": {},
          "execution_count": 4
        }
      ]
    },
    {
      "cell_type": "code",
      "source": [
        "gd.dtypes"
      ],
      "metadata": {
        "colab": {
          "base_uri": "https://localhost:8080/"
        },
        "id": "MZC0oQ4VX3H7",
        "outputId": "d96c0303-c105-4b61-cfd3-36c4a177f7c5"
      },
      "execution_count": null,
      "outputs": [
        {
          "output_type": "execute_result",
          "data": {
            "text/plain": [
              "Brand You Choose                                   object\n",
              "Type of smartphone you need                        object\n",
              "Screen Size you prefer                            float64\n",
              "Screen Resolution                                  object\n",
              "Type                                               object\n",
              "Type of display you prefer                         object\n",
              "Refresh rate to choose (Hz)                         int64\n",
              "Touch sample/ response rate (Hz)                    int64\n",
              "Primary Camera (MP) you want                        int64\n",
              "Ultra-wide camera (MP)                             object\n",
              "Tertiary Camera_telephoto or macro_camera (MP)     object\n",
              "sensor selected for 1st image                      object\n",
              "sensor selected for 2nd image                      object\n",
              "sensor selected for 3rd image                      object\n",
              "sensor selected for 4th image                      object\n",
              "Side frame                                         object\n",
              "Back Panel                                         object\n",
              "Battery You Prefer (mAh)                            int64\n",
              "Weight of smartphone you prefer (g)                 int64\n",
              "Wired charger capacity (w)                          int64\n",
              "Wireless Charger (w)                               object\n",
              "Thickness you prefer (mm)                         float64\n",
              "Processor you prefer                               object\n",
              "dtype: object"
            ]
          },
          "metadata": {},
          "execution_count": 5
        }
      ]
    },
    {
      "cell_type": "code",
      "source": [
        "gd.columns"
      ],
      "metadata": {
        "id": "0wbTccJBytEJ",
        "colab": {
          "base_uri": "https://localhost:8080/"
        },
        "outputId": "f1f90f86-d0b5-437c-c726-69b5c67815e4"
      },
      "execution_count": null,
      "outputs": [
        {
          "output_type": "execute_result",
          "data": {
            "text/plain": [
              "Index(['Brand You Choose', 'Type of smartphone you need',\n",
              "       'Screen Size you prefer', 'Screen Resolution', 'Type',\n",
              "       'Type of display you prefer', 'Refresh rate to choose (Hz)',\n",
              "       'Touch sample/ response rate (Hz)', 'Primary Camera (MP) you want',\n",
              "       'Ultra-wide camera (MP)',\n",
              "       'Tertiary Camera_telephoto or macro_camera (MP)',\n",
              "       'sensor selected for 1st image', 'sensor selected for 2nd image',\n",
              "       'sensor selected for 3rd image', 'sensor selected for 4th image',\n",
              "       'Side frame', 'Back Panel', 'Battery You Prefer (mAh)',\n",
              "       'Weight of smartphone you prefer (g)', 'Wired charger capacity (w)',\n",
              "       'Wireless Charger (w)', 'Thickness you prefer (mm)',\n",
              "       'Processor you prefer'],\n",
              "      dtype='object')"
            ]
          },
          "metadata": {},
          "execution_count": 6
        }
      ]
    },
    {
      "cell_type": "code",
      "source": [
        "import matplotlib.pyplot as plt\n",
        "import seaborn as sns"
      ],
      "metadata": {
        "id": "wQR8TNwpMrAx"
      },
      "execution_count": null,
      "outputs": []
    },
    {
      "cell_type": "code",
      "source": [
        "#Brand You Choose\n",
        "plt.subplots(figsize=(6.6,5))\n",
        "brand_count=gd['Brand You Choose'].value_counts().plot.bar(color=['indigo', 'red', 'green', 'blue', 'cyan','yellow','orange','violet','brown'])\n",
        "print(brand_count,gd['Brand You Choose'].value_counts() )\n",
        "plt.savefig('Brand You Choose.jpg')"
      ],
      "metadata": {
        "colab": {
          "base_uri": "https://localhost:8080/",
          "height": 541
        },
        "id": "1cF8Q_pdKgPQ",
        "outputId": "5010d843-2dd6-4e8c-9107-52084f924435"
      },
      "execution_count": null,
      "outputs": [
        {
          "output_type": "stream",
          "name": "stdout",
          "text": [
            "AxesSubplot(0.125,0.125;0.775x0.755) ASUS        6\n",
            "APPLE       5\n",
            "IQOO        4\n",
            "ONEPLUS     4\n",
            "XIAOMI      4\n",
            "REALME      2\n",
            "SAMSUNG     1\n",
            "LENOVO      1\n",
            "MOTOROLA    1\n",
            "Name: Brand You Choose, dtype: int64\n"
          ]
        },
        {
          "output_type": "display_data",
          "data": {
            "image/png": "[encoded data removed]",
            "text/plain": [
              "<Figure size 475.2x360 with 1 Axes>"
            ]
          },
          "metadata": {
            "needs_background": "light"
          }
        }
      ]
    },
    {
      "cell_type": "code",
      "source": [
        "#Screen Resolution\n",
        "plt.subplots(figsize=(5,4))\n",
        "Scrnres_count=gd['Screen Resolution'].value_counts().plot.bar()\n",
        "print(gd['Screen Resolution'].value_counts(),Scrnres_count)\n",
        "plt.savefig('Screen Resolution.jpg')"
      ],
      "metadata": {
        "colab": {
          "base_uri": "https://localhost:8080/",
          "height": 364
        },
        "id": "Y1LUtD5-YDnY",
        "outputId": "e1110c00-6ff4-4601-dae9-95e1b8dae29f"
      },
      "execution_count": null,
      "outputs": [
        {
          "output_type": "stream",
          "name": "stdout",
          "text": [
            "1284x2778    16\n",
            "2208x1768    12\n",
            "Name: Screen Resolution, dtype: int64 AxesSubplot(0.125,0.125;0.775x0.755)\n"
          ]
        },
        {
          "output_type": "display_data",
          "data": {
            "image/png": "[encoded data removed]",
            "text/plain": [
              "<Figure size 360x288 with 1 Axes>"
            ]
          },
          "metadata": {
            "needs_background": "light"
          }
        }
      ]
    },
    {
      "cell_type": "code",
      "source": [
        "#Screen Size you prefer\n",
        "plt.subplots(figsize=(6.6,5))\n",
        "print('Screen Size : ',gd['Screen Size you prefer'].value_counts().idxmax(),',','Count :',\n",
        "      gd['Screen Size you prefer'].value_counts().max())\n",
        "gd['Screen Size you prefer'].value_counts().plot(kind='bar',color=['indigo', 'red', 'green', 'blue',\n",
        "                                                                   'cyan','yellow','orange','violet','brown'])\n",
        "plt.savefig('Screen Size you prefer.jpg')"
      ],
      "metadata": {
        "colab": {
          "base_uri": "https://localhost:8080/",
          "height": 349
        },
        "id": "r4pu5fr6LPRP",
        "outputId": "8f00fc63-6840-4a6d-9901-7ddbb4a70fcd"
      },
      "execution_count": null,
      "outputs": [
        {
          "output_type": "stream",
          "name": "stdout",
          "text": [
            "Screen Size :  6.7 , Count : 6\n"
          ]
        },
        {
          "output_type": "display_data",
          "data": {
            "image/png": "[encoded data removed]",
            "text/plain": [
              "<Figure size 475.2x360 with 1 Axes>"
            ]
          },
          "metadata": {
            "needs_background": "light"
          }
        }
      ]
    },
    {
      "cell_type": "code",
      "source": [
        "#def cp(df,x,y):\n",
        "#  column_name=input(\"column Name \")\n",
        "#  plt.subplots(figsize=(x,y))\n",
        "#  print(df[column_name].value_counts(),df[column_name].value_counts().plot.bar())"
      ],
      "metadata": {
        "id": "cg6QgjESbC2C"
      },
      "execution_count": null,
      "outputs": []
    },
    {
      "cell_type": "code",
      "source": [
        "#def cp(df,x,y):\n",
        "#  colors=[]\n",
        "#  column_name=input(\"column Name \")\n",
        "#  length=len(df[column_name].unique())\n",
        "#  print('length :',length )\n",
        "#  for i in range(1,length+1):\n",
        "#    print(\"color\",i)\n",
        "#    clr_list=input()\n",
        "#    colors.append(clr_list)\n",
        "#  plt.subplots(figsize=(x,y))\n",
        "#  print(df[column_name].value_counts(),df[column_name].value_counts().plot.bar(color=colors))"
      ],
      "metadata": {
        "id": "4wwhFaQH7nfi"
      },
      "execution_count": null,
      "outputs": []
    },
    {
      "cell_type": "code",
      "source": [
        "#cp stands fro countplot\n",
        "def cp(df):\n",
        "  colors=[]\n",
        "  column_name=input(\"column Name \")\n",
        "  length=len(df[column_name].unique())\n",
        "  print('length :',length )\n",
        "  figx=float(input('x_figsize : '))\n",
        "  figy=float(input('y_figsize : '))\n",
        "  clr_list=['b','y','m','g','r','c','dimgray','darkorange','limegreen','lightsteelblue','rosybrown','darkgoldenrod','lightseagreen',\n",
        "        'mediumslateblue','indianred','tan','olivedrab','teal','mediumseagreen','crimson','orchid','midnightblue','maroon','palegreen',\n",
        "        'peru','orange','darkseagreen','slategray','dodgerblue','mediumvioletred','mediumslateblue','mediumturquoise','salmon','cornflowerblue',\n",
        "        'thistle','steelblue','yellowgreen','khaki','orangered','greenyellow','chocolate','burlywood','powderblue','lavender','indigo',\n",
        "        'firebrick','oldlace','coral','deeppink','rebeccapurple','navy','deepskyblue','forestgreen','mediumaquamarine','papayawhip','tomato',\n",
        "        'silver']\n",
        "  for i in range(1,length+1):\n",
        "    print(\"color\",i)\n",
        "    colors.append(clr_list[int(input())])\n",
        "  plt.subplots(figsize=(figx,figy))\n",
        "  print(df[column_name].value_counts(),df[column_name].value_counts().plot.bar(color=colors))\n",
        "  plt.savefig(input('enter image name :'))"
      ],
      "metadata": {
        "id": "F6Gv918uN9AY"
      },
      "execution_count": null,
      "outputs": []
    },
    {
      "cell_type": "code",
      "source": [
        "#Type\n",
        "cp(gd)"
      ],
      "metadata": {
        "colab": {
          "base_uri": "https://localhost:8080/",
          "height": 623
        },
        "id": "qpUPY7V39DAF",
        "outputId": "854ed33a-17a9-462c-9def-4282e05c8362"
      },
      "execution_count": null,
      "outputs": [
        {
          "name": "stdout",
          "output_type": "stream",
          "text": [
            "column Name Type\n",
            "length : 2\n",
            "x_figsize : 6.6\n",
            "y_figsize : 5\n",
            "color 1\n",
            "21\n",
            "color 2\n",
            "22\n",
            "Non-Foldable           27\n",
            "Foldable smartphone     1\n",
            "Name: Type, dtype: int64 AxesSubplot(0.125,0.125;0.775x0.755)\n",
            "enter image name :Type.jpg\n"
          ]
        },
        {
          "output_type": "display_data",
          "data": {
            "image/png": "[encoded data removed]",
            "text/plain": [
              "<Figure size 475.2x360 with 1 Axes>"
            ]
          },
          "metadata": {
            "needs_background": "light"
          }
        }
      ]
    },
    {
      "cell_type": "code",
      "source": [
        "#Type of display you prefer\n",
        "cp(gd)"
      ],
      "metadata": {
        "colab": {
          "base_uri": "https://localhost:8080/",
          "height": 625
        },
        "id": "VddYOBa3q3qh",
        "outputId": "03dd97b9-f31c-4c23-c656-1cf854d60e24"
      },
      "execution_count": null,
      "outputs": [
        {
          "name": "stdout",
          "output_type": "stream",
          "text": [
            "column Name Type of display you prefer\n",
            "length : 2\n",
            "x_figsize : 6.6\n",
            "y_figsize : 5\n",
            "color 1\n",
            "11\n",
            "color 2\n",
            "13\n",
            "AMOLED               27\n",
            "Dynamic-AMOLED-2X     1\n",
            "Name: Type of display you prefer, dtype: int64 AxesSubplot(0.125,0.125;0.775x0.755)\n",
            "enter image name :Type of display you prefer.jpg\n"
          ]
        },
        {
          "output_type": "display_data",
          "data": {
            "image/png": "[encoded data removed]",
            "text/plain": [
              "<Figure size 475.2x360 with 1 Axes>"
            ]
          },
          "metadata": {
            "needs_background": "light"
          }
        }
      ]
    },
    {
      "cell_type": "code",
      "source": [
        "gd.head(0)"
      ],
      "metadata": {
        "colab": {
          "base_uri": "https://localhost:8080/",
          "height": 183
        },
        "id": "6j4fr03_wHZ-",
        "outputId": "68fc444b-7abb-4859-cdcc-f7ad6680cd4a"
      },
      "execution_count": null,
      "outputs": [
        {
          "output_type": "execute_result",
          "data": {
            "text/html": [
              "\n",
              "  <div id=\"df-41eaad60-cafd-45c1-a7b7-0f4a6a31285e\">\n",
              "    <div class=\"colab-df-container\">\n",
              "      <div>\n",
              "<style scoped>\n",
              "    .dataframe tbody tr th:only-of-type {\n",
              "        vertical-align: middle;\n",
              "    }\n",
              "\n",
              "    .dataframe tbody tr th {\n",
              "        vertical-align: top;\n",
              "    }\n",
              "\n",
              "    .dataframe thead th {\n",
              "        text-align: right;\n",
              "    }\n",
              "</style>\n",
              "<table border=\"1\" class=\"dataframe\">\n",
              "  <thead>\n",
              "    <tr style=\"text-align: right;\">\n",
              "      <th></th>\n",
              "      <th>Brand You Choose</th>\n",
              "      <th>Type of smartphone you need</th>\n",
              "      <th>Screen Size you prefer</th>\n",
              "      <th>Screen Resolution</th>\n",
              "      <th>Type</th>\n",
              "      <th>Type of display you prefer</th>\n",
              "      <th>Refresh rate to choose (Hz)</th>\n",
              "      <th>Touch sample/ response rate (Hz)</th>\n",
              "      <th>Primary Camera (MP) you want</th>\n",
              "      <th>Ultra-wide camera (MP)</th>\n",
              "      <th>Tertiary Camera_telephoto or macro_camera (MP)</th>\n",
              "      <th>sensor selected for 1st image</th>\n",
              "      <th>sensor selected for 2nd image</th>\n",
              "      <th>sensor selected for 3rd image</th>\n",
              "      <th>sensor selected for 4th image</th>\n",
              "      <th>Side frame</th>\n",
              "      <th>Back Panel</th>\n",
              "      <th>Battery You Prefer (mAh)</th>\n",
              "      <th>Weight of smartphone you prefer (g)</th>\n",
              "      <th>Wired charger capacity (w)</th>\n",
              "      <th>Wireless Charger (w)</th>\n",
              "      <th>Thickness you prefer (mm)</th>\n",
              "      <th>Processor you prefer</th>\n",
              "    </tr>\n",
              "  </thead>\n",
              "  <tbody>\n",
              "  </tbody>\n",
              "</table>\n",
              "</div>\n",
              "      <button class=\"colab-df-convert\" onclick=\"convertToInteractive('df-41eaad60-cafd-45c1-a7b7-0f4a6a31285e')\"\n",
              "              title=\"Convert this dataframe to an interactive table.\"\n",
              "              style=\"display:none;\">\n",
              "        \n",
              "  <svg xmlns=\"http://www.w3.org/2000/svg\" height=\"24px\"viewBox=\"0 0 24 24\"\n",
              "       width=\"24px\">\n",
              "    <path d=\"M0 0h24v24H0V0z\" fill=\"none\"/>\n",
              "    <path d=\"M18.56 5.44l.94 2.06.94-2.06 2.06-.94-2.06-.94-.94-2.06-.94 2.06-2.06.94zm-11 1L8.5 8.5l.94-2.06 2.06-.94-2.06-.94L8.5 2.5l-.94 2.06-2.06.94zm10 10l.94 2.06.94-2.06 2.06-.94-2.06-.94-.94-2.06-.94 2.06-2.06.94z\"/><path d=\"M17.41 7.96l-1.37-1.37c-.4-.4-.92-.59-1.43-.59-.52 0-1.04.2-1.43.59L10.3 9.45l-7.72 7.72c-.78.78-.78 2.05 0 2.83L4 21.41c.39.39.9.59 1.41.59.51 0 1.02-.2 1.41-.59l7.78-7.78 2.81-2.81c.8-.78.8-2.07 0-2.86zM5.41 20L4 18.59l7.72-7.72 1.47 1.35L5.41 20z\"/>\n",
              "  </svg>\n",
              "      </button>\n",
              "      \n",
              "  <style>\n",
              "    .colab-df-container {\n",
              "      display:flex;\n",
              "      flex-wrap:wrap;\n",
              "      gap: 12px;\n",
              "    }\n",
              "\n",
              "    .colab-df-convert {\n",
              "      background-color: #E8F0FE;\n",
              "      border: none;\n",
              "      border-radius: 50%;\n",
              "      cursor: pointer;\n",
              "      display: none;\n",
              "      fill: #1967D2;\n",
              "      height: 32px;\n",
              "      padding: 0 0 0 0;\n",
              "      width: 32px;\n",
              "    }\n",
              "\n",
              "    .colab-df-convert:hover {\n",
              "      background-color: #E2EBFA;\n",
              "      box-shadow: 0px 1px 2px rgba(60, 64, 67, 0.3), 0px 1px 3px 1px rgba(60, 64, 67, 0.15);\n",
              "      fill: #174EA6;\n",
              "    }\n",
              "\n",
              "    [theme=dark] .colab-df-convert {\n",
              "      background-color: #3B4455;\n",
              "      fill: #D2E3FC;\n",
              "    }\n",
              "\n",
              "    [theme=dark] .colab-df-convert:hover {\n",
              "      background-color: #434B5C;\n",
              "      box-shadow: 0px 1px 3px 1px rgba(0, 0, 0, 0.15);\n",
              "      filter: drop-shadow(0px 1px 2px rgba(0, 0, 0, 0.3));\n",
              "      fill: #FFFFFF;\n",
              "    }\n",
              "  </style>\n",
              "\n",
              "      <script>\n",
              "        const buttonEl =\n",
              "          document.querySelector('#df-41eaad60-cafd-45c1-a7b7-0f4a6a31285e button.colab-df-convert');\n",
              "        buttonEl.style.display =\n",
              "          google.colab.kernel.accessAllowed ? 'block' : 'none';\n",
              "\n",
              "        async function convertToInteractive(key) {\n",
              "          const element = document.querySelector('#df-41eaad60-cafd-45c1-a7b7-0f4a6a31285e');\n",
              "          const dataTable =\n",
              "            await google.colab.kernel.invokeFunction('convertToInteractive',\n",
              "                                                     [key], {});\n",
              "          if (!dataTable) return;\n",
              "\n",
              "          const docLinkHtml = 'Like what you see? Visit the ' +\n",
              "            '<a target=\"_blank\" href=https://colab.research.google.com/notebooks/data_table.ipynb>data table notebook</a>'\n",
              "            + ' to learn more about interactive tables.';\n",
              "          element.innerHTML = '';\n",
              "          dataTable['output_type'] = 'display_data';\n",
              "          await google.colab.output.renderOutput(dataTable, element);\n",
              "          const docLink = document.createElement('div');\n",
              "          docLink.innerHTML = docLinkHtml;\n",
              "          element.appendChild(docLink);\n",
              "        }\n",
              "      </script>\n",
              "    </div>\n",
              "  </div>\n",
              "  "
            ],
            "text/plain": [
              "Empty DataFrame\n",
              "Columns: [Brand You Choose, Type of smartphone you need, Screen Size you prefer, Screen Resolution, Type, Type of display you prefer, Refresh rate to choose (Hz), Touch sample/ response rate (Hz), Primary Camera (MP) you want, Ultra-wide camera (MP), Tertiary Camera_telephoto or macro_camera (MP), sensor selected for 1st image, sensor selected for 2nd image, sensor selected for 3rd image, sensor selected for 4th image, Side frame, Back Panel, Battery You Prefer (mAh), Weight of smartphone you prefer (g), Wired charger capacity (w), Wireless Charger (w), Thickness you prefer (mm), Processor you prefer]\n",
              "Index: []"
            ]
          },
          "metadata": {},
          "execution_count": 243
        }
      ]
    },
    {
      "cell_type": "code",
      "source": [
        "#Refresh rate to choose (Hz)\n",
        "cp(gd)"
      ],
      "metadata": {
        "colab": {
          "base_uri": "https://localhost:8080/",
          "height": 589
        },
        "id": "VicYFqSIFksz",
        "outputId": "f7855c18-f3ca-4b49-8ab5-f7cc693b65be"
      },
      "execution_count": null,
      "outputs": [
        {
          "name": "stdout",
          "output_type": "stream",
          "text": [
            "column Name Refresh rate to choose (Hz)\n",
            "length : 3\n",
            "x_figsize : 6.6\n",
            "y_figsize : 5\n",
            "color 1\n",
            "33\n",
            "color 2\n",
            "34\n",
            "color 3\n",
            "35\n",
            "144    17\n",
            "120    10\n",
            "90      1\n",
            "Name: Refresh rate to choose (Hz), dtype: int64 AxesSubplot(0.125,0.125;0.775x0.755)\n",
            "enter image name :Refresh rate to choose (Hz).jpg\n"
          ]
        },
        {
          "output_type": "display_data",
          "data": {
            "image/png": "[encoded data removed]",
            "text/plain": [
              "<Figure size 475.2x360 with 1 Axes>"
            ]
          },
          "metadata": {
            "needs_background": "light"
          }
        }
      ]
    },
    {
      "cell_type": "code",
      "source": [
        "#Touch sample/ response rate (Hz)\n",
        "cp(gd)\n"
      ],
      "metadata": {
        "colab": {
          "base_uri": "https://localhost:8080/",
          "height": 699
        },
        "id": "wxEDse1BFo6z",
        "outputId": "087e8d3c-bc32-4329-bad4-f6edbcd16533"
      },
      "execution_count": null,
      "outputs": [
        {
          "name": "stdout",
          "output_type": "stream",
          "text": [
            "column Name Touch sample/ response rate (Hz)\n",
            "length : 5\n",
            "x_figsize : 6.6\n",
            "y_figsize : 5\n",
            "color 1\n",
            "41\n",
            "color 2\n",
            "42\n",
            "color 3\n",
            "43\n",
            "color 4\n",
            "44\n",
            "color 5\n",
            "45\n",
            "480     8\n",
            "600     7\n",
            "300     6\n",
            "1000    6\n",
            "180     1\n",
            "Name: Touch sample/ response rate (Hz), dtype: int64 AxesSubplot(0.125,0.125;0.775x0.755)\n",
            "enter image name :Touch sample rate.jpg\n"
          ]
        },
        {
          "output_type": "display_data",
          "data": {
            "image/png": "[encoded data removed]",
            "text/plain": [
              "<Figure size 475.2x360 with 1 Axes>"
            ]
          },
          "metadata": {
            "needs_background": "light"
          }
        }
      ]
    },
    {
      "cell_type": "code",
      "source": [
        "#Primary Camera (MP) you want\n",
        "cp(gd)"
      ],
      "metadata": {
        "colab": {
          "base_uri": "https://localhost:8080/",
          "height": 693
        },
        "id": "_sBBJlTdFrHY",
        "outputId": "4ceefcea-177b-4768-aee9-d5952662c04a"
      },
      "execution_count": null,
      "outputs": [
        {
          "name": "stdout",
          "output_type": "stream",
          "text": [
            "column Name Primary Camera (MP) you want\n",
            "length : 5\n",
            "x_figsize : 6.6\n",
            "y_figsize : 5\n",
            "color 1\n",
            "33\n",
            "color 2\n",
            "34\n",
            "color 3\n",
            "35\n",
            "color 4\n",
            "36\n",
            "color 5\n",
            "37\n",
            "50     9\n",
            "108    7\n",
            "12     5\n",
            "64     5\n",
            "48     2\n",
            "Name: Primary Camera (MP) you want, dtype: int64 AxesSubplot(0.125,0.125;0.775x0.755)\n",
            "enter image name :Primary Camera (MP) you want.jpg\n"
          ]
        },
        {
          "output_type": "display_data",
          "data": {
            "image/png": "[encoded data removed]",
            "text/plain": [
              "<Figure size 475.2x360 with 1 Axes>"
            ]
          },
          "metadata": {
            "needs_background": "light"
          }
        }
      ]
    },
    {
      "cell_type": "code",
      "source": [
        "#Ultra-wide camera (MP)\n",
        "cp(gd)"
      ],
      "metadata": {
        "colab": {
          "base_uri": "https://localhost:8080/",
          "height": 855
        },
        "id": "lMJMuFR4FtM2",
        "outputId": "bc6f46bb-5588-4bef-a5f2-f7ed4d4da170"
      },
      "execution_count": null,
      "outputs": [
        {
          "name": "stdout",
          "output_type": "stream",
          "text": [
            "column Name Ultra-wide camera (MP)\n",
            "length : 7\n",
            "x_figsize : 6.6\n",
            "y_figsize : 5\n",
            "color 1\n",
            "12\n",
            "color 2\n",
            "13\n",
            "color 3\n",
            "14\n",
            "color 4\n",
            "15\n",
            "color 5\n",
            "16\n",
            "color 6\n",
            "17\n",
            "color 7\n",
            "18\n",
            "12                 11\n",
            "50                  4\n",
            "8                   4\n",
            "48                  3\n",
            "16                  3\n",
            "Don't Need this     2\n",
            "64                  1\n",
            "Name: Ultra-wide camera (MP), dtype: int64 AxesSubplot(0.125,0.125;0.775x0.755)\n",
            "enter image name :Ultra-wide camera (MP).jpg\n"
          ]
        },
        {
          "output_type": "display_data",
          "data": {
            "image/png": "[encoded data removed]",
            "text/plain": [
              "<Figure size 475.2x360 with 1 Axes>"
            ]
          },
          "metadata": {
            "needs_background": "light"
          }
        }
      ]
    },
    {
      "cell_type": "code",
      "source": [
        "#4\n",
        "cp(gd)"
      ],
      "metadata": {
        "colab": {
          "base_uri": "https://localhost:8080/",
          "height": 960
        },
        "id": "Eepsj4JOFwnv",
        "outputId": "f23d6822-b29f-4606-85f0-c1913606557a"
      },
      "execution_count": null,
      "outputs": [
        {
          "name": "stdout",
          "output_type": "stream",
          "text": [
            "column Name Tertiary Camera_telephoto or macro_camera (MP)\n",
            "length : 9\n",
            "x_figsize : 6.6\n",
            "y_figsize : 5\n",
            "color 1\n",
            "55\n",
            "color 2\n",
            "54\n",
            "color 3\n",
            "53\n",
            "color 4\n",
            "52\n",
            "color 5\n",
            "51\n",
            "color 6\n",
            "50\n",
            "color 7\n",
            "49\n",
            "color 8\n",
            "48\n",
            "color 9\n",
            "47\n",
            "12                 9\n",
            "5 (Macro)          6\n",
            "Don't Need this    5\n",
            "16                 3\n",
            "10                 1\n",
            "64                 1\n",
            "50                 1\n",
            "48                 1\n",
            "8                  1\n",
            "Name: Tertiary Camera_telephoto or macro_camera (MP), dtype: int64 AxesSubplot(0.125,0.125;0.775x0.755)\n",
            "enter image name :Tertiary Camera.jpg\n"
          ]
        },
        {
          "output_type": "display_data",
          "data": {
            "image/png": "[encoded data removed]",
            "text/plain": [
              "<Figure size 475.2x360 with 1 Axes>"
            ]
          },
          "metadata": {
            "needs_background": "light"
          }
        }
      ]
    },
    {
      "cell_type": "code",
      "source": [
        "#sensor selected for 1st image\n",
        "cp(gd)"
      ],
      "metadata": {
        "colab": {
          "base_uri": "https://localhost:8080/",
          "height": 568
        },
        "id": "7ylrqugkFz4w",
        "outputId": "1c3d1397-7e64-4065-b342-c7693253a9ab"
      },
      "execution_count": null,
      "outputs": [
        {
          "name": "stdout",
          "output_type": "stream",
          "text": [
            "column Name sensor selected for 1st image\n",
            "length : 2\n",
            "x_figsize : 6.6\n",
            "y_figsize : 5\n",
            "color 1\n",
            "33\n",
            "color 2\n",
            "28\n",
            "SONY       16\n",
            "SAMSUNG    12\n",
            "Name: sensor selected for 1st image, dtype: int64 AxesSubplot(0.125,0.125;0.775x0.755)\n",
            "enter image name :sensor selected for 1st image.jpg\n"
          ]
        },
        {
          "output_type": "display_data",
          "data": {
            "image/png": "[encoded data removed]",
            "text/plain": [
              "<Figure size 475.2x360 with 1 Axes>"
            ]
          },
          "metadata": {
            "needs_background": "light"
          }
        }
      ]
    },
    {
      "cell_type": "code",
      "source": [
        "#sensor selected for 2nd image\n",
        "cp(gd)"
      ],
      "metadata": {
        "colab": {
          "base_uri": "https://localhost:8080/",
          "height": 568
        },
        "id": "lMX8sHBLF2DB",
        "outputId": "8a13a7f7-6543-476e-f85f-ed031c569bcf"
      },
      "execution_count": null,
      "outputs": [
        {
          "name": "stdout",
          "output_type": "stream",
          "text": [
            "column Name sensor selected for 2nd image\n",
            "length : 2\n",
            "x_figsize : 6.6\n",
            "y_figsize : 5\n",
            "color 1\n",
            "33\n",
            "color 2\n",
            "28\n",
            "SONY       18\n",
            "SAMSUNG    10\n",
            "Name: sensor selected for 2nd image, dtype: int64 AxesSubplot(0.125,0.125;0.775x0.755)\n",
            "enter image name :sensor selected for 2nd image.jpg\n"
          ]
        },
        {
          "output_type": "display_data",
          "data": {
            "image/png": "[encoded data removed]",
            "text/plain": [
              "<Figure size 475.2x360 with 1 Axes>"
            ]
          },
          "metadata": {
            "needs_background": "light"
          }
        }
      ]
    },
    {
      "cell_type": "code",
      "source": [
        "#sensor selected for 3rd image\n",
        "cp(gd)"
      ],
      "metadata": {
        "colab": {
          "base_uri": "https://localhost:8080/",
          "height": 568
        },
        "id": "S08gwAAGF3_y",
        "outputId": "b8e7a3a2-ecb6-4a5f-fd64-0263e0b2d91f"
      },
      "execution_count": null,
      "outputs": [
        {
          "name": "stdout",
          "output_type": "stream",
          "text": [
            "column Name sensor selected for 3rd image\n",
            "length : 2\n",
            "x_figsize : 6.6\n",
            "y_figsize : 5\n",
            "color 1\n",
            "28\n",
            "color 2\n",
            "33\n",
            "SAMSUNG    15\n",
            "SONY       13\n",
            "Name: sensor selected for 3rd image, dtype: int64 AxesSubplot(0.125,0.125;0.775x0.755)\n",
            "enter image name :sensor selected for 3rd image.jpg\n"
          ]
        },
        {
          "output_type": "display_data",
          "data": {
            "image/png": "[encoded data removed]",
            "text/plain": [
              "<Figure size 475.2x360 with 1 Axes>"
            ]
          },
          "metadata": {
            "needs_background": "light"
          }
        }
      ]
    },
    {
      "cell_type": "code",
      "source": [
        "#sensor selected for 4th image\n",
        "cp(gd)"
      ],
      "metadata": {
        "colab": {
          "base_uri": "https://localhost:8080/",
          "height": 568
        },
        "id": "TRv104DmF6IB",
        "outputId": "82d50bf8-96ef-4cd3-f794-d0474e894735"
      },
      "execution_count": null,
      "outputs": [
        {
          "name": "stdout",
          "output_type": "stream",
          "text": [
            "column Name sensor selected for 4th image\n",
            "length : 2\n",
            "x_figsize : 6.6\n",
            "y_figsize : 5\n",
            "color 1\n",
            "28\n",
            "color 2\n",
            "33\n",
            "SAMSUNG    26\n",
            "SONY        2\n",
            "Name: sensor selected for 4th image, dtype: int64 AxesSubplot(0.125,0.125;0.775x0.755)\n",
            "enter image name :sensor selected for 4th image.jpg\n"
          ]
        },
        {
          "output_type": "display_data",
          "data": {
            "image/png": "[encoded data removed]",
            "text/plain": [
              "<Figure size 475.2x360 with 1 Axes>"
            ]
          },
          "metadata": {
            "needs_background": "light"
          }
        }
      ]
    },
    {
      "cell_type": "code",
      "source": [
        "#Side frame\n",
        "cp(gd)"
      ],
      "metadata": {
        "colab": {
          "base_uri": "https://localhost:8080/",
          "height": 643
        },
        "id": "sF7ag80lF8TT",
        "outputId": "4d4f59f4-0f6a-485b-9a98-8678ca2cb1d7"
      },
      "execution_count": null,
      "outputs": [
        {
          "name": "stdout",
          "output_type": "stream",
          "text": [
            "column Name Side frame\n",
            "length : 3\n",
            "x_figsize : 6.6\n",
            "y_figsize : 5\n",
            "color 1\n",
            "29\n",
            "color 2\n",
            "10\n",
            "color 3\n",
            "39\n",
            "Aluminium          26\n",
            "Stainless Steel     1\n",
            "Plastic             1\n",
            "Name: Side frame, dtype: int64 AxesSubplot(0.125,0.125;0.775x0.755)\n",
            "enter image name :Side frame.jpg\n"
          ]
        },
        {
          "output_type": "display_data",
          "data": {
            "image/png": "[encoded data removed]",
            "text/plain": [
              "<Figure size 475.2x360 with 1 Axes>"
            ]
          },
          "metadata": {
            "needs_background": "light"
          }
        }
      ]
    },
    {
      "cell_type": "code",
      "source": [
        "#Back Panel\n",
        "cp(gd)"
      ],
      "metadata": {
        "colab": {
          "base_uri": "https://localhost:8080/",
          "height": 629
        },
        "id": "svErNJhwF-Bi",
        "outputId": "ae4969fb-31f8-4596-bf0d-8e12ea467a20"
      },
      "execution_count": null,
      "outputs": [
        {
          "name": "stdout",
          "output_type": "stream",
          "text": [
            "column Name Back Panel\n",
            "length : 3\n",
            "x_figsize : 6.6\n",
            "y_figsize : 5\n",
            "color 1\n",
            "50\n",
            "color 2\n",
            "40\n",
            "color 3\n",
            "20\n",
            "Glass          26\n",
            "Eco Leather     1\n",
            "Plastic         1\n",
            "Name: Back Panel, dtype: int64 AxesSubplot(0.125,0.125;0.775x0.755)\n",
            "enter image name :Back Panel.jpg\n"
          ]
        },
        {
          "output_type": "display_data",
          "data": {
            "image/png": "[encoded data removed]",
            "text/plain": [
              "<Figure size 475.2x360 with 1 Axes>"
            ]
          },
          "metadata": {
            "needs_background": "light"
          }
        }
      ]
    },
    {
      "cell_type": "code",
      "source": [
        "#Battery You Prefer (mAh)\n",
        "cp(gd)"
      ],
      "metadata": {
        "colab": {
          "base_uri": "https://localhost:8080/",
          "height": 647
        },
        "id": "tp3pkqE_GDjj",
        "outputId": "93d4dada-bbde-4fd1-a14b-a9aab6c9bece"
      },
      "execution_count": null,
      "outputs": [
        {
          "name": "stdout",
          "output_type": "stream",
          "text": [
            "column Name Battery You Prefer (mAh)\n",
            "length : 4\n",
            "x_figsize : 6.6\n",
            "y_figsize : 5\n",
            "color 1\n",
            "21\n",
            "color 2\n",
            "31\n",
            "color 3\n",
            "41\n",
            "color 4\n",
            "51\n",
            "5000    12\n",
            "6000    10\n",
            "4800     3\n",
            "4500     3\n",
            "Name: Battery You Prefer (mAh), dtype: int64 AxesSubplot(0.125,0.125;0.775x0.755)\n",
            "enter image name :Battery You Prefer (mAh).jpg\n"
          ]
        },
        {
          "output_type": "display_data",
          "data": {
            "image/png": "[encoded data removed]",
            "text/plain": [
              "<Figure size 475.2x360 with 1 Axes>"
            ]
          },
          "metadata": {
            "needs_background": "light"
          }
        }
      ]
    },
    {
      "cell_type": "code",
      "source": [
        "#Weight of smartphone you prefer (g)\n",
        "cp(gd)"
      ],
      "metadata": {
        "colab": {
          "base_uri": "https://localhost:8080/",
          "height": 797
        },
        "id": "ULX6_fMxGEPj",
        "outputId": "2059cca6-2034-45df-cde9-dfbabfc33934"
      },
      "execution_count": null,
      "outputs": [
        {
          "name": "stdout",
          "output_type": "stream",
          "text": [
            "column Name Weight of smartphone you prefer (g)\n",
            "length : 7\n",
            "x_figsize : 6.6\n",
            "y_figsize : 5\n",
            "color 1\n",
            "3\n",
            "color 2\n",
            "5\n",
            "color 3\n",
            "7\n",
            "color 4\n",
            "9\n",
            "color 5\n",
            "11\n",
            "color 6\n",
            "13\n",
            "color 7\n",
            "15\n",
            "195    10\n",
            "199     7\n",
            "188     5\n",
            "204     2\n",
            "183     2\n",
            "230     1\n",
            "177     1\n",
            "Name: Weight of smartphone you prefer (g), dtype: int64 AxesSubplot(0.125,0.125;0.775x0.755)\n",
            "enter image name :Weight of smartphone you prefer (g).jpg\n"
          ]
        },
        {
          "output_type": "display_data",
          "data": {
            "image/png": "[encoded data removed]",
            "text/plain": [
              "<Figure size 475.2x360 with 1 Axes>"
            ]
          },
          "metadata": {
            "needs_background": "light"
          }
        }
      ]
    },
    {
      "cell_type": "code",
      "source": [
        "#Wired charger capacity (w)\n",
        "cp(gd)"
      ],
      "metadata": {
        "colab": {
          "base_uri": "https://localhost:8080/",
          "height": 797
        },
        "id": "SgqnAwuyGHl9",
        "outputId": "1dc148f6-e98a-4bb4-b06d-bc6be6dc6d74"
      },
      "execution_count": null,
      "outputs": [
        {
          "name": "stdout",
          "output_type": "stream",
          "text": [
            "column Name Wired charger capacity (w)\n",
            "length : 7\n",
            "x_figsize : 6.6\n",
            "y_figsize : 5\n",
            "color 1\n",
            "11\n",
            "color 2\n",
            "22\n",
            "color 3\n",
            "33\n",
            "color 4\n",
            "44\n",
            "color 5\n",
            "55\n",
            "color 6\n",
            "12\n",
            "color 7\n",
            "23\n",
            "65     11\n",
            "100     6\n",
            "80      4\n",
            "40      3\n",
            "30      2\n",
            "90      1\n",
            "33      1\n",
            "Name: Wired charger capacity (w), dtype: int64 AxesSubplot(0.125,0.125;0.775x0.755)\n",
            "enter image name :Wired charger capacity (w).jpg\n"
          ]
        },
        {
          "output_type": "display_data",
          "data": {
            "image/png": "[encoded data removed]",
            "text/plain": [
              "<Figure size 475.2x360 with 1 Axes>"
            ]
          },
          "metadata": {
            "needs_background": "light"
          }
        }
      ]
    },
    {
      "cell_type": "code",
      "source": [
        "#Wireless Charger (w)\n",
        "cp(gd)"
      ],
      "metadata": {
        "colab": {
          "base_uri": "https://localhost:8080/",
          "height": 731
        },
        "id": "9gi4QY3FGR_h",
        "outputId": "1cc051a7-ce63-4772-b963-103257a6d78a"
      },
      "execution_count": null,
      "outputs": [
        {
          "name": "stdout",
          "output_type": "stream",
          "text": [
            "column Name Wireless Charger (w)\n",
            "length : 5\n",
            "x_figsize : 6.6\n",
            "y_figsize : 5\n",
            "color 1\n",
            "24\n",
            "color 2\n",
            "25\n",
            "color 3\n",
            "26\n",
            "color 4\n",
            "27\n",
            "color 5\n",
            "28\n",
            "not needed    14\n",
            "45             5\n",
            "25             5\n",
            "20             3\n",
            "15             1\n",
            "Name: Wireless Charger (w), dtype: int64 AxesSubplot(0.125,0.125;0.775x0.755)\n",
            "enter image name :Wireless Charger (w).jpg\n"
          ]
        },
        {
          "output_type": "display_data",
          "data": {
            "image/png": "[encoded data removed]",
            "text/plain": [
              "<Figure size 475.2x360 with 1 Axes>"
            ]
          },
          "metadata": {
            "needs_background": "light"
          }
        }
      ]
    },
    {
      "cell_type": "code",
      "source": [
        "#Thickness you prefer (mm)\n",
        "cp(gd)"
      ],
      "metadata": {
        "colab": {
          "base_uri": "https://localhost:8080/",
          "height": 691
        },
        "id": "pD8nz2CEGXK9",
        "outputId": "cb132890-85a9-487f-81d1-07df12ff15f2"
      },
      "execution_count": null,
      "outputs": [
        {
          "name": "stdout",
          "output_type": "stream",
          "text": [
            "column Name Thickness you prefer (mm)\n",
            "length : 5\n",
            "x_figsize : 6.6\n",
            "y_figsize : 5\n",
            "color 1\n",
            "2\n",
            "4\n",
            "color 2\n",
            "color 3\n",
            "6\n",
            "color 4\n",
            "8\n",
            "color 5\n",
            "10\n",
            "8.8    16\n",
            "9.2     5\n",
            "8.0     3\n",
            "8.3     2\n",
            "8.6     2\n",
            "Name: Thickness you prefer (mm), dtype: int64 AxesSubplot(0.125,0.125;0.775x0.755)\n",
            "enter image name :Thickness you prefer (mm).jpg\n"
          ]
        },
        {
          "output_type": "display_data",
          "data": {
            "image/png": "[encoded data removed]",
            "text/plain": [
              "<Figure size 475.2x360 with 1 Axes>"
            ]
          },
          "metadata": {
            "needs_background": "light"
          }
        }
      ]
    },
    {
      "cell_type": "code",
      "source": [
        "#Processor you prefer\n",
        "cp(gd)"
      ],
      "metadata": {
        "colab": {
          "base_uri": "https://localhost:8080/",
          "height": 610
        },
        "id": "AOCDUDXwGY6V",
        "outputId": "b5b1ea8e-02a4-4fc9-9183-2dcd53c1c164"
      },
      "execution_count": null,
      "outputs": [
        {
          "name": "stdout",
          "output_type": "stream",
          "text": [
            "column Name Processor you prefer\n",
            "length : 2\n",
            "x_figsize : 6.6\n",
            "y_figsize : 5\n",
            "color 1\n",
            "19\n",
            "color 2\n",
            "21\n",
            "Snapdragon 888+    24\n",
            "APPLE A15           4\n",
            "Name: Processor you prefer, dtype: int64 AxesSubplot(0.125,0.125;0.775x0.755)\n",
            "enter image name :Processor you prefer.jpg\n"
          ]
        },
        {
          "output_type": "display_data",
          "data": {
            "image/png": "[encoded data removed]",
            "text/plain": [
              "<Figure size 475.2x360 with 1 Axes>"
            ]
          },
          "metadata": {
            "needs_background": "light"
          }
        }
      ]
    },
    {
      "cell_type": "code",
      "source": [
        "#some colors in python\n",
        "clr=[]\n",
        "colors=['b','y','m','g','r','c','dimgray','darkorange','limegreen','lightsteelblue','rosybrown','darkgoldenrod','lightseagreen',\n",
        "        'mediumslateblue','indianred','tan','olivedrab','teal','mediumseagreen','crimson','orchid','midnightblue','maroon','palegreen',\n",
        "        'peru','orange','darkseagreen','slategray','dodgerblue','mediumvioletred','mediumslateblue','mediumturquoise','salmon','cornflowerblue',\n",
        "        'thistle','steelblue','yellowgreen','khaki','orangered','greenyellow','chocolate','burlywood','powderblue','lavender','indigo',\n",
        "        'firebrick','oldlace','coral','deeppink','rebeccapurple','navy','deepskyblue','forestgreen','mediumaquamarine','papayawhip','tomato',\n",
        "        'silver']\n",
        "len(colors)\n",
        "\n"
      ],
      "metadata": {
        "colab": {
          "base_uri": "https://localhost:8080/"
        },
        "id": "G9GDJF7nCYqY",
        "outputId": "5921371a-7f8a-4275-bee7-a45691e38337"
      },
      "execution_count": null,
      "outputs": [
        {
          "output_type": "execute_result",
          "data": {
            "text/plain": [
              "57"
            ]
          },
          "metadata": {},
          "execution_count": 24
        }
      ]
    },
    {
      "cell_type": "code",
      "source": [
        "(gd['sensor selected for 1st image']=='SONY').sum()"
      ],
      "metadata": {
        "colab": {
          "base_uri": "https://localhost:8080/"
        },
        "id": "ivnehOhYKbaT",
        "outputId": "6f9381b6-0432-42f0-e54d-754560a7c637"
      },
      "execution_count": null,
      "outputs": [
        {
          "output_type": "execute_result",
          "data": {
            "text/plain": [
              "16"
            ]
          },
          "metadata": {},
          "execution_count": 51
        }
      ]
    },
    {
      "cell_type": "code",
      "source": [
        "gso1=len(gd[gd['sensor selected for 1st image']=='SONY'])\n",
        "gso2=len(gd[gd['sensor selected for 2nd image']=='SONY'])\n",
        "gso3=len(gd[gd['sensor selected for 3rd image']=='SONY'])\n",
        "gso4=len(gd[gd['sensor selected for 4th image']=='SONY'])\n",
        "\n",
        "gsa1=len(gd[gd['sensor selected for 1st image']=='SAMSUNG'])\n",
        "gsa2=len(gd[gd['sensor selected for 2nd image']=='SAMSUNG'])\n",
        "gsa3=len(gd[gd['sensor selected for 3rd image']=='SAMSUNG'])\n",
        "gsa4=len(gd[gd['sensor selected for 4th image']=='SAMSUNG'])\n",
        "\n",
        "print('For Gaming Flagships','\\nSony total selections =',gso1+gso2+gso3+gso4,'\\nSamsung total selections = ', gsa1+gsa2+gsa3+gsa4)\n",
        "#**here samsung has the overall amximum selections out of the 4 image for gaming flagships**"
      ],
      "metadata": {
        "colab": {
          "base_uri": "https://localhost:8080/"
        },
        "id": "S9eox1PpPyqv",
        "outputId": "5e053414-9f50-4e24-e177-ed7816775ab0"
      },
      "execution_count": null,
      "outputs": [
        {
          "output_type": "stream",
          "name": "stdout",
          "text": [
            "For Gaming Flagships \n",
            "Sony total selections = 49 \n",
            "Samsung total selections =  63\n"
          ]
        }
      ]
    },
    {
      "cell_type": "markdown",
      "source": [
        "1. ASUS was recorded the most responses as  brand in gaming\n",
        "\n",
        "2. **6.7** followed by 6.55\n",
        "\n",
        "3. 1284x2778 was the Screen Resolution selected by most\n",
        "\n",
        "4. **Non-foldable** was most \n",
        "\n",
        "5. **AMOLED** \n",
        "\n",
        "6. **144Hz** refresh rate\n",
        "\n",
        "7. **480Hz** touch sample rate\n",
        "\n",
        "8. Primary Camer **50MP** followed by 108\n",
        "\n",
        "9. Ultrawide Camera **12MP** \n",
        "\n",
        "10. Tertiary camera **12MP** followed by 5(macro)\n",
        "\n",
        "11. **Samsung** was the overall most selected Sensor\n",
        "\n",
        "12. **Aluminium** frame\n",
        "\n",
        "13. **Glass** back panel most prefered\n",
        "\n",
        "14. **5000mAh** batter most recorded then 4500\n",
        "\n",
        "15. weight **195**g\n",
        "\n",
        "16. thickness **8.8**\n",
        "\n",
        "17. **65w** wired charger then 100,80\n",
        "\n",
        "18. **'not need'** wireless charger \n",
        "\n",
        "19. snapdragon 888+ then Apple A15"
      ],
      "metadata": {
        "id": "CwMKkk0ZByRZ"
      }
    },
    {
      "cell_type": "markdown",
      "source": [
        "# **Second Analysis is based on Normal Flagship Devices**"
      ],
      "metadata": {
        "id": "q2MDlKe_kFKm"
      }
    },
    {
      "cell_type": "code",
      "source": [
        "files.upload()"
      ],
      "metadata": {
        "colab": {
          "resources": {
            "http://localhost:8080/nbextensions/google.colab/files.js": {
              "data": "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",
              "ok": true,
              "headers": [
                [
                  "content-type",
                  "application/javascript"
                ]
              ],
              "status": 200,
              "status_text": ""
            }
          },
          "base_uri": "https://localhost:8080/",
          "height": 128
        },
        "id": "rAqfsnNJBrqn",
        "outputId": "6c6f7fe1-7744-4737-afb6-02b314d976c2"
      },
      "execution_count": null,
      "outputs": [
        {
          "output_type": "display_data",
          "data": {
            "text/html": [
              "\n",
              "     <input type=\"file\" id=\"files-bba56f23-667d-491c-b06d-6607d80a96f5\" name=\"files[]\" multiple disabled\n",
              "        style=\"border:none\" />\n",
              "     <output id=\"result-bba56f23-667d-491c-b06d-6607d80a96f5\">\n",
              "      Upload widget is only available when the cell has been executed in the\n",
              "      current browser session. Please rerun this cell to enable.\n",
              "      </output>\n",
              "      <script src=\"/nbextensions/google.colab/files.js\"></script> "
            ],
            "text/plain": [
              "<IPython.core.display.HTML object>"
            ]
          },
          "metadata": {}
        },
        {
          "output_type": "stream",
          "name": "stdout",
          "text": [
            "Saving Normal Flagship Survey Data.xlsx to Normal Flagship Survey Data.xlsx\n"
          ]
        },
        {
          "output_type": "execute_result",
          "data": {
            "text/plain": [
              "{'Normal Flagship Survey Data.xlsx': b'PK\\x03\\x04\\x14\\x00\\x06\\x00\\x08\\x00\\x00\\x00!\\x00b\\xee\\x9dh^\\x01\\x00\\x00\\x90\\x04\\x00\\x00\\x13\\x00\\x08\\x02[Content_Types].xml \\xa2\\x04\\x02(\\xa0\\x00\\x02\\x00\\x00\\x00\\x00\\x00\\x00\\x00\\x00\\x00\\x00\\x00\\x00\\x00\\x00\\x00\\x00\\x00\\x00\\x00\\x00\\x00\\x00\\x00\\x00\\x00\\x00\\x00\\x00\\x00\\x00\\x00\\x00\\x00\\x00\\x00\\x00\\x00\\x00\\x00\\x00\\x00\\x00\\x00\\x00\\x00\\x00\\x00\\x00\\x00\\x00\\x00\\x00\\x00\\x00\\x00\\x00\\x00\\x00\\x00\\x00\\x00\\x00\\x00\\x00\\x00\\x00\\x00\\x00\\x00\\x00\\x00\\x00\\x00\\x00\\x00\\x00\\x00\\x00\\x00\\x00\\x00\\x00\\x00\\x00\\x00\\x00\\x00\\x00\\x00\\x00\\x00\\x00\\x00\\x00\\x00\\x00\\x00\\x00\\x00\\x00\\x00\\x00\\x00\\x00\\x00\\x00\\x00\\x00\\x00\\x00\\x00\\x00\\x00\\x00\\x00\\x00\\x00\\x00\\x00\\x00\\x00\\x00\\x00\\x00\\x00\\x00\\x00\\x00\\x00\\x00\\x00\\x00\\x00\\x00\\x00\\x00\\x00\\x00\\x00\\x00\\x00\\x00\\x00\\x00\\x00\\x00\\x00\\x00\\x00\\x00\\x00\\x00\\x00\\x00\\x00\\x00\\x00\\x00\\x00\\x00\\x00\\x00\\x00\\x00\\x00\\x00\\x00\\x00\\x00\\x00\\x00\\x00\\x00\\x00\\x00\\x00\\x00\\x00\\x00\\x00\\x00\\x00\\x00\\x00\\x00\\x00\\x00\\x00\\x00\\x00\\x00\\x00\\x00\\x00\\x00\\x00\\x00\\x00\\x00\\x00\\x00\\x00\\x00\\x00\\x00\\x00\\x00\\x00\\x00\\x00\\x00\\x00\\x00\\x00\\x00\\x00\\x00\\x00\\x00\\x00\\x00\\x00\\x00\\x00\\x00\\x00\\x00\\x00\\x00\\x00\\x00\\x00\\x00\\x00\\x00\\x00\\x00\\x00\\x00\\x00\\x00\\x00\\x00\\x00\\x00\\x00\\x00\\x00\\x00\\x00\\x00\\x00\\x00\\x00\\x00\\x00\\x00\\x00\\x00\\x00\\x00\\x00\\x00\\x00\\x00\\x00\\x00\\x00\\x00\\x00\\x00\\x00\\x00\\x00\\x00\\x00\\x00\\x00\\x00\\x00\\x00\\x00\\x00\\x00\\x00\\x00\\x00\\x00\\x00\\x00\\x00\\x00\\x00\\x00\\x00\\x00\\x00\\x00\\x00\\x00\\x00\\x00\\x00\\x00\\x00\\x00\\x00\\x00\\x00\\x00\\x00\\x00\\x00\\x00\\x00\\x00\\x00\\x00\\x00\\x00\\x00\\x00\\x00\\x00\\x00\\x00\\x00\\x00\\x00\\x00\\x00\\x00\\x00\\x00\\x00\\x00\\x00\\x00\\x00\\x00\\x00\\x00\\x00\\x00\\x00\\x00\\x00\\x00\\x00\\x00\\x00\\x00\\x00\\x00\\x00\\x00\\x00\\x00\\x00\\x00\\x00\\x00\\x00\\x00\\x00\\x00\\x00\\x00\\x00\\x00\\x00\\x00\\x00\\x00\\x00\\x00\\x00\\x00\\x00\\x00\\x00\\x00\\x00\\x00\\x00\\x00\\x00\\x00\\x00\\x00\\x00\\x00\\x00\\x00\\x00\\x00\\x00\\x00\\x00\\x00\\x00\\x00\\x00\\x00\\x00\\x00\\x00\\x00\\x00\\x00\\x00\\x00\\x00\\x00\\x00\\x00\\x00\\x00\\x00\\x00\\x00\\x00\\x00\\x00\\x00\\x00\\x00\\x00\\x00\\x00\\x00\\x00\\x00\\x00\\x00\\x00\\x00\\x00\\x00\\x00\\x00\\x00\\x00\\x00\\x00\\x00\\x00\\x00\\x00\\x00\\x00\\x00\\x00\\x00\\x00\\x00\\x00\\x00\\x00\\x00\\x00\\x00\\x00\\x00\\x00\\x00\\x00\\x00\\x00\\x00\\x00\\x00\\x00\\x00\\x00\\x00\\x00\\x00\\x00\\x00\\x00\\x00\\x00\\x00\\x00\\x00\\x00\\x00\\x00\\x00\\x00\\x00\\x00\\x00\\x00\\x00\\x00\\x00\\x00\\x00\\x00\\x00\\x00\\x00\\x00\\x00\\x00\\x00\\x00\\x00\\x00\\x00\\xac\\x94\\xcbN\\xc30\\x10E\\xf7H\\xfcC\\xe4-J\\xdc\\xb2@\\x085\\xed\\x82\\xc7\\x12*Q>\\xc0\\xc4\\x93\\xc6\\xaac[\\x9eii\\xff\\x9e\\x89\\xfb\\x10B\\xa1\\x15j7\\xb1\\x12\\xcf\\xdc{2\\xf1\\xcdh\\xb2nm\\xb6\\x82\\x88\\xc6\\xbbR\\x0c\\x8b\\x81\\xc8\\xc0U^\\x1b7/\\xc5\\xc7\\xec%\\xbf\\x17\\x19\\x92rZY\\xef\\xa0\\x14\\x1b@1\\x19__\\x8df\\x9b\\x00\\x98q\\xb7\\xc3R4D\\xe1AJ\\xac\\x1ah\\x15\\x16>\\x80\\xe3\\x9d\\xda\\xc7V\\x11\\xdf\\xc6\\xb9\\x0c\\xaaZ\\xa89\\xc8\\xdb\\xc1\\xe0NV\\xde\\x118\\xca\\xa9\\xd3\\x10\\xe3\\xd1\\x13\\xd4ji){^\\xf3\\xe3-I\\x04\\x8b\"{\\xdc\\x16v^\\xa5P!XS)bR\\xb9r\\xfa\\x97K\\xbes(\\xb83\\xd5`c\\x02\\xde0\\x86\\x90\\xbd\\x0e\\xdd\\xce\\xdf\\x06\\xbb\\xbe7\\x1eM4\\x1a\\xb2\\xa9\\x8a\\xf4\\xaaZ\\xc6\\x90k+\\xbf|\\\\|z\\xbf(\\x8e\\x8b\\xf4P\\xfa\\xba6\\x15h_-[\\x9e@\\x81!\\x82\\xd2\\xd8\\x00Pk\\x8b\\xb4\\x16\\xad2n\\xcf}\\xc4?\\x15\\xa3L\\xcb\\xf0\\xc2 \\xdd\\xfb%\\xe1\\x13\\x1c\\xc4\\xdf\\x1bd\\xba\\x9e\\x8f\\x90dN\\x18\"m,\\xe0\\xa5\\xc7\\x9eDO97*\\x82~\\xa7\\xc8\\xc9\\xb88\\xc0O\\xedc\\x1c|n\\xa6\\xd1\\x07\\xe4\\x04E\\xf8\\xff\\x14\\xf6\\x11\\xe9\\xba\\xf3\\xc0B\\x10\\xc9\\xc0!$}\\x87\\xed\\xe0\\xc8\\xe9;{\\xec\\xd0\\xe5[\\x83\\xee\\xf1\\x96\\xe9\\x7f2\\xfe\\x06\\x00\\x00\\xff\\xff\\x03\\x00PK\\x03\\x04\\x14\\x00\\x06\\x00\\x08\\x00\\x00\\x00!\\x00\\xb5U0#\\xf4\\x00\\x00\\x00L\\x02\\x00\\x00\\x0b\\x00\\x08\\x02_rels/.rels \\xa2\\x04\\x02(\\xa0\\x00\\x02\\x00\\x00\\x00\\x00\\x00\\x00\\x00\\x00\\x00\\x00\\x00\\x00\\x00\\x00\\x00\\x00\\x00\\x00\\x00\\x00\\x00\\x00\\x00\\x00\\x00\\x00\\x00\\x00\\x00\\x00\\x00\\x00\\x00\\x00\\x00\\x00\\x00\\x00\\x00\\x00\\x00\\x00\\x00\\x00\\x00\\x00\\x00\\x00\\x00\\x00\\x00\\x00\\x00\\x00\\x00\\x00\\x00\\x00\\x00\\x00\\x00\\x00\\x00\\x00\\x00\\x00\\x00\\x00\\x00\\x00\\x00\\x00\\x00\\x00\\x00\\x00\\x00\\x00\\x00\\x00\\x00\\x00\\x00\\x00\\x00\\x00\\x00\\x00\\x00\\x00\\x00\\x00\\x00\\x00\\x00\\x00\\x00\\x00\\x00\\x00\\x00\\x00\\x00\\x00\\x00\\x00\\x00\\x00\\x00\\x00\\x00\\x00\\x00\\x00\\x00\\x00\\x00\\x00\\x00\\x00\\x00\\x00\\x00\\x00\\x00\\x00\\x00\\x00\\x00\\x00\\x00\\x00\\x00\\x00\\x00\\x00\\x00\\x00\\x00\\x00\\x00\\x00\\x00\\x00\\x00\\x00\\x00\\x00\\x00\\x00\\x00\\x00\\x00\\x00\\x00\\x00\\x00\\x00\\x00\\x00\\x00\\x00\\x00\\x00\\x00\\x00\\x00\\x00\\x00\\x00\\x00\\x00\\x00\\x00\\x00\\x00\\x00\\x00\\x00\\x00\\x00\\x00\\x00\\x00\\x00\\x00\\x00\\x00\\x00\\x00\\x00\\x00\\x00\\x00\\x00\\x00\\x00\\x00\\x00\\x00\\x00\\x00\\x00\\x00\\x00\\x00\\x00\\x00\\x00\\x00\\x00\\x00\\x00\\x00\\x00\\x00\\x00\\x00\\x00\\x00\\x00\\x00\\x00\\x00\\x00\\x00\\x00\\x00\\x00\\x00\\x00\\x00\\x00\\x00\\x00\\x00\\x00\\x00\\x00\\x00\\x00\\x00\\x00\\x00\\x00\\x00\\x00\\x00\\x00\\x00\\x00\\x00\\x00\\x00\\x00\\x00\\x00\\x00\\x00\\x00\\x00\\x00\\x00\\x00\\x00\\x00\\x00\\x00\\x00\\x00\\x00\\x00\\x00\\x00\\x00\\x00\\x00\\x00\\x00\\x00\\x00\\x00\\x00\\x00\\x00\\x00\\x00\\x00\\x00\\x00\\x00\\x00\\x00\\x00\\x00\\x00\\x00\\x00\\x00\\x00\\x00\\x00\\x00\\x00\\x00\\x00\\x00\\x00\\x00\\x00\\x00\\x00\\x00\\x00\\x00\\x00\\x00\\x00\\x00\\x00\\x00\\x00\\x00\\x00\\x00\\x00\\x00\\x00\\x00\\x00\\x00\\x00\\x00\\x00\\x00\\x00\\x00\\x00\\x00\\x00\\x00\\x00\\x00\\x00\\x00\\x00\\x00\\x00\\x00\\x00\\x00\\x00\\x00\\x00\\x00\\x00\\x00\\x00\\x00\\x00\\x00\\x00\\x00\\x00\\x00\\x00\\x00\\x00\\x00\\x00\\x00\\x00\\x00\\x00\\x00\\x00\\x00\\x00\\x00\\x00\\x00\\x00\\x00\\x00\\x00\\x00\\x00\\x00\\x00\\x00\\x00\\x00\\x00\\x00\\x00\\x00\\x00\\x00\\x00\\x00\\x00\\x00\\x00\\x00\\x00\\x00\\x00\\x00\\x00\\x00\\x00\\x00\\x00\\x00\\x00\\x00\\x00\\x00\\x00\\x00\\x00\\x00\\x00\\x00\\x00\\x00\\x00\\x00\\x00\\x00\\x00\\x00\\x00\\x00\\x00\\x00\\x00\\x00\\x00\\x00\\x00\\x00\\x00\\x00\\x00\\x00\\x00\\x00\\x00\\x00\\x00\\x00\\x00\\x00\\x00\\x00\\x00\\x00\\x00\\x00\\x00\\x00\\x00\\x00\\x00\\x00\\x00\\x00\\x00\\x00\\x00\\x00\\x00\\x00\\x00\\x00\\x00\\x00\\x00\\x00\\x00\\x00\\x00\\x00\\x00\\x00\\x00\\x00\\x00\\x00\\x00\\x00\\x00\\x00\\x00\\x00\\x00\\x00\\x00\\x00\\x00\\x00\\x00\\x00\\x00\\x00\\x00\\x00\\x00\\x00\\x00\\x00\\xac\\x92MO\\xc30\\x0c\\x86\\xefH\\xfc\\x87\\xc8\\xf7\\xd5\\xdd\\x90\\x10BKwAH\\xbb!T~\\x80I\\xdc\\x0f\\xb5\\x8d\\xa3$\\x1b\\xdd\\xbf\\'\\x1c\\x10T\\x1a\\x83\\x03G\\x7f\\xbd~\\xfc\\xca\\xdb\\xdd<\\x8d\\xea\\xc8!\\xf6\\xe24\\xac\\x8b\\x12\\x14;#\\xb6w\\xad\\x86\\x97\\xfaqu\\x07*&r\\x96Fq\\xac\\xe1\\xc4\\x11v\\xd5\\xf5\\xd5\\xf6\\x99GJy(v\\xbd\\x8f*\\xab\\xb8\\xa8\\xa1K\\xc9\\xdf#F\\xd3\\xf1D\\xb1\\x10\\xcf.W\\x1a\\t\\x13\\xa5\\x1c\\x86\\x16=\\x99\\x81Z\\xc6MY\\xdeb\\xf8\\xae\\x01\\xd5BS\\xed\\xad\\x86\\xb0\\xb77\\xa0\\xea\\x93\\xcf\\x9b\\x7f\\xd7\\x96\\xa6\\xe9\\r?\\x889L\\xec\\xd2\\x99\\x15\\xc8sbg\\xd9\\xae|\\xc8l!\\xf5\\xf9\\x1aUSh9i\\xb0b\\x9er:\"y_dl\\xc0\\xf3D\\x9b\\xbf\\x13\\xfd|-N\\x9c\\xc8R\"4\\x12\\xf82\\xcfG\\xc7%\\xa0\\xf5\\x7fZ\\xb44\\xf1\\xcb\\x9dy\\xc47\\t\\xc3\\xab\\xc8\\xf0\\xc9\\x82\\x8b\\x1f\\xa8\\xde\\x01\\x00\\x00\\xff\\xff\\x03\\x00PK\\x03\\x04\\x14\\x00\\x06\\x00\\x08\\x00\\x00\\x00!\\x00t\\xba\\x051\\x94\\x03\\x00\\x00|\\x08\\x00\\x00\\x0f\\x00\\x00\\x00xl/workbook.xml\\xacU]o\\xa38\\x14}_i\\xff\\x03\\x8b\\xfaJ\\xc1\\x04\\x08\\xa0\\x90Q\\x08\\xa0\\xad\\xd4\\x99\\xad\\xdan\\xfb2R\\xe4\\x80)\\x9e\\x02f\\x8ciRU\\xf3\\xdf\\xe7\\x1aB\\x9aLV\\xa3Ng#b\\xe3\\x0f\\x8e\\xcf\\xbd\\xf7\\xdc\\xeb\\xd9\\x87mU*O\\x84\\xb7\\x94\\xd5\\x81\\x8a\\xce\\rU!u\\xca2Z?\\x04\\xea\\xbf\\xb7\\x89\\xe6\\xaaJ+p\\x9d\\xe1\\x92\\xd5$P\\x9fI\\xab~\\x98\\xff\\xf9\\xc7l\\xc3\\xf8\\xe3\\x9a\\xb1G\\x05\\x00\\xea6P\\x0b!\\x1a_\\xd7\\xdb\\xb4 \\x15n\\xcfYCjX\\xc9\\x19\\xaf\\xb0\\x80!\\x7f\\xd0\\xdb\\x86\\x13\\x9c\\xb5\\x05!\\xa2*u\\xd30\\x1c\\xbd\\xc2\\xb4V\\x07\\x04\\x9f\\xbf\\x05\\x83\\xe59MI\\xc4\\xd2\\xae\"\\xb5\\x18@8)\\xb1\\x00\\xfamA\\x9bvD\\xab\\xd2\\xb7\\xc0U\\x98?v\\x8d\\x96\\xb2\\xaa\\x01\\x885-\\xa9x\\xeeAU\\xa5J\\xfd\\x8b\\x87\\x9aq\\xbc.\\xc1\\xec-\\xb2\\x95-\\x87\\xc7\\x81?2\\xa01\\xc7\\x93`\\xe9\\xe4\\xa8\\x8a\\xa6\\x9c\\xb5,\\x17\\xe7\\x00\\xad\\x0f\\xa4O\\xecG\\x86\\x8e\\xd0\\x91\\x0b\\xb6\\xa7>x\\x1b\\x92\\xa5s\\xf2De\\x0c\\xf7\\xac\\xb8\\xf3NV\\xce\\x1e\\xcby\\x05C\\xc6o\\xa3!\\x90V\\xaf\\x15\\x1f\\x9c\\xf7N4{\\xcf\\xcdT\\xe7\\xb3\\x9c\\x96\\xe4n\\x90\\xae\\x82\\x9b\\xe6\\x13\\xaed\\xa4JU)q+\\xe2\\x8c\\n\\x92\\x05\\xea\\x14\\x86lC\\x8e&x\\xd7\\x84\\x1d-a\\xd5\\xb4\\xa6\\xa6\\xa7\\xea\\xf3\\xbd\\x9c\\xaf\\xb8\\x92\\x91\\x1cw\\xa5\\xb8\\x05!\\x8f\\xf0\\x90\\x19\\x8e\\xe3\\x99\\xb6\\xdc\\t\\xc2X\\x94\\x82\\xf0\\x1a\\x0b\\xb2d\\xb5\\x00\\x1d\\xee\\xec\\xfa]\\xcd\\xf5\\xd8\\xcb\\x82\\x81\\xc2\\x95k\\xf2\\xb5\\xa3\\x9c@b\\x81\\xbe\\xc0Vhq\\xea\\xe3u{\\x85E\\xa1t\\xbc\\x0c\\xd4\\x1b\\xff\\xf3\\x15g_H*>\\x1fh\\x11\\x9f\\n\\xff\\x17\\xd4\\x88Si\\xa2\\x0e6\\x0e<\\x86\\xf7\\x1f\\xed\\x05:\\xdc\\x1f\\x15w%\\xb8\\x02\\xef\\x17\\xd1%x\\xfd\\x06?A\\x0c \\xd2\\xd9.E/\\xc0\\xc9h\\xb2\\xaaS\\xee\\xa3\\xd5\\x8b7\\rc7\\xf6,\\xcdN<[\\xb3L\\'\\xd4\\\\\\xc3\\x9ahn\\xb8\\xb0\\x96\\xc8\\x8d\\xcce\\x1c}\\x03c\\xb8\\xe3\\xa7\\x0cw\\xa2\\xd8\\x85WB\\x07\\xaa\\x05\\xb1<Y\\xfa\\x88\\xb7\\xe3\\n2\\xfc\\x8ef\\xaf4^\\x8c\\xddO\\x93\\xfd\\x0f\\xcd\\xb8\\xf6M\\x1a,\\x0b\\xd9\\x1d%\\x9b\\xf6U\\x08r\\xa8l\\xefi\\x9d\\xb1M\\xa0jH\\xca\\xf7\\xf9x\\xb8\\xe9\\x17\\xefi&\\n0\\xd2\\xb3L\\xd82\\xcc\\xfdM\\xe8C\\x01\\x8c\\x91\\xd1O\\x82\\xe0%\\xb3@}qm\\xcb\\xb4\\xbcE\\xa8\\x19\\x93\\xc4\\xd1\\xac\\x85\\x1bi\\xee\\x04\\xbc`\\x86K\\xcb\\x8c]\\xcb\\x0cQ\\xd23\\xd2\\x0f(\\xf5%\\x13\\xa8\\xf5\\xbdR\\xf72\\xff\\xf4\\xcf\\xf5\\xc7\\xc5%\\xd4fYN\\xa5\\x93\\xa1\\x1eq_\\x9e\\xc1/2\\xd4\\x07q\\xfc\\x0c\\xf4Lk\\x92\\xc9\\xf4\\x00\\x90\\x83\\xd1\\x0ej\\xb5-\\xeb\\xea|\\x95P\\xa9\\xea\\x08\\x0b\\xbc\\xc6-\\x91Y\\x93\\xe2\\xf2f\\x84\\x07\\xd3\\n\\x9aeD^\\x12\\xea|8\\xfd\\xaf\\xb3\\xc5\\x19\\xf2\\xcf\\xee\\xcfLw\\xa6\\x1f\\xe0\\x82h\\x8e\\xcf\\x04\\xa0\\x14\\x12Kv\\xbd\\x1e<d\\x0cYG\\xb6\\xe2\\xb2\\x15\\xf3\\x19\\xf4\\xa0i\\n\\x0eB\\x96\\xb1\\x98\\x1a\\xa0\\x10#\\x9e\\x80B\\\\\\xcf\\xd4\\\\kbjK+2c{\\x1aGqhK\\x85\\xc8K\\xc7\\xff?Jo\\x9fZ\\xfex\\x9bI\\x96\\x05\\xe6\\xe2\\x96\\xe3\\xf4\\x11\\xee\\xc0k\\x92\\x87\\xe0\\ri\\xb4\\xcc\\x0b\\xe0yH6\\xb4\\xdd\\xd0\\x98\\x00E+A\\x89f!\\xcf\\xd0\\xc2\\xd0\\x01uG\\xc9\\xc4\\x9e\\xa2h\\x19\\xdb\\x10\\xcd\\x91\\xac4?\\x7fg\\xe1s\\xf5\\xfek\\x82E\\x07EA\\xd6\\x83~\\xec\\xcb6\\xd9\\xcd\\xee\\'\\xf3ab\\x17\\xde\\xa3\\xec\\xf7\\xaf#i\\xc8\\xee\\xeb\\x9fmL\\xee\\xde\\xb8\\xf12\\xbe]\\xdd\\'\\xbd{\\xfe\\x93\\xd4\\xe04\\xd9\\xf6\\xa1\\xd6GW\\xcf\\xbf\\x03\\x00\\x00\\xff\\xff\\x03\\x00PK\\x03\\x04\\x14\\x00\\x06\\x00\\x08\\x00\\x00\\x00!\\x00\\x81>\\x94\\x97\\xf3\\x00\\x00\\x00\\xba\\x02\\x00\\x00\\x1a\\x00\\x08\\x01xl/_rels/workbook.xml.rels \\xa2\\x04\\x01(\\xa0\\x00\\x01\\x00\\x00\\x00\\x00\\x00\\x00\\x00\\x00\\x00\\x00\\x00\\x00\\x00\\x00\\x00\\x00\\x00\\x00\\x00\\x00\\x00\\x00\\x00\\x00\\x00\\x00\\x00\\x00\\x00\\x00\\x00\\x00\\x00\\x00\\x00\\x00\\x00\\x00\\x00\\x00\\x00\\x00\\x00\\x00\\x00\\x00\\x00\\x00\\x00\\x00\\x00\\x00\\x00\\x00\\x00\\x00\\x00\\x00\\x00\\x00\\x00\\x00\\x00\\x00\\x00\\x00\\x00\\x00\\x00\\x00\\x00\\x00\\x00\\x00\\x00\\x00\\x00\\x00\\x00\\x00\\x00\\x00\\x00\\x00\\x00\\x00\\x00\\x00\\x00\\x00\\x00\\x00\\x00\\x00\\x00\\x00\\x00\\x00\\x00\\x00\\x00\\x00\\x00\\x00\\x00\\x00\\x00\\x00\\x00\\x00\\x00\\x00\\x00\\x00\\x00\\x00\\x00\\x00\\x00\\x00\\x00\\x00\\x00\\x00\\x00\\x00\\x00\\x00\\x00\\x00\\x00\\x00\\x00\\x00\\x00\\x00\\x00\\x00\\x00\\x00\\x00\\x00\\x00\\x00\\x00\\x00\\x00\\x00\\x00\\x00\\x00\\x00\\x00\\x00\\x00\\x00\\x00\\x00\\x00\\x00\\x00\\x00\\x00\\x00\\x00\\x00\\x00\\x00\\x00\\x00\\x00\\x00\\x00\\x00\\x00\\x00\\x00\\x00\\x00\\x00\\x00\\x00\\x00\\x00\\x00\\x00\\x00\\x00\\x00\\x00\\x00\\x00\\x00\\x00\\x00\\x00\\x00\\x00\\x00\\x00\\x00\\x00\\x00\\x00\\x00\\x00\\x00\\x00\\x00\\x00\\x00\\x00\\x00\\x00\\x00\\x00\\x00\\x00\\x00\\x00\\x00\\x00\\x00\\x00\\x00\\x00\\x00\\x00\\x00\\x00\\x00\\x00\\x00\\x00\\x00\\x00\\x00\\x00\\x00\\x00\\x00\\x00\\x00\\x00\\x00\\x00\\x00\\x00\\x00\\x00\\x00\\x00\\x00\\x00\\x00\\x00\\xacRMK\\xc40\\x10\\xbd\\x0b\\xfe\\x870w\\x9bv\\x15\\x11\\xd9t/\"\\xecU\\xeb\\x0f\\x08\\xc9\\xb4)\\xdb&!3~\\xf4\\xdf\\x1b*\\xba]X\\xd6K/\\x03o\\x86y\\xef\\xcd\\xc7v\\xf75\\x0e\\xe2\\x03\\x13\\xf5\\xc1+\\xa8\\x8a\\x12\\x04z\\x13l\\xef;\\x05o\\xcd\\xf3\\xcd\\x03\\x08b\\xed\\xad\\x1e\\x82G\\x05\\x13\\x12\\xec\\xea\\xeb\\xab\\xed\\x0b\\x0e\\x9as\\x13\\xb9>\\x92\\xc8,\\x9e\\x148\\xe6\\xf8(%\\x19\\x87\\xa3\\xa6\"D\\xf4\\xb9\\xd2\\x864j\\xce0u2js\\xd0\\x1d\\xcaMY\\xde\\xcb\\xb4\\xe4\\x80\\xfa\\x84S\\xec\\xad\\x82\\xb4\\xb7\\xb7 \\x9a)f\\xe5\\xff\\xb9C\\xdb\\xf6\\x06\\x9f\\x82y\\x1f\\xd1\\xf3\\x19\\tI<\\ry\\x00\\xd1\\xe8\\xd4!+\\xf8\\xc1E\\xf6\\x08\\xf2\\xbc\\xfcfMy\\xcek\\xc1\\xa3\\xfa\\x0c\\xe5\\x1c\\xabK\\x1e\\xaa5=|\\x86t \\x87\\xc8G\\x1f\\x7f)\\x92s\\xe5\\xa2\\x99\\xbbU\\xef\\xe1tB\\xfb\\xca)\\xbf\\xdb\\xf2,\\xcb\\xf4\\xeff\\xe4\\xc9\\xc7\\xd5\\xdf\\x00\\x00\\x00\\xff\\xff\\x03\\x00PK\\x03\\x04\\x14\\x00\\x06\\x00\\x08\\x00\\x00\\x00!\\x00\\xb6V\\x12\\xdaY\\x0f\\x00\\x004e\\x00\\x00\\x18\\x00\\x00\\x00xl/worksheets/sheet1.xml\\xa4\\x95]o\\x9b0\\x14\\x86\\xef\\'\\xed? \\xdf\\x07\\xb0\\xf9\\x8eB\\xab4U\\xb4J\\xd36\\xad[{M\\x8c\\x93X\\x05\\x9ca\\xa7I6\\xed\\xbf\\xef\\x180T\\xea.Z\\x90\\x12\\xce\\x81\\x90\\xc7\\xef\\xb1\\xcfk/\\xae\\xcfea=\\xb3ZrQ\\xa5\\x08\\xdb.\\xb2XEE\\xce\\xab]\\x8a~\\xfeX\\xcfbdI\\x95UyV\\x88\\x8a\\xa5\\xe8\\xc2$\\xba\\xbe\\xfa\\xf8aq\\x12\\xf5\\x93\\xdc3\\xa6, T2E{\\xa5\\x0es\\xc7\\x91t\\xcf\\xcaL\\xda\\xe2\\xc0*\\xf8e+\\xea2Sp[\\xef\\x1cy\\xa8Y\\x967\\x7f*\\x0b\\x87\\xb8n\\xe8\\x94\\x19\\xafPK\\x98\\xd7oa\\x88\\xed\\x96Sv+\\xe8\\xb1d\\x95j!5+2\\x05\\xfa\\xe5\\x9e\\x1f\\xa4\\xa1\\x95\\xf4-\\xb82\\xab\\x9f\\x8e\\x87\\x19\\x15\\xe5\\x01\\x10\\x1b^pui\\xa0\\xc8*\\xe9\\xfcnW\\x89:\\xdb\\x14P\\xf7\\x19\\xfb\\x19\\xb5\\xce5|\\x08|=3L\\xf3\\xfc\\xd5H%\\xa7\\xb5\\x90b\\xabl ;\\xad\\xe6\\xd7\\xe5\\'N\\xe2d\\xb4\\'\\xbd\\xae\\xffM\\x18\\xec;5{\\xe6z\\x01\\x07\\x14\\x19\\'\\t\\x07=\\x8b\\x0c0o$,\\xecaz\\xba\\xea\\xf9\\x91\\xe7)\\xfa\\x83\\x89\\xbf\\xbe\\x8d\\x96\\xd1\\xcc_&\\x18.+\\x7fv\\xb3ZE3/\\\\\\x06A\\xe8\\xdf$A\\x12\\xfdEW\\x8b\\x9c\\xc3\\n\\xeb\\xaa\\xac\\x9amS\\xb4\\xc4\\xf3G\\x12#\\xe7j\\xd14\\xd0\\x03g\\'\\xf9\"\\xb7T\\xb6\\xb9g\\x05\\xa3\\x8a\\xc1 \\x18YJ\\x1c>\\xb3\\xadZ\\xb1\\xa2H\\xd1\\x03<\\xf8-DyO3\\xbd\\x981ty\\x7f\\xfbEw(\\xbc\\xa3\\x1f\\xea\\xa6\\xde\\x08\\xf1\\xa4\\xe9w\\xc0qA\\x87l\\xa8ZGF\\x15\\x7ff-\\xf1+\\x81\\x9a\\xe4\\xafF\\x9a\\xceA\\x97\\xd3\\x0b{\\x99\\x1b\\x91\\xeb\\xc6\\x08\\xdfj+g\\xdb\\xecX\\xa8\\xef\\xe2\\xf4\\x89\\xf1\\xdd^\\x81Zb\\x070A\\xba\\xc3\\xe6\\xf9\\xe5\\x96I\\n\\xad\\r\\x83\\xdb$\\xd0\\\\*\\n\\x80\\xc0\\xd5*\\xb9\\xf6(\\xb4fvn\\xe2\\x89\\xe7j\\x9f\"\\xe2\\xda\\x81O\\x920\\x8e\\x00#\\xd5E\\x97\\x08om\\x98Tk\\xae\\xf9\\xc8\\xa2G\\xa9D\\xf9\\xd8\\xbe\\x8f;j\\xcb\\x83\\x85nx\\x10;\\x9e\\xe7\\xda8\\x1a\\x8b\\x83iip\\x10\\x8d<\\xcf\\x8eH\\x18\\x84P\\xcd\\xfb\\xd5\\xf9\\x1d\\x0eb\\x87\\xc3\\xc1\\x94jAC#\\x0f\\xa2\\xe1Ev\\xe2\\x8e\\x13\\x17v0\\x88\\xa6\\xd6pB\\xadQ\\x87\\x83hp\\x91\\x1d\\xe3\\xd0\\x1f)\\x0f\\xb6\\xee\\xa6V\\x88fe\\xbd)s\\x97t<\\x88F\\x1f\\x99P.\\x06\\xc3\\xb5\\x9d\\xac\\x9d\\xd7\\xb52\\xac\\xf3\\xbb;\\x18\\xf7\\x96\\x80\\xa4\\x03\\xf9\\x91\\x1dz$\\xc6\\xa3\\x9a\\x0e\\x1bO\\xe8\\xc4L\\x9d?\\xa5T\\xe3\\n<\\xd8\\xc2\\x0bl?\\xf0F\\n4\\xb6\\xc0\\x83/\\xbc1\\xf6\\xc2\\xc6\\x0f:\\x19*\\x1dk\\x08l\\x1c\\xa1\\x13\\xe3/\\xcfv\\xe3$\\xf6\\xbdQ\\xbb\\x136\\xa6\\xd0\\xc9@\\x9c\\xb0\\xb6\\xc6\\x15x\\xb0\\x05\\x99\\xb4\\xa5`\\xe3\\x0b\\x9d\\x989\\x9cD$\\xc6\\x19:\\x19\\xb6\\x82\\xf1\\x9b21\\x0e\\xd1I\\xef\\xdd1\\x87E\\x7fZ\\x0c\\xce \\x91M\\xc2dl+\\xebs\\xb4=\\x7f^\\x9c\\x18\\xc4\\xf6\\xc6\\xaf0\\xe9\\xcd\\x11z\\xf1\\xe0\\x8f\\xf8?\\xfe\\xd5\\xa7vs\\xbc\\xfe\\x03\\x00\\x00\\xff\\xff\\x00\\x00\\x00\\xff\\xff\\x94\\x9c\\xddr\\xdbF\\x12\\x85_\\xc5\\xa5\\x07\\xa0\\x05\\x8a\\xa4\\xa4\\x94\\xec\\xaa0\\xb4\\x15\\x89\\x10\\x01\\xdb\\xfa\\xb9vy]\\x95\\xab\\xecV\\xe4\\xca\\xee\\xbe\\xfd\\x12\\xd4\\x12\\xea>\\xdf\\x01\\xc6\\xf0E\\xe2r\\x9f\\x19\\xf4\\xf4\\xe0c\\xcfL\\x0fy\\xf5\\xfc\\xc7\\xf7\\xef?6_\\x7f|}\\x7f\\xf5\\xd7?\\xff\\xfd\\xe6\\xafw\\'\\xd5\\xc9\\x9b\\xe7\\x7f}\\xfd\\xf3y\\xff\\xb7_\\xe6g\\'o\\xfe\\xf8\\xb1\\xff\\xdb\\xfe\\xff\\xff\\xa9\\x16_\\xbf\\xfd\\xf2\\x8f\\xffn\\xbe?\\x7f\\xfb\\xfe\\xe7\\xfe\\x1fOgg\\'\\xef\\xaf\\xbeum~\\xed\\x1a\\xbd;\\xd9\\xab\\xf6\\xff\\xfe\\xbc\\xff\\xd7\\xbf\\xdf/VWo\\xff~\\x7f\\xf5\\xf6\\xdb\\xff%k#Yf\\xc9oF\\xb2\\xc8\\x92\\x8d\\x91\\x9ce\\xc9\\x07#\\x99g\\xc9G#\\xa9\\xb2\\xe4\\xdaHN\\xb3\\xe4wJ\\xce.\\xb3\\xe4\\xc6\\xf4r\\x91%\\xb7\\xa6\\x17\\x91l)Y\\x8a\\xbb\\xb5\\x91\\xc8\\xa0\\xef\\x8cDB\\xb73\\x12\\x99\\x80\\xc6Hd\\x1a[3\\xa2\\xf3<\\xe8OF\"\\xef\\xcbg#\\x91\\x07}1\\x12q\\xf7\\xdeHd\\xd0\\x0fF\"\\xa1{4\\x12\\x99\\x80\\'#y}_\\xde\\xee\\xd9\\xea\\x01\\x9b\\x0b`\\x06\\xac\\xf9\\xb2\\'\\xabS\\xbf;\\xd9\\xff\\xf7\\x95,\\x01\\x8b\\ny\\x0b\\x7f;*:.\\xcfg2\\xb8\\r\\xdb\\xcb\\xfb\\xf7\\x81\\x8a\\xb9<\\xe2#%2\\x9f\\xd7\\xd1\\x89j\\xae,\\x99a\\xca;s\\x93:8U\\x8c\\xa2u%o\\xc1v\\xb4i]\\x0c\\xf1]Q\\xb1+*\\x9a\\xa2\\xa2\\xa5\\xa2\\x92w\\xf5\\x93\\x91\\xc8t~N\\x818=\\x95@\\x7fI\\xa18\\x97\\x18\\xdfG\\xebR\\x9a>D\\xe3BX|\\x8cF\\x99\\x9b\\'\\xe3\\xf5\\xeb\\xdb\\x91\\xd8\\xd8g\\x90\\x94|\\xc6\\xd9\\xe8\\xd4\\xe3lP\\xa1l\\x1c\\x15\\x1d\\x1b\\xe2\\xf7\\x86\\xad\\x95\\x0c*@\\x06%JFt\\x81dD\\xeb|!sr\\x13\\xad:a\\xb7c\\xc6\\xed\\x98\\xb1.F\\xf6\\xae\\xa8\\xd8\\x15\\x15MQ\\xd1R\\x01$\\xcc\\x14\\xe4\\x0f\\xc8\\xcfq\\xa4\\x8b\\x0b\\x10\\x91\\x02|&\\x01\\xbeO\\x8d\\x95\\x88\\xd4T\\x89\\x88\\xc6\\xcbYu\\x99\\xfe\\x08\\xd8Of\\xa0\\xafl&D\\x16\\x93\\x10\\xe9\\xd4\\xe3\\x88P\\xa1\\x88\\x1c\\x15\\x07D\\n\\x03\\xd9\\xb0;e\\x86\\n0CI%\\x1f\\xe9\\xd7\\xd1)B\\x13\\xad\\x84&\\xb7\\x95\\xf5\\xd8\\x98q;f\\xac\\x8b\\xb1\\xbe+*vEEST\\xb4&z\\x9aG\\xcc\\x1c\\x084q\\xa4\\x06\\x9a\\x14`@\\x13\\xadj|0\\xee\\xe5g?\\xc6\\xe6\\x9aKL\\xeb\\x81\\\\\\xb2\\x9c\\x04J\\xa7\\xce\\xa0TB\\xfb\\x9a\\x12%\\xe5\\xa8xYhi:a{E\\x83\\n\\xa0A\\x89\\xa6\\x93\\xe8\\x04\\xc9\\x88\\xd63\\xfd,\\xbc\\x89V\\xa4\\x93\\xdcq\\x9e\\xb3\\xed\\x98\\xb1\\xa6\\xd3\\x82\\xf3\\x1d\\x15\\xf2q\\xba+*\\x9a\\xe2SZ3\\xc9J\\x86\\x91\\xe8\\n+\\x0eu\\xb1D>\\x89\\xe69\\xd0H\\xf1\\xd7\\xad\\x88y\\xb8\\xa0\\x11\\x9b_\\xccd\\xea\\x9fL\\xfb\\x018V\\x93\\xe0\\xe8\\xd4\\x19\\x8e\\xb9n\\xef)Q8\\x8e\\x8a\\x0e\\x8e\\xe5L7\\xf6l_\\xc9\\x1b\\xf0\\x81\\x12Y\\xbe~4~J\\'\\xd7\\xd1\\x0b\\xd2\\x11\\xad\\xcc\\x1b\\xd1\\xba\\xd0\\rH\\xeeX\\xe8\\x183\\xd6\\xf4Z\\xe9(*vEEST\\xb4&z2\\xc8OF\"y#\\xc5\\x88p\\xa4\\x00\\xeb\\'\\xec}\\xb4\"o\\xa4\\xa6\\xf2\\xd9\\xfc\\x18\\x8d\\x9a2\\x8c\\xd3\\x03k\\xab\\xf3ITt\\xea\\x02\\x15\\x94(\\x15G\\xc5\\x0b\\x15\\x9a2\\xd8\\x1eTP\\xa2T\\x18?\\x95\\x8a\\xe8\\x05\\xa9\\x88VR\\x91\\xdb\\xcajj\\xcc\\xb8\\x1d3\\xd6\\xf4Z\\x9c\\xbe+*vEEST\\xb4&zJ\\x85\\x91\\x08\\x15q\\xa4g\\xa4\"\\x05\\x02\\x9b\\xf2\\xd4X\\xb7 in\\x94\\x8ah<G\\xb60n\\x0fpq1\\x89\\x8bN]\\xe0\\x82\\x12\\xe5\\xe2\\xa8\\xe8\\xb8\\x90\\\\\\xb3akPA\\x89Ra\\xbcT*\\xa2\\x0f\\xa4\\x82\\x1d,\\xf4\\xc8*\\rB>\\xd4oS\\xef2\\xc4\\xad\\xf1N&\\xb7\\xa6D\\x011\\x1e\\xe6\\xf7rWT4EEkfC\\x17Uf4\\x02H\\x0c\\xc6\\x9e\\x0f=\\xb5J\\xb1\\x02 )\\xcc\\x12\\x84\\x87h\\xd4c\\xc7\\xc7h\\xd4\\xb4a\\x9c\\x1e\\xc0\\xe3r\\x12\\x1e\\x9d\\xba\\x80\\x07%\\x8a\\xc7Qq\\xc0c&\\x87\\xd1\\x1b\\xb6\\x07 \\x94( \\xc6O\\x05$zA@\\xa2\\x95[\\x8d\\xdcV\\xd2\\xc6\\x98q;f\\xac\\xe9\\xb5RQT\\xec\\xa8\\xd0*HQ\\xd1\\x9a)P*L\\x80\\x85\\x8a8R\\xb3\\xd3H\\x81\\xb8\\x90\\xf7\\xf7>\\x87?\\xf7\\xfc\\x10\\x8d\\xa0\"\\x1a\\x95\\n\\xe3\\xf4\\x00\\x15\\xd5\\xe9$,\\x0e\\xf2\\x02\\x17F\\xa3`\\xf4\\x12O\\x86\\xe9\\x01h\\x18\\x8d\\xb2\\xe1\\x9cU8\\x92\\'\\xa4#\\x99\\x89G2c\\xb3!}\\xcbnc\\xd4Z\\x1b\\xdfu\\xbfa$\\xba\\x1d/K\\x9a\\xf2\\x83Z7\\x1d\\x8a\\x89\\x8b\\xb5p\\x92\\x83\\x85`~\\xc9\\x01\\x01)2\\x15\\x82J\\xb2\\x82\\x95dUX\\x9c\\xebC\\xb4t\\x05\\xc4Xw\\x1f/}T/\\xf5\\xc6}e\\xa5\\xaf\\x0bbKn4\\xa0\\xe5\\xd8\\xcd\\x00-|\\ni\\xa1\\x06\\xb4\\x18gAK\\xf4\\xe4\\x12\\xa5v\\xf6\\x80\\xc5V?\\xdc\\xc3VJz\\xb8MV\\x14\\x08]8u\\xbde4\\x9aZ\\xca\\x92\\x9d\\x91\\xa0\\xc4n\\x06\\x9b\\xdf\\xc9\\xd6\\xf4\\x82\\xc2\\x88\\xd3\\xe8Q\\x96\\xc4\\x0c\\xeb\\xaed\\x9f\\x9f\\xa2\\xba\\x1e\\'\\r\\xf5B\\xe7\\x80\\x1cg\\xa5\\xfe/f{r\\xe3\\x1fy\\x8f\\x9e\\\\\\x87C8u5\\xc7\\t8\\xb1D9\\x97\\xc1\\xae+j\\x80S*\\xbe\\xe6\\xb1nL{\\xc2\\xc4g\\x00&J\\xf4\\x04\\xb8\\x7fRG\\x82\\xc9<\\xd1K\\xee\\xe7\\xa5\\xb5\\xac\\xccF\\xad\\xdbQkm\"\\x80\\xcc\\xc3\\xd1\\x89dW\\xee\\xa5)KZ7\\x1b\\xc8<tF$\\x9f\\xd3\\x80\\xcd\\x12-\\x07\\x04;\\x97d^\\xe9\\xd6%Y\\x99y\\xc6J\\xeenx\\x03G\\xc1\\xdd\\xe5\\xae)\\xa8\\x98\\x82+P\\xa1\\x06\\xa8\\xc4\\xf2\\xe8j\\xb6\\x94\\xb1o\\x0e^\\xe5\\xe5\\xa0VK\\x8c\\x04\\xb0\\xd0\\x11\\xc0\\x12\\x1d1\\xb0\\x98\"\\xb5n\\xf3{G|\\xe6I\\x0f\\xd0\\x8d~j[\\x89\\xb56C\\x041t\\x10k53\\x86\\x8cuS~Pk$\\xcc9\\xe6\\xe5\\xd0\\xb5Z\\x0c\\x87\\xd9\\xea\\xe7\\x80p\\xad\\x96\\xde\\x1b\\x103Z\\x91O]\\xb3z\\xe2\\x068\\x94^\\xba2\\xe4\\x84\\xf4b\\xea\\xad`\\x86\\x1a0\\x13\\x0b\\xa3\\xab\\xd9J\\xde\\xc3Me\\x8a\\xa3\\x12\\xa1\\x0fF\\x03h\\xd8\\r\\xa0\\x89\\x9e\\x18h\\x92\\xa3\\xa82\\xf6>x^r\\xdf\\xba\\xb7\\x19\\xb3\\xd6ft\\xe0\\x85\\xa3C\\x86\\xa1D\\xc2\\xd8\\x94\\x1f\\xd4\\xba\\xd9@\\x861/\\x86\\xf2\\x12\\x07\\xecxI\\x01!/\\xd1|\\xa1\\xa7\\xc7i&p\\xa7+Y/f\\xfb\\xab3\\xa3\\xab3\\xf3\\xf6\\r\\xa5\\x9c\\xaeP9\\x01\\x1f\\xd65\\xb9:\\xa3\\x06\\xf8\\xc4\\xe2\\xe9j\\x06z\\xd8\\x032\\x0e%\\x80\\x87\\x12\\xc0\\x13\\xfd0\\xf0\\xa4\\x121\\xe1\\x89f\\xd4\\xe8\\xab1\\xeb6Y+\\xd9\\x0c\\xd4\\xbdu\\xf0\\xae\\xe9\\x9d\\x91 \\xd90\\x00\\x80\\x87\\x12A\\xb05\\x0fb\\xb21\\xaf\\x85\\xc2\\x13\\xc3a\\xae\\xb1\\xe4\\x80\\\\\\x08\\x9e\\xf7\\xc9\\xcc\\xe5Y\\xec|.\\x83|Lm\\xcb\\xf0p,a1\\x90.\\x80U]=s\\x02<\\xa6\\xfc)\\xe3\\\\\\x1f\\xba\\xcc\\x8b-\\xc0\\x13+\\xac\\xab\\x99\\x16*M\\x0f\\x80\\x87\\x8e\\x00\\x1eJ\\x00O\\xf4\\xa3Z\\xc8{\\xf3{\\xefG\\x97Z\\xcc\\xa9Zj\\x8dK\\xc4\\xa9\\xb5.\\xc6\\xb6\\xd9\\nz\\xe8;\\x8e\\x07\\x8a\\x92\\x9d\\x89#\\x8e\\x07\\xd8\\x0b\\xe8\\xa1\\x84\\xf4\\x98\\xf7B\\xe9\\x89\\xd1r\\xa9\\'E\\x93\\xa9\\'\\x9a\\xcfp\\xed\\xde\\xf8\\xa8\\xa7\\x03\\xb1\\x832B\\xa6\\xc3\\xa1\\xe5[W\\xfa\\x9c\\x80\\x90\\xa9\\x94\\xca\\xf4\\xaf+j\\x80P,\\xc7.gb\\xde\\x98\\x1ex>\\xc0\\xa7\\x80!J\\xc0P\\xaa7\\xe3.~\\xef\\xc8\\x00C\\xb15O\\xa6s\\xdf\\xbaz\\x8bV\\xf9\\x80\\xa8M\\x00@\\x10\\x07\\x87\\xc5[Q\\xd2\\x98\\x07\\x81 \\xf6\\x82\\xb5\\x9by+\\x14\\xa04\\xe3,k\\xa6H\\xefo\\x08\\xe7\\xe6\\xf7\\xc9\\xcc\\xe3\\xb5\\x14i\\xa4\\x9fhe\\xed\\xdf\\xbdlC\\x8b\\xb5\\xae\\x10:\\x01\\x16S7\\x05,\\xd4\\x00\\x96T\\xd4\\x9d\\xe9\\x07\\xfd\\xa6b\\x17H8\\x94\\x00\\x16J\\x00K\\xaa=\\x13\\x96T_\\xc6\\xfd\\xfc\\xdeM\\xbf\\xd5\\xc9}+,c\\xd6\\xda\\x04\\x00[\\x1d\\x8e\\x0e\\xb4\\x14%M\\xf9A\\xad\\x910\\xdf\\xf0I8L\\x8b\\x03^\\x18\\\\R@x\\x98\\x16\\xcd\\xb8>\\xe6|\\xd4|\\x13;8\\x9f\\xe9\\x1d}\\xd7\\xc3\\x103]\\x99t\\x023\\xa6\\xaa\\nf\\xa8\\x013\\xb1p\\xeb\\xce\\xd4\\xd8\\x05\\x98\\xa1\\x04\\xccP\\x02fRe\\x9a\\xcc\\xe4\\xd2\\xb4~\\xa7\\xa5\\x8af\\xeep\\xc6\\xac\\xdb\\xd1\\xb6uo\\x1d\\xd9\\xe1pt\\xd8\\xe1P\\x825ZQ\\xd2\\x1a_\\xc8\\x8cy/4\\xc5\\xc4p\\xb8\\x1dN\\x9a\\n\\xae\\xd1\\xd2+\\x83\\xe3\\xb4\\xd4\\x18)&Z\\xcb\\xcb3\\x8e\\xa5\\x1aX\\x9e\\xcd\\xa7\\xdd\\x1c8\\xc8\\xe5\\xe6\\x80\\xd2c4JO/y\\xa9\\x85\\xea\\xf1\\x80\\xe9A\\xe11\\x12\\x85\\xc7H\\x14\\x9e\\xe4\\x87\\xf9\\xa6d\\x17\\x9cn\\xb4~u\\x96Z\\x03\\x9eQ\\xebv\\xd4Z\\x1b\\xd75\\xe1\\x94%\\xbb\\xb2\\xa4)KZ#\\xe1w%\\x8f\\x81\\n%r\\x81G\\x06\\xcc/K\\xc6XW\\x80\\'\\xbf1\\nO\\xb2\\xf2\\xfb\\x92\\xb1\\xeb\"<n\\xbc\\x03\\xa9g>\\xed\"\\xc1A.\\xf0\\xc8u\\xb2\\xb5\\xd1\\x00\\x9e|\\x91\\x00\\xdf1\\xfe\\x89\\x8b\\x04\\xe6)\\xa0\\x87\\xdd\\x80\\x9e\\xe8\\x88\\xa1\\xe7\\'.\\x12\\xf4\\x8e\\x1c>\\x08\\xe4\\x1d\\xbfMV=C\\xdb\\x8eZk3D D\\x075\\xff\\x94{i\\xca\\x92\\xd6H\\x88\\x10\\x9d\\xd15[\\x1a\\xb09#\\xc8\\x01!B\\xa37\\x08Rc\\x14@\\x93\\x95\\xe5\\x1c7\\xc0!f\\xa6\\xdd\\x16\\x98\\x9b\\xdb\\x02`\\xa6|[\\xa0\\xef\\xe6%\\xe1\\xa0\\x9cc\\x1e\\x83\\x03\\x01\\xa3\\x014\\xe5\\x0b\\x03\\xc9\\x13\\x03\\x8d)\\xcak\\r4u\\xc1\\xbc\\x13k\\xd5\\x84\\xc6\\xc4So\\xdf\\x98\\x81\\x02\\x9d\\xf2\\xdd\\x81r/MY\\xd2\\xba\\x89\\xd1\\xd3\\x01\\xf7\\x8eh\\xf6\\x89Aq\\xe8\\xa4\\xa0\\x11\\x9dh\\xc6\\xe1\\xb4\\xf3Q\\xb6;i\\xca\\x0c?\\x0c\\xe7\\xd0\\x91t\\xf7;1\\x13\\xb6;\\x07\\xb9|\\xd9R\\x12\\xca\\xdah\\x90s\\xf2\\x15\\x02\\xe4\\x1c\\xd6\\xa2\\x89\\x0f5\\xc0\\xa7|\\x85\\xa0\\xf7\\xd5\\xdf\\xb71C\\xc1\\xe5\\xb5\\xd4\\x05\\xf1\\xc95s9\\'\\x18m[\\xbb\\xa7\\xe7\\x0e\\xee\\x8c\\x049\\xa7x\\xcb\\xa0)?\\xa8u\\x13\\x0fp\\xf8$\\xe4\\x9c\\x18\\x0e\\xb3\\xe7\\xc9\\xf3\\x81\\xaaN2\\x13\\x9ct\\x85@\\xbfQ\\x93\\xda\\xeauO7\\xbc\\xa1\\x8c\\xd3\\x15K\\x7f\\xfe\\x80`^,Z\\xaf\\x8d\\x04\\xc0\\xa4\\xb2|~\\t6\\xa6=q\\xa1\\x1b\\xc0\\xa5|y\\xa0\\x7f\\xd2!\\xef\\xe9U\\xcfd\\xad\\xb4b}\\x93\\x1bcq6zw w\\xad\\x05\\x1c\\x13\\x00=~.KveIS\\x9e\\xcc\\xd6M\\x06@a\\xa4\\x01J\\x0c\\x87\\xb9\\x9d\\x96\\x03\\xc2_\\x83I\\xef\\x0b\\xf67\\xd1\\xca\\xc5Y\\xbaw\\x90\\xdf\\xb5\\'7\\xbcW\\x98\\xf2\\xaf%u\\x85\\xd1\\t\\xa0\\x14K\\xcb\\xeb\\xfd\\x8f+\\xe9\\x17p\\x00J\\xac\\xec\\xae\\xf8\\x8bI\\xa6X\\xab\\xf7l\\xccS\\x80\\x8a\\xe9F^\\xe8\\xeb\\xbe\\x9b\\x81\\xd4\\x92J\\xd08}N\\xad\\x99Ubc.\\xca\\xc6\\xac\\xb5\\x19\\x1e`)^\\x04\\xd8\\x95{i\\x8cDk5F\\xc2\\x9dL\\xf9\\xae@\\n\\x96\\x83%\\x05\\x84\\xb0D3N\\x9fS\\xe7\\x84%\\xb6EV1\\xaf\\xc9\\xd0\\xc1YW\\x02\\x9d\\x00K\\xb1\\x92\\xbc\\x9eS\\x02Xb\\x95\\xd6\\x9c:\\x9b.pp\\xc6\\xa7\\x00\\x16J\\xb0\\xf5O\\xe5h\\xfe\\xc4X4\\xefW\\r\\xf93\\xe9\\xa6w\\xd3VjF\\xad\\xdbQkm\\x02\\x00V8:\\xac\\xc0\\x8a\\x93\\xd5\\x98\\x07\\x81\\x15S$Gb\\xa1\\x06\\x89%\\xc6\\xd2m]\\xd2Tp\\xeb\\x12\\xcdd\\xc5\\xf8\\xa8[\\x97\\xd8\\x01\\x801\\xed\\x87\\x96a]\\x95t\\x020\\xc5\\xda\\xf2zN\\t\\x80\\x89\\xa5Y\\x07\\x0c\\xbb\\xe0J\\x8c\\x1a\\x10c\\xbaAzI5d\\xdc\\xa6\\xe9\\x07\\xf3\\xb2R\\x032\\xa9\\xb5\\xac\\xa7nSc\\x99\\xa3\\xed\\x98\\xb161\\x040\\x1c\\x1c\\x80)J\\x1a\\xf3 \\x00c\\xa2\\x08`\\x8c\\x06?\\xcb\\x97&\\xdd\\xfc._\\x8a%\\x89\\x89f\\xdc\\xa5I\\xd1\\xc4M\\xb4d\\xe5U\\x00\\x13\\x84\\xea\\xf54+/\\xc6\\xba\\x02\\xe9\\x04\\\\X\\xf2\\xc5\\x8f*\\xcd\\xa9\\x01/\\xb1,\\xbb\\xd2\\xb2\\xec\\xc6\\xf4\\x80\\xfc\\xc2\\x87\\x80\\x16J\\x90_\\x92\\x1f\\xd8\\xb7\\xa4\\xe24\\xd3K\\xaam\\x8b\\x83\\xb7f\\x0c\\x0b\\t\\xc3\\xd6htIW\\xbb~t\\xb3_\\xbe\\x14\\xe0\\x9e\\x94{i\\xca\\x0fj\\x8d\\x04\\xe0\\xd0\\x17p\\x13\\xe3\\xe62M\\x0e\\xbb\\x04\\xf6\\xbew\\xe2P-\\xd3;h\\xc6E9\\xc7}L\\x1d\\x14\\xbf\\xa1f:|}O^Pz\\xfb\\xfa\\x93\\xcb\\xff\\x03\\x00\\x00\\xff\\xff\\x00\\x00\\x00\\xff\\xff4\\xce\\xcd\\x0e\\x820\\x10\\x04\\xe0Wi\\xf6^i\\xf9\\x89\\xad\\x01\\x12@\\xb8y\\xf6\\\\\\xc3\\x02\\x8dhIY\\xa2\\x89\\xf1\\xddE\\r\\xb7\\xf9\\xe60\\x99\\xd4,\\xe4\\x1a;\\x12z\\xe6\\xb1\\xcb\\xa0\\x90\\x87s\\xa8\\x80=\\xfda\\xb1m\\x06\\xaf\\xb2)\\xa5\\xae\\x8e\\x9aK%\"\\x1e\\xd7\\xba\\xe0\\xba.\\x04\\xaf\\x94\\xd2u\\x92(\\x19\\xc6\\xe2\\rA\\x9eN\\xa6\\xc7\\x93\\xf1\\xbd\\xbd\\xcfl\\xc4\\x8e2\\x10\\xbb=0o\\xfba\\xcb\\xe4\\xa6_\\x9b\\x00\\xbb8\"w\\xdb4\\xa0i\\xd1\\x7f\\x15\\x01\\xeb\\x9c[\\xef\\xfc\\xb1\\xee\\x06\\x0f\\xe7\\xaf\\xf3\\x80H\\xf9\\x07\\x00\\x00\\xff\\xff\\x03\\x00PK\\x03\\x04\\x14\\x00\\x06\\x00\\x08\\x00\\x00\\x00!\\x00\\xc1\\x17\\x10\\xbeN\\x07\\x00\\x00\\xc6 \\x00\\x00\\x13\\x00\\x00\\x00xl/theme/theme1.xml\\xecY\\xcd\\x8b\\x1b7\\x14\\xbf\\x17\\xfa?\\x0csw\\xfc5\\xe3\\x8f%\\xde\\xe0\\xcfl\\x93\\xdd$d\\x9d\\x94\\x1c\\xb5\\xb6\\xecQV32\\x92\\xbc\\x1b\\x13\\x02%9\\xf5R(\\xa4\\xa5\\x97Bo=\\x94\\xd2@\\x03\\r\\xbd\\xf4\\x8f\\t$\\xb4\\xe9\\x1f\\xd1\\'\\xcd\\xd8#\\xad\\xe5$\\x9blJZv\\r\\x8bG\\xfe\\xbd\\xa7\\xa7\\xf7\\x9e~z\\xf3t\\xf1\\xd2\\xbd\\x98zG\\x98\\x0b\\xc2\\x92\\x96_\\xbeP\\xf2=\\x9c\\x8c\\xd8\\x98$\\xd3\\x96\\x7fk8(4|OH\\x94\\x8c\\x11e\\tn\\xf9\\x0b,\\xfcK\\xdb\\x9f~r\\x11m\\xc9\\x08\\xc7\\xd8\\x03\\xf9Dl\\xa1\\x96\\x1fI9\\xdb*\\x16\\xc5\\x08\\x86\\x91\\xb8\\xc0f8\\x81\\xdf&\\x8c\\xc7H\\xc2#\\x9f\\x16\\xc7\\x1c\\x1d\\x83\\xde\\x98\\x16+\\xa5R\\xad\\x18#\\x92\\xf8^\\x82bP{}2!#\\xec\\r\\x95J\\x7f{\\xa9\\xbcO\\xe11\\x91B\\r\\x8c(\\xdfW\\xaa\\xb1%\\xa1\\xb1\\xe3\\xc3\\xb2B\\x88\\x85\\xe8R\\xee\\x1d!\\xda\\xf2a\\x9e1;\\x1e\\xe2{\\xd2\\xf7(\\x12\\x12~h\\xf9%\\xfd\\xe7\\x17\\xb7/\\x16\\xd1V&D\\xe5\\x06YCn\\xa0\\xff2\\xb9L`|X\\xd1s\\xf2\\xe9\\xc1j\\xd2 \\x08\\x83Z{\\xa5_\\x03\\xa8\\\\\\xc7\\xf5\\xeb\\xfdZ\\xbf\\xb6\\xd2\\xa7\\x01h4\\x82\\x95\\xa6\\xb6\\xd8:\\xeb\\x95n\\x90a\\rP\\xfa\\xd5\\xa1\\xbbW\\xefU\\xcb\\x16\\xde\\xd0_]\\xb3\\xb9\\x1d\\xaa\\x8f\\x85\\xd7\\xa0T\\x7f\\xb0\\x86\\x1f\\x0c\\xba\\xe0E\\x0b\\xafA)>\\\\\\xc3\\x87\\x9df\\xa7g\\xeb\\xd7\\xa0\\x14_[\\xc3\\xd7K\\xed^P\\xb7\\xf4kPDIr\\xb8\\x86.\\x85\\xb5jw\\xb9\\xda\\x15d\\xc2\\xe8\\x8e\\x13\\xde\\x0c\\x83A\\xbd\\x92)\\xcfQ\\x90\\r\\xab\\xecRSLX\"7\\xe5Z\\x8c\\xee2>\\x00\\x80\\x02R$I\\xe2\\xc9\\xc5\\x0cO\\xd0\\x08\\xb2\\xb8\\x8b(9\\xe0\\xc4\\xdb%\\xd3\\x08\\x12o\\x86\\x12&`\\xb8T)\\rJU\\xf8\\xaf>\\x81\\xfe\\xa6#\\x8a\\xb602\\xa4\\x95]`\\x89X\\x1bR\\xf6xb\\xc4\\xc9L\\xb6\\xfc+\\xa0\\xd57 /\\x9e={\\xfe\\xf0\\xe9\\xf3\\x87\\xbf=\\x7f\\xf4\\xe8\\xf9\\xc3_\\xb2\\xb9\\xb5*Kn\\x07%SS\\xee\\xd5\\x8f_\\xff\\xfd\\xfd\\x17\\xde_\\xbf\\xfe\\xf0\\xea\\xf17\\xe9\\xd4\\'\\xf1\\xc2\\xc4\\xbf\\xfc\\xf9\\xcb\\x97\\xbf\\xff\\xf1:\\xf5\\xb0\\xe2\\xdc\\x15/\\xbe}\\xf2\\xf2\\xe9\\x93\\x17\\xdf}\\xf5\\xe7O\\x8f\\x1d\\xda\\xdb\\x1c\\x1d\\x98\\xf0!\\x89\\xb1\\xf0\\xae\\xe1c\\xef&\\x8ba\\x81\\x0e\\xfb\\xf1\\x01?\\x9d\\xc40B\\xc4\\x92@\\x11\\xe8v\\xa8\\xee\\xcb\\xc8\\x02^[ \\xea\\xc2u\\xb0\\xed\\xc2\\xdb\\x1cX\\xc6\\x05\\xbc<\\xbfk\\xd9\\xba\\x1f\\xf1\\xb9$\\x8e\\x99\\xafF\\xb1\\x05\\xdcc\\x8cv\\x18w:\\xe0\\xaa\\x9a\\xcb\\xf0\\xf0p\\x9eL\\xdd\\x93\\xf3\\xb9\\x89\\xbb\\x89\\xd0\\x91k\\xee.J\\xac\\x00\\xf7\\xe73\\xa0W\\xe2R\\xd9\\x8d\\xb0e\\xe6\\r\\x8a\\x12\\x89\\xa68\\xc1\\xd2S\\xbf\\xb1C\\x8c\\x1d\\xab\\xbbC\\x88\\xe5\\xd7=2\\xe2L\\xb0\\x89\\xf4\\xee\\x10\\xaf\\x83\\x88\\xd3%Cr`%R.\\xb4Cb\\x88\\xcb\\xc2e \\x84\\xda\\xf2\\xcd\\xdem\\xaf\\xc3\\xa8k\\xd5=|d#a[ \\xea0~\\x88\\xa9\\xe5\\xc6\\xcbh.Q\\xecR9D15\\x1d\\xbe\\x8bd\\xe42r\\x7f\\xc1G&\\xae/$Dz\\x8a)\\xf3\\xfac,\\x84K\\xe6:\\x87\\xf5\\x1aA\\xbf\\n\\x0c\\xe3\\x0e\\xfb\\x1e]\\xc46\\x92Kr\\xe8\\xd2\\xb9\\x8b\\x183\\x91=v\\xd8\\x8dP<s\\xdaL\\x92\\xc8\\xc4~&\\x0e!E\\x91w\\x83I\\x17|\\x8f\\xd9;D=C\\x1cP\\xb21\\xdc\\xb7\\t\\xb6\\xc2\\xfdf\"\\xb8\\x05\\xe4j\\x9a\\x94\\'\\x88\\xfae\\xce\\x1d\\xb1\\xbc\\x8c\\x99\\xbd\\x1f\\x17t\\x82\\xb0\\x8be\\xda<\\xb6\\xd8\\xb5\\xcd\\x893;:\\xf3\\xa9\\x95\\xda\\xbb\\x18St\\x8c\\xc6\\x18{\\xb7>sX\\xd0a3\\xcb\\xe7\\xb9\\xd1W\"`\\x95\\x1d\\xecJ\\xac+\\xc8\\xceU\\xf5\\x9c`\\x01e\\x92\\xaak\\xd6)r\\x97\\x08+e\\xf7\\xf1\\x94m\\xb0goq\\x82x\\x16(\\x89\\x11\\xdf\\xa4\\xf9\\x1aD\\xddJ]8\\xe5\\x9cTz\\x9d\\x8e\\x0eM\\xe05\\x02\\xe5\\x1f\\xe4\\x8b\\xd3)\\xd7\\x05\\xe80\\x92\\xbb\\xbfI\\xeb\\x8d\\x08Yg\\x97z\\x16\\xee|]p+~o\\xb3\\xc7`_\\xde=\\xed\\xbe\\x04\\x19|j\\x19 \\xf6\\xb7\\xf6\\xcd\\x10Qk\\x82<a\\x86\\x08\\n\\x0c\\x17\\xdd\\x82\\x88\\x15\\xfe\\\\D\\x9d\\xabZl\\xee\\x94\\x9b\\xd8\\x9b6\\x0f\\x03\\x14FV\\xbd\\x13\\x93\\xe4\\x8d\\xc5\\xcf\\x89\\xb2\\'\\xfcw\\xca\\x1ew\\x01s\\x06\\x05\\x8f[\\xf1\\xfb\\x94:\\x9b(e\\xe7D\\x81\\xb3\\t\\xf7\\x1f,kzh\\x9e\\xdc\\xc0p\\x92\\xacs\\xd6yUs^\\xd5\\xf8\\xff\\xfb\\xaaf\\xd3^>\\xafe\\xcek\\x99\\xf3Z\\xc6\\xf5\\xf6\\xf5Aj\\x99\\xbc|\\x81\\xca&\\xef\\xf2\\xe8\\x9eO\\xbc\\xb1\\xe53!\\x94\\xee\\xcb\\x05\\xc5\\xbbBw}\\x04\\xbc\\xd1\\x8c\\x070\\xa8\\xdbQ\\xba\\'\\xb9j\\x01\\xce\"\\xf8\\x9a5\\x98,\\xdc\\x94#-\\xe3q&?\\'2\\xda\\x8f\\xd0\\x0cZCe\\xdd\\xc0\\x9c\\x8aL\\xf5Tx3&\\xa0c\\xa4\\x87u+\\x15\\x9f\\xd0\\xad\\xfbN\\xf3x\\x8f\\x8d\\xd3Ng\\xb9\\xac\\xba\\x9a\\xa9\\x0b\\x05\\x92\\xf9x)\\\\\\x8dC\\x97J\\xa6\\xe8Z=\\xef\\xde\\xad\\xd4\\xeb~\\xe8TwY\\x97\\x06(\\xd9\\xd3\\x18aLf\\x1bQu\\x18Q_\\x0eB\\x14^g\\x84^\\xd9\\x99X\\xd1tX\\xd1P\\xea\\x97\\xa1ZFq\\xe5\\n0m\\x15\\x15x\\xe5\\xf6\\xe0E\\xbd\\xe5\\x87A\\xdaA\\x86f\\x1c\\x94\\xe7c\\x15\\xa7\\xb4\\x99\\xbc\\x8c\\xae\\n\\xce\\x99Fz\\x933\\xa9\\x99\\x01Pb/3 \\x8ftS\\xd9\\xbaqyjui\\xaa\\xbdE\\xa4-#\\x8ct\\xb3\\x8d0\\xd20\\x82\\x17\\xe1,;\\xcd\\x96\\xfbY\\xc6\\xba\\x99\\x87\\xd42O\\xb9b\\xb9\\x1br3\\xea\\x8d\\x0f\\x11kE\"\\'\\xb8\\x81&&S\\xd0\\xc4;n\\xf9\\xb5j\\x08\\xb7*#4k\\xf9\\x13\\xe8\\x18\\xc3\\xd7x\\x06\\xb9#\\xd4[\\x17\\xa2S\\xb8v\\x19I\\x9en\\xf8wa\\x96\\x19\\x17\\xb2\\x87D\\x94:\\\\\\x93N\\xca\\x061\\x91\\x98{\\x94\\xc4-_-\\x7f\\x95\\r4\\xd1\\x1c\\xa2m+W\\x80\\x10>Z\\xe3\\x9a@+\\x1f\\x9bq\\x10t;\\xc8x2\\xc1#i\\x86\\xdd\\x18Q\\x9eN\\x1f\\x81\\xe1S\\xaep\\xfe\\xaa\\xc5\\xdf\\x1d\\xac$\\xd9\\x1c\\xc2\\xbd\\x1f\\x8d\\x8f\\xbd\\x03:\\xe77\\x11\\xa4XX/+\\x07\\x8e\\x89\\x80\\x8b\\x83r\\xea\\xcd1\\x81\\x9b\\xb0\\x15\\x91\\xe5\\xf9w\\xe2`\\xcah\\xd7\\xbc\\x8a\\xd29\\x94\\x8e#:\\x8bPv\\xa2\\x98d\\x9e\\xc25\\x89\\xae\\xcc\\xd1O+\\x1f\\x18O\\xd9\\x9a\\xc1\\xa1\\xeb.<\\x98\\xaa\\x03\\xf6\\xbdO\\xdd7\\x1f\\xd5\\xcas\\x06i\\xe6g\\xa6\\xc5*\\xea\\xd4t\\x93\\xe9\\x87;\\xe4\\r\\xab\\xf2C\\xd4\\xb2*\\xa5n\\xfdN-r\\xaek.\\xb9\\x0e\\x12\\xd5yJ\\xbc\\xe1\\xd4}\\x8b\\x03\\xc10-\\x9f\\xcc2MY\\xbcN\\xc3\\x8a\\xb3\\xb3Q\\xdb\\xb43,\\x08\\x0cO\\xd46\\xf8muF8=\\xf1\\xae\\'?\\xc8\\x9d\\xccZu@,\\xebJ\\x9d\\xf8\\xfa\\xca\\xdc\\xbc\\xd5f\\x07w\\x81<zp\\x7f8\\xa7R\\xe8PBo\\x97#(\\xfa\\xd2\\x1b\\xc8\\x946`\\x8b\\xdc\\x93Y\\x8d\\x08\\xdf\\xbc9\\'-\\xff~)l\\x07\\xddJ\\xd8-\\x94\\x1aa\\xbf\\x10T\\x83R\\xa1\\x11\\xb6\\xab\\x85v\\x18V\\xcb\\xfd\\xb0\\\\\\xeau*\\x0f\\xe0`\\x91Q\\\\\\x0e\\xd3\\xeb\\xfa\\x01\\\\a\\xd0Evi\\xaf\\xc7\\xd7.\\xee\\xe3\\xe5-\\xcd\\x85\\x11\\x8b\\x8bL_\\xcc\\x17\\xb5\\xe1\\xfa\\xe2\\xbe\\\\\\xd9|q\\xef\\x11 \\x9d\\xfb\\xb5\\xca\\xa0Ymvj\\x85f\\xb5=(\\x04\\xbdN\\xa3\\xd0\\xec\\xd6:\\x85^\\xad[\\xef\\rz\\xdd\\xb0\\xd1\\x1c<\\xf0\\xbd#\\r\\x0e\\xda\\xd5nP\\xeb7\\n\\xb5r\\xb7[\\x08j%e~\\xa3Y\\xa8\\x07\\x95J;\\xa8\\xb7\\x1b\\xfd\\xa0\\xfd +c`\\xe5)}d\\xbe\\x00\\xf7j\\xbb\\xb6\\xff\\x01\\x00\\x00\\xff\\xff\\x03\\x00PK\\x03\\x04\\x14\\x00\\x06\\x00\\x08\\x00\\x00\\x00!\\x00\\xca\\xd4R\\xae2\\x03\\x00\\x00\\xb3\\x08\\x00\\x00\\r\\x00\\x00\\x00xl/styles.xml\\xacV[\\x8f\\x9b:\\x10~\\xaf\\xd4\\xff`\\xf9\\x9d5\\x10\\xc8\\x86\\x08\\xa86\\xc9\"Uj\\xabJ\\xbb\\x95\\xfa\\xea\\x80\\xc9Z\\xf5\\x05\\x19gK\\xceQ\\xff{\\xc7@\\x12V\\xdd\\xf4\\xb2m\\x1e\\x82=\\xcc|\\xf3\\xcd\\xcd&}\\xd3I\\x81\\x1e\\x99i\\xb9V\\x19\\x0e\\xae|\\x8c\\x98*u\\xc5\\xd5.\\xc3\\x9f\\xee\\x0bo\\x81Qk\\xa9\\xaa\\xa8\\xd0\\x8ae\\xf8\\xc0Z\\xfc&\\x7f\\xfd*m\\xedA\\xb0\\xbb\\x07\\xc6,\\x02\\x08\\xd5f\\xf8\\xc1\\xdafIH[>0I\\xdb+\\xdd0\\x05ojm$\\xb5\\xb05;\\xd26\\x86\\xd1\\xaauFR\\x90\\xd0\\xf7\\xe7DR\\xae\\xf0\\x80\\xb0\\x94\\xe5\\xef\\x80Hj\\xbe\\xec\\x1b\\xaf\\xd4\\xb2\\xa1\\x96o\\xb9\\xe0\\xf6\\xd0ca$\\xcb\\xe5\\xdb\\x9d\\xd2\\x86n\\x05P\\xed\\x82\\x88\\x96\\xa8\\x0b\\xe6&D\\x9d9:\\xe9\\xa5?\\xf8\\x91\\xbc4\\xba\\xd5\\xb5\\xbd\\x02\\\\\\xa2\\xeb\\x9a\\x97\\xecG\\xba\\tI\\x08-\\xcfH\\x80\\xfc2\\xa4 &~\\xf8$\\xf6\\xce\\xbc\\x10)\"\\x86=rW>\\x9c\\xa7\\xb5V\\xb6E\\xa5\\xde+\\x9b\\xe1\\x08\\x88\\xba\\x14,\\xbf(\\xfdU\\x15\\xee\\x15Tx\\xd4\\xca\\xd3\\xf6?\\xf4H\\x05H\\x02L\\xf2\\xb4\\xd4B\\x1bd\\xa1t\\x90\\xb9^\\xa2\\xa8d\\x83\\xc6\\x9a\\n\\xbe5\\xdc\\xa9\\xd5Trq\\x18\\xc4\\xa1\\x13\\xf4\\xd5\\x1e\\xf5$\\x87\\xdc;!q<\\x066\\x13?\\xfe\\xd9\\x8f\\xd9m3\\\\\\x14~\\xffs\\xe2\\xb3\\xb3\\x1b\\xc3\\xa9x\\xd6\\xd5/Q\\x9fg\\xff\\x9b\\x80[\\x17\\xcc1%\\xff\\x88j\\xcf\\xb8\\x85Dp!Ne\\t]\\x05@\\x90\\xa7\\xd0\\xbf\\x96\\x19U\\xc0\\x06\\x8d\\xeb\\xfbC\\x03\\xf9W0jC\\x1e{\\xbd_h\\xef\\x0c=\\x04a<1 \\xbd\\xc3<\\xddjS\\xc1h\\x1f\\x1b\\xc2\\xd5~\\x10\\xe5\\xa9`\\xb5\\x85\\x88\\r\\xdf=\\xb8\\xa7\\xd5\\r\\xfco\\xb5\\xb5\\xd0\\xfeyZq\\xba\\xd3\\x8a\\nW\\xcb\\xa3\\xc5\\xb8\\x80pJ&\\xc4\\x9d\\x1b\\xff\\xcf\\xf5\\x93\\xa8\\xba\\x1a\\xa9\\xbd,\\xa4}[e\\x18\\x0e\\x12\\xd7\\x05\\xc7%\\x042.\\x07\\xbca\\x03\\xf8\\x97\\x8c\\x02\\xb0\\xbfhD\\xa6\\x14\\x06B\\x13.\\x11\\xc4\\xf9\\xe7\\\\PW\\xff\\x05\\xa9\\xd1\\xba\\x9f\\x9cK\\xbe\\xc3\\x8b!\\x9d\\xac\\x11m\\x1aqp\\xb3:N\\xe1%\\xac\\xd9\\x0b\\xb0\\xfa\\xacA\\x9e&\\x15|R\\xbfSR\\x91\\x1b\\xc7\\x0c\\x7fpG\\xb7\\x80SdL\\x0c\\xda\\xee\\xb9\\xb0\\\\\\x9d\\xd2\\xf4\\xbc\\x01\\x828\\x07\\x13\\xa8ag\\x96{\\x0e\\xed\\xf0\\xffu\\xb0Y\\xcc\\x82h\\xe3\\xdd\\xac\\xc2\\xd8\\x8b\\xa2\\xf5\\xcaKV\\xebk/I6\\xab\\xdb\\xf5\\xf5b}\\x13-\\xbe\\xf5=|B\\x05\\xa2Uwn\\xb1~(\\xad;\\xdb\\xfb\\xe6;Q\\x87N\\xabXM\\xf7\\xc2\\xde\\x9f^f\\xf8\\xbc~\\xcf*\\xbe\\x97@j\\xd4\\xfa\\xc8\\x1f\\xb5\\xed!2|^\\xbfs\\x93\\x10\\xcc\\x1d\\x03\\xd6\\xd9w-\\x9c_\\xf0D{\\xc3\\x81\\xfc\\xed\\xea:\\xd9\\xdc\\x16\\xa1\\xb7\\xf0W\\x0b/\\x9a\\xb1\\xd8K\\xe2\\xd5\\xc6\\x8b!\\x8c\\xcd\\xa6H\\xfc\\xd0_\\x7f\\x9b\\xdc0\\x7fq\\xbf\\xf4\\x17\"\\xf4o\\x10-[\\x01\\xb7\\x90\\x19\\x83\\x1d\\xc9\\xdf\\x9de\\x19\\x9el\\x06\\xfa}\\xfe\\x80\\xf6\\x94{\\x12\\xce\\xfd\\x9b8\\xf0\\xbdb\\xe6\\x07^4\\xa7\\x0bo1\\x9f\\xc5^\\x11\\x07\\xe1f\\x1e\\xadn\\xe3\"\\x9ep\\x8f_x\\x0f\\xf9$\\x08\\x86\\x1b\\xcd\\x91\\x8f\\x97\\x96K&\\xb8:\\xd6\\xeaX\\xa1\\xa9\\x14\\x8a\\x04\\xdb\\x9f\\x04A\\x8e\\x95 \\xe7\\xaf\\x8d\\xfc;\\x00\\x00\\x00\\xff\\xff\\x03\\x00PK\\x03\\x04\\x14\\x00\\x06\\x00\\x08\\x00\\x00\\x00!\\x00#\\xf9\\xe2\\x12\\xe7\\x02\\x00\\x00\\xce\\x07\\x00\\x00\\x14\\x00\\x00\\x00xl/sharedStrings.xml\\x94U]O\\xdb0\\x14}\\x9f\\xb4\\xffp\\x95\\x971M%m\\x07\\xa5BmQ)\\x85!\\xb5MG\\x8b\\x06O\\xc8sn\\x1b\\x8b\\xc4\\xcel\\x07\\x1a~\\xfdn\\xdaM0;0\\xf1\\x98s\\xce\\xbd\\xbe\\xdf\\xe9\\x9dl\\xb2\\x14\\x1eP\\x1b\\xa1d?h\\xed7\\x03@\\xc9U,\\xe4\\xba\\x1f\\\\/\\xcf\\x1b\\xdd\\x00\\x8ce2f\\xa9\\x92\\xd8\\x0fJ4\\xc1\\xc9\\xe0\\xe3\\x87\\x9e1\\x16\\xc8V\\x9a~\\x90X\\x9b\\x1f\\x87\\xa1\\xe1\\tf\\xcc\\xec\\xab\\x1c%1+\\xa53f\\xe9S\\xafC\\x93kd\\xb1I\\x10m\\x96\\x86\\xedf\\xb3\\x13fL\\xc8\\x00\\xb8*\\xa4\\xed\\x07_;G\\x01\\x14R\\xfc*p\\xb4C\\x0e;\\xc1\\xa0g\\xc4\\xa0g\\x07S\\x8c\\x05[\\xe2=\\x9c\\x89\\x0c\\xa5\\x11\\xb6\\x84\\x16\\xb9\\xe8\\x85v\\xd0\\x0b+\\xc9N&\\x95\\x05\\x89\\x18c\\xec2\\x17)3\\xc6\\x05\\xe7\\x04Z\\xc1]x1\\x9c.\\xaeg\\x17\\x1e\\x1c\\xcdn]l8\\x8d&\\xe33\\x17\\x9d)\\xd98Wi\\xcc~\\xa6\\xe8r\\xedv\\xb3\\xbbi\\x1du\\xbauF\\x17,\\xa3\\xa2\\xc3y\\xca\\xd6&\\x11\\xb9\\x17\\xf0\\xcd\\xe50\\x9a^:\\x96U\\x0b\\x8eM\\xce8\\xb5\\x86jlP?`0\\x18oJ\\xa9\\x0c\\xb4[\\xcd&\\xb8O\\x8d\\xb9\\x82\\t2\\x9b\\xa0\\xf6\\x12J\\x0b\\nA\\x14\\x99K\\x9c\\x95\\x92\\x82\\xe3\\x8d]\\xc6\\x8d\\xf6\\x8d+h\\xb5\\xbb\\x07\\x9b\\xf6\\xd1\\x91\\x97\\xd8B\\xb2<\\xd6l\\xad$t\\xbb\\xdd/^Y_\\xd0\\x9dC\\x8f~\\x91\\x87ky5\\x1eN\\xa6c\\x17=\\x84\\xbd)\\xe3Z}\\xf6\\xba\\x1d\\x8d\"\\x17\\x8bf\\xe3\\xf9\\xe4z\\xe1\\xc2\\xd3h\\x19]E\\x93\\xa1\\x8b_~\\x8f|\\x175\\x030\\x9c\\xcf\\'^`[\\x10\\x86\\xadC\\xaf\\x02\\x96\\xf6 Ec`a\\x11S\\x97\\xfe;I`2\\xa6m\\x9e\\xd0\\x0ez\\xa9i\\xc5\\xc9^i(U\\x014\\x04+\\xbf\\xb3\\xcbD\\xf0{Y\\xbd\\xf2\\xac\\x81\\xbd,\\xf3\\xea\\xf4Ch\\xdcF3J\\x98^\\xa3\\x86\\xbd\\xc7ZM\\x0c\\xfc\\x8f\\x803\\x9a\\xbej\\'\\xeb\\x94(\\xd6\\x89\\x05\\xb5z\\x11\\xfe?\\x11\\xac=\\xe7\\xa7\\xccZ\\xd4%\\xdcR.\\xf3m.\\x14\\xe70\\xa9\\xd1\\xf1{\\x983\\xe9\\x97l!b\\x84\\x95f\\x99W\\xa9\\xeb\\xd4j\\xd6x\\xacxN\\xb4f4-s\\xcf\\xf3R\\x15<\\x01\\xc3\\xb2<\\xc5\\x10h\\xa7r%\\r\\x82f\\x16a\\xef\\xdb\\x93\\xa7\\xbf\\xc2\\x15\\x89\\x92\\x9d\\xc0**\\x8cR\\xa4\\xaf\\x93.\\xcb\\x1c\\xabj\\xc4\\xc2\\xe4)+\\xdfj\\x18)\\xbdQ\\xe1\\x1aQ\\xc2\\x15\\x1a\\x95\\x16\\x96\\xee\\xf5+\\x82\\x85x\\xc2\\xff\\xb8\\xaeiIu:]\\x87\\xa7\\x9a\\x0e\\xff\\xb6\\x15\\xa3mR.?+Rwb\\xeb\\x0f\\xd2\\\\\\x0b\\x9a\\xdf\\x12F\\xcfe\\xf7\\x0e\\xd3\\x99\\x92\\x9f,\\xcc(\\x0c\\xb0\\x89\\xf0\\xce\\xdf\\x8e\\xae\\xa2\\xac\\xa5\\x97\\xa8\\xadx~\\xe2\\xce\\xd2\\x18\\xd3\\xbaP?h1\\xb2\\xea&\\xdc\\xbd\\xd1\\xf3\\x05\\xfdWHg\\xc8\\x88[za\\xa5UF\\xcf \\xb4\\xe8/G\\xa1\\xaf\\xfdf\\xbcf\\xd1\\xa6\\x8a\\xbd\\xcf\\xe2\\xab~\\xaf\\xc5\\x81M\\xdc7B\\xfa\\x1f\\x0f~\\x03\\x00\\x00\\xff\\xff\\x03\\x00PK\\x03\\x04\\x14\\x00\\x06\\x00\\x08\\x00\\x00\\x00!\\x00i\\xa2\\x90<E\\x01\\x00\\x00a\\x02\\x00\\x00\\x11\\x00\\x08\\x01docProps/core.xml \\xa2\\x04\\x01(\\xa0\\x00\\x01\\x00\\x00\\x00\\x00\\x00\\x00\\x00\\x00\\x00\\x00\\x00\\x00\\x00\\x00\\x00\\x00\\x00\\x00\\x00\\x00\\x00\\x00\\x00\\x00\\x00\\x00\\x00\\x00\\x00\\x00\\x00\\x00\\x00\\x00\\x00\\x00\\x00\\x00\\x00\\x00\\x00\\x00\\x00\\x00\\x00\\x00\\x00\\x00\\x00\\x00\\x00\\x00\\x00\\x00\\x00\\x00\\x00\\x00\\x00\\x00\\x00\\x00\\x00\\x00\\x00\\x00\\x00\\x00\\x00\\x00\\x00\\x00\\x00\\x00\\x00\\x00\\x00\\x00\\x00\\x00\\x00\\x00\\x00\\x00\\x00\\x00\\x00\\x00\\x00\\x00\\x00\\x00\\x00\\x00\\x00\\x00\\x00\\x00\\x00\\x00\\x00\\x00\\x00\\x00\\x00\\x00\\x00\\x00\\x00\\x00\\x00\\x00\\x00\\x00\\x00\\x00\\x00\\x00\\x00\\x00\\x00\\x00\\x00\\x00\\x00\\x00\\x00\\x00\\x00\\x00\\x00\\x00\\x00\\x00\\x00\\x00\\x00\\x00\\x00\\x00\\x00\\x00\\x00\\x00\\x00\\x00\\x00\\x00\\x00\\x00\\x00\\x00\\x00\\x00\\x00\\x00\\x00\\x00\\x00\\x00\\x00\\x00\\x00\\x00\\x00\\x00\\x00\\x00\\x00\\x00\\x00\\x00\\x00\\x00\\x00\\x00\\x00\\x00\\x00\\x00\\x00\\x00\\x00\\x00\\x00\\x00\\x00\\x00\\x00\\x00\\x00\\x00\\x00\\x00\\x00\\x00\\x00\\x00\\x00\\x00\\x00\\x00\\x00\\x00\\x00\\x00\\x00\\x00\\x00\\x00\\x00\\x00\\x00\\x00\\x00\\x00\\x00\\x00\\x00\\x00\\x00\\x00\\x00\\x00\\x00\\x00\\x00\\x00\\x00\\x00\\x00\\x00\\x00\\x00\\x00\\x00\\x00\\x00\\x00\\x00\\x00\\x00\\x00\\x00\\x00\\x00\\x00\\x00\\x00\\x00\\x00\\x00\\x00\\x00\\x00\\x00\\x8c\\x92_K\\xc30\\x14\\xc5\\xdf\\x05\\xbfC\\xc9{\\x9b\\xfea\\xc3\\x85\\xb6\\x03\\x95\\xe1\\x83\\x03a\\x95\\x89o!\\xb9\\xdb\\x82M\\x1a\\x92h\\xb7oo\\xdan\\xb52\\x1f\\x84\\xbc\\xe4\\x9es\\x7f9\\xf7\\x92|y\\x94u\\xf0\\x05\\xc6\\x8aF\\x15(\\x89b\\x14\\x80b\\r\\x17j_\\xa0\\xd7j\\x15\\xde\\xa1\\xc0:\\xaa8\\xad\\x1b\\x05\\x05:\\x81E\\xcb\\xf2\\xf6&g\\x9a\\xb0\\xc6\\xc0\\x8bi4\\x18\\'\\xc0\\x06\\x9e\\xa4,a\\xba@\\x07\\xe74\\xc1\\xd8\\xb2\\x03Hj#\\xefP^\\xdc5FR\\xe7\\xaff\\x8f5e\\x1ft\\x0f8\\x8d\\xe39\\x96\\xe0(\\xa7\\x8e\\xe2\\x0e\\x18\\xea\\x91\\x88\\xceH\\xceF\\xa4\\xfe4u\\x0f\\xe0\\x0cC\\r\\x12\\x94\\xb38\\x89\\x12\\xfc\\xe3u`\\xa4\\xfd\\xb3\\xa1W&N)\\xdcI\\xfb\\x99\\xceq\\xa7l\\xce\\x06qt\\x1f\\xad\\x18\\x8dm\\xdbFm\\xd6\\xc7\\xf0\\xf9\\x13\\xfc\\xb6~\\xde\\xf4\\xa3\\x86Bu\\xbbb\\x80\\xca\\x9c3\\xc2\\x0cP\\xd7\\x98rc\\x00\\x9e\\xa8\\x119\\x9e\\x14\\xbb\\x05\\xd6\\xd4\\xba\\xb5\\xdf\\xf5N\\x00\\xbf?M|\\xd7\\x9a\\xe7\\xf5\\xf1\\x07(\\xf0\\xc0\\x07\"C\\xfc\\x8b\\xb2\\xcd\\x1e\\x1e\\xab\\x15*\\xd38M\\xc3\\xd8\\x9fY\\x15/\\xc8,!Y\\xfc\\xde=\\xfd\\xab\\xbf\\x0b8\\x14\\xe49\\xc0\\x7f\\x88\\xf3*\\x99\\x93tA\\xb2dB\\xbc\\x00\\xca\\x1c_}\\x8a\\xf2\\x1b\\x00\\x00\\xff\\xff\\x03\\x00PK\\x03\\x04\\x14\\x00\\x06\\x00\\x08\\x00\\x00\\x00!\\x00o\\xd2\\xe5\\xaf\\x8b\\x01\\x00\\x00\\x11\\x03\\x00\\x00\\x10\\x00\\x08\\x01docProps/app.xml \\xa2\\x04\\x01(\\xa0\\x00\\x01\\x00\\x00\\x00\\x00\\x00\\x00\\x00\\x00\\x00\\x00\\x00\\x00\\x00\\x00\\x00\\x00\\x00\\x00\\x00\\x00\\x00\\x00\\x00\\x00\\x00\\x00\\x00\\x00\\x00\\x00\\x00\\x00\\x00\\x00\\x00\\x00\\x00\\x00\\x00\\x00\\x00\\x00\\x00\\x00\\x00\\x00\\x00\\x00\\x00\\x00\\x00\\x00\\x00\\x00\\x00\\x00\\x00\\x00\\x00\\x00\\x00\\x00\\x00\\x00\\x00\\x00\\x00\\x00\\x00\\x00\\x00\\x00\\x00\\x00\\x00\\x00\\x00\\x00\\x00\\x00\\x00\\x00\\x00\\x00\\x00\\x00\\x00\\x00\\x00\\x00\\x00\\x00\\x00\\x00\\x00\\x00\\x00\\x00\\x00\\x00\\x00\\x00\\x00\\x00\\x00\\x00\\x00\\x00\\x00\\x00\\x00\\x00\\x00\\x00\\x00\\x00\\x00\\x00\\x00\\x00\\x00\\x00\\x00\\x00\\x00\\x00\\x00\\x00\\x00\\x00\\x00\\x00\\x00\\x00\\x00\\x00\\x00\\x00\\x00\\x00\\x00\\x00\\x00\\x00\\x00\\x00\\x00\\x00\\x00\\x00\\x00\\x00\\x00\\x00\\x00\\x00\\x00\\x00\\x00\\x00\\x00\\x00\\x00\\x00\\x00\\x00\\x00\\x00\\x00\\x00\\x00\\x00\\x00\\x00\\x00\\x00\\x00\\x00\\x00\\x00\\x00\\x00\\x00\\x00\\x00\\x00\\x00\\x00\\x00\\x00\\x00\\x00\\x00\\x00\\x00\\x00\\x00\\x00\\x00\\x00\\x00\\x00\\x00\\x00\\x00\\x00\\x00\\x00\\x00\\x00\\x00\\x00\\x00\\x00\\x00\\x00\\x00\\x00\\x00\\x00\\x00\\x00\\x00\\x00\\x00\\x00\\x00\\x00\\x00\\x00\\x00\\x00\\x00\\x00\\x00\\x00\\x00\\x00\\x00\\x00\\x00\\x00\\x00\\x00\\x00\\x00\\x00\\x00\\x00\\x00\\x00\\x00\\x00\\x00\\x00\\x00\\x9c\\x92OO\\xe30\\x10\\xc5\\xef+\\xf1\\x1d\"\\xdf\\xa9S@hU9F\\xa8,\\xe2\\xc0\\x9fj[\\xd8\\xb3\\xd7\\x994\\x16\\x8e\\x1dy\\x86\\xa8\\xe5\\xd3\\xef$\\x11%]\\xf6\\xb4\\xb7\\x99yO\\xcf?\\x8f\\xad\\xaev\\x8d\\xcf:H\\xe8b(\\xc4|\\x96\\x8b\\x0c\\x82\\x8d\\xa5\\x0b\\xdbB<onO\\xbf\\x8b\\x0c\\xc9\\x84\\xd2\\xf8\\x18\\xa0\\x10{@q\\xa5O\\xbe\\xa9U\\x8a-$r\\x80\\x19G\\x04,DM\\xd4.\\xa4D[Ccp\\xc6r`\\xa5\\x8a\\xa91\\xc4m\\xda\\xcaXU\\xce\\xc2M\\xb4o\\r\\x04\\x92gy~)aG\\x10J(O\\xdbC\\xa0\\x18\\x13\\x17\\x1d\\xfdoh\\x19m\\xcf\\x87/\\x9b}\\xcb\\xc0Z]\\xb7\\xadw\\xd6\\x10\\xdfR?8\\x9b\"\\xc6\\x8a\\xb2\\x1f;\\x0b^\\xc9\\xa9\\xa8\\x98n\\r\\xf6-9\\xda\\xeb\\\\\\xc9i\\xab\\xd6\\xd6xXr\\xb0\\xae\\x8cGP\\xf2s\\xa0\\xee\\xc0\\xf4K[\\x19\\x97P\\xab\\x8e\\x16\\x1dX\\x8a)C\\xf7\\xcek;\\x13\\xd9o\\x83\\xd0\\xe3\\x14\\xa23\\xc9\\x99@\\x8c\\xd5\\xdb\\xc6f\\xa8}\\x8b\\x94\\xf4\\xaf\\x98^\\xb1\\x06 T\\x92\\r\\xe3p(\\xa7\\xdei\\xed.\\xf4|0pql\\xec\\x03F\\x10\\x16\\x8e\\x117\\x8e<\\xe0S\\xb52\\x89\\xfeA<\\x9f\\x12\\x0f\\x0c#\\xef\\x88\\xf3\\xf8\\xf4\\xf3\\xe1\\xfa\\xfe\\x0b\\xdfpe>\\xe9\\xaf\\xecelZ\\x13\\xf6,\\x1c\\xaa{\\x17^\\xf1\\xb9\\xdd\\xc4\\x1bC\\xf0\\xb1\\xce\\xe3\\xa1Z\\xd7&A\\xc9/pX\\xf7a\\xa0\\xeex\\x93\\xc9\\xf7!\\xcb\\xda\\x84-\\x94\\x1f\\x9e\\xafB\\xff\\xf8/\\xe3\\x0f\\xd7\\xf3\\xcbY~\\x9e\\xf3\\xbbNfJ~\\xfee\\xfd\\x07\\x00\\x00\\xff\\xff\\x03\\x00PK\\x01\\x02-\\x00\\x14\\x00\\x06\\x00\\x08\\x00\\x00\\x00!\\x00b\\xee\\x9dh^\\x01\\x00\\x00\\x90\\x04\\x00\\x00\\x13\\x00\\x00\\x00\\x00\\x00\\x00\\x00\\x00\\x00\\x00\\x00\\x00\\x00\\x00\\x00\\x00\\x00[Content_Types].xmlPK\\x01\\x02-\\x00\\x14\\x00\\x06\\x00\\x08\\x00\\x00\\x00!\\x00\\xb5U0#\\xf4\\x00\\x00\\x00L\\x02\\x00\\x00\\x0b\\x00\\x00\\x00\\x00\\x00\\x00\\x00\\x00\\x00\\x00\\x00\\x00\\x00\\x97\\x03\\x00\\x00_rels/.relsPK\\x01\\x02-\\x00\\x14\\x00\\x06\\x00\\x08\\x00\\x00\\x00!\\x00t\\xba\\x051\\x94\\x03\\x00\\x00|\\x08\\x00\\x00\\x0f\\x00\\x00\\x00\\x00\\x00\\x00\\x00\\x00\\x00\\x00\\x00\\x00\\x00\\xbc\\x06\\x00\\x00xl/workbook.xmlPK\\x01\\x02-\\x00\\x14\\x00\\x06\\x00\\x08\\x00\\x00\\x00!\\x00\\x81>\\x94\\x97\\xf3\\x00\\x00\\x00\\xba\\x02\\x00\\x00\\x1a\\x00\\x00\\x00\\x00\\x00\\x00\\x00\\x00\\x00\\x00\\x00\\x00\\x00}\\n\\x00\\x00xl/_rels/workbook.xml.relsPK\\x01\\x02-\\x00\\x14\\x00\\x06\\x00\\x08\\x00\\x00\\x00!\\x00\\xb6V\\x12\\xdaY\\x0f\\x00\\x004e\\x00\\x00\\x18\\x00\\x00\\x00\\x00\\x00\\x00\\x00\\x00\\x00\\x00\\x00\\x00\\x00\\xb0\\x0c\\x00\\x00xl/worksheets/sheet1.xmlPK\\x01\\x02-\\x00\\x14\\x00\\x06\\x00\\x08\\x00\\x00\\x00!\\x00\\xc1\\x17\\x10\\xbeN\\x07\\x00\\x00\\xc6 \\x00\\x00\\x13\\x00\\x00\\x00\\x00\\x00\\x00\\x00\\x00\\x00\\x00\\x00\\x00\\x00?\\x1c\\x00\\x00xl/theme/theme1.xmlPK\\x01\\x02-\\x00\\x14\\x00\\x06\\x00\\x08\\x00\\x00\\x00!\\x00\\xca\\xd4R\\xae2\\x03\\x00\\x00\\xb3\\x08\\x00\\x00\\r\\x00\\x00\\x00\\x00\\x00\\x00\\x00\\x00\\x00\\x00\\x00\\x00\\x00\\xbe#\\x00\\x00xl/styles.xmlPK\\x01\\x02-\\x00\\x14\\x00\\x06\\x00\\x08\\x00\\x00\\x00!\\x00#\\xf9\\xe2\\x12\\xe7\\x02\\x00\\x00\\xce\\x07\\x00\\x00\\x14\\x00\\x00\\x00\\x00\\x00\\x00\\x00\\x00\\x00\\x00\\x00\\x00\\x00\\x1b\\'\\x00\\x00xl/sharedStrings.xmlPK\\x01\\x02-\\x00\\x14\\x00\\x06\\x00\\x08\\x00\\x00\\x00!\\x00i\\xa2\\x90<E\\x01\\x00\\x00a\\x02\\x00\\x00\\x11\\x00\\x00\\x00\\x00\\x00\\x00\\x00\\x00\\x00\\x00\\x00\\x00\\x004*\\x00\\x00docProps/core.xmlPK\\x01\\x02-\\x00\\x14\\x00\\x06\\x00\\x08\\x00\\x00\\x00!\\x00o\\xd2\\xe5\\xaf\\x8b\\x01\\x00\\x00\\x11\\x03\\x00\\x00\\x10\\x00\\x00\\x00\\x00\\x00\\x00\\x00\\x00\\x00\\x00\\x00\\x00\\x00\\xb0,\\x00\\x00docProps/app.xmlPK\\x05\\x06\\x00\\x00\\x00\\x00\\n\\x00\\n\\x00\\x80\\x02\\x00\\x00q/\\x00\\x00\\x00\\x00'}"
            ]
          },
          "metadata": {},
          "execution_count": 70
        }
      ]
    },
    {
      "cell_type": "code",
      "source": [
        "nd=pd.read_excel('Normal Flagship Survey Data.xlsx')\n",
        "nd.head()"
      ],
      "metadata": {
        "colab": {
          "base_uri": "https://localhost:8080/",
          "height": 513
        },
        "id": "RJPBIoQFO7L0",
        "outputId": "2d90bdb0-78e5-4cdf-b372-18768762aa93"
      },
      "execution_count": null,
      "outputs": [
        {
          "output_type": "execute_result",
          "data": {
            "text/html": [
              "\n",
              "  <div id=\"df-972d9312-9775-4ec8-92e0-94b135fbbba2\">\n",
              "    <div class=\"colab-df-container\">\n",
              "      <div>\n",
              "<style scoped>\n",
              "    .dataframe tbody tr th:only-of-type {\n",
              "        vertical-align: middle;\n",
              "    }\n",
              "\n",
              "    .dataframe tbody tr th {\n",
              "        vertical-align: top;\n",
              "    }\n",
              "\n",
              "    .dataframe thead th {\n",
              "        text-align: right;\n",
              "    }\n",
              "</style>\n",
              "<table border=\"1\" class=\"dataframe\">\n",
              "  <thead>\n",
              "    <tr style=\"text-align: right;\">\n",
              "      <th></th>\n",
              "      <th>Brand You Choose</th>\n",
              "      <th>Type of smartphone you need</th>\n",
              "      <th>Screen Size you prefer</th>\n",
              "      <th>Screen Resolution</th>\n",
              "      <th>Type</th>\n",
              "      <th>Type of display you prefer</th>\n",
              "      <th>Refresh rate to choose (Hz)</th>\n",
              "      <th>Touch sample/ response rate (Hz)</th>\n",
              "      <th>Primary Camera (MP)</th>\n",
              "      <th>Ultra-wide camera (MP)</th>\n",
              "      <th>Tertiary Camera_telephoto or macro_camera (MP)</th>\n",
              "      <th>Sensor selected from the 1st image</th>\n",
              "      <th>Sensor selected from the 2nd image</th>\n",
              "      <th>Sensor selected from the 3rd image</th>\n",
              "      <th>Sensor selected from the 4th image</th>\n",
              "      <th>Side frame</th>\n",
              "      <th>Back Panel</th>\n",
              "      <th>Battery You Prefer (mAh)</th>\n",
              "      <th>Weight of smartphone you prefer (g)</th>\n",
              "      <th>Wired charger capacity (w)</th>\n",
              "      <th>Wireless Charger (w)</th>\n",
              "      <th>Thickness you prefer (mm)</th>\n",
              "      <th>Processor you prefer</th>\n",
              "    </tr>\n",
              "  </thead>\n",
              "  <tbody>\n",
              "    <tr>\n",
              "      <th>0</th>\n",
              "      <td>SAMSUNG</td>\n",
              "      <td>Non-Gaming Flagships</td>\n",
              "      <td>7.2</td>\n",
              "      <td>2208x1768</td>\n",
              "      <td>Foldable smartphone</td>\n",
              "      <td>AMOLED</td>\n",
              "      <td>120</td>\n",
              "      <td>Null</td>\n",
              "      <td>108</td>\n",
              "      <td>64</td>\n",
              "      <td>108</td>\n",
              "      <td>SAMSUNG</td>\n",
              "      <td>SAMSUNG</td>\n",
              "      <td>SAMSUNG</td>\n",
              "      <td>SAMSUNG</td>\n",
              "      <td>Aluminium</td>\n",
              "      <td>Eco Leather</td>\n",
              "      <td>6000</td>\n",
              "      <td>177</td>\n",
              "      <td>50</td>\n",
              "      <td>45</td>\n",
              "      <td>8.0</td>\n",
              "      <td>Snapdragon 888+</td>\n",
              "    </tr>\n",
              "    <tr>\n",
              "      <th>1</th>\n",
              "      <td>SAMSUNG</td>\n",
              "      <td>Non-Gaming Flagships</td>\n",
              "      <td>8.0</td>\n",
              "      <td>2208x1768</td>\n",
              "      <td>Foldable smartphone</td>\n",
              "      <td>AMOLED</td>\n",
              "      <td>120</td>\n",
              "      <td>240</td>\n",
              "      <td>50</td>\n",
              "      <td>50</td>\n",
              "      <td>50</td>\n",
              "      <td>SAMSUNG</td>\n",
              "      <td>SAMSUNG</td>\n",
              "      <td>SAMSUNG</td>\n",
              "      <td>SAMSUNG</td>\n",
              "      <td>Aluminium</td>\n",
              "      <td>Glass</td>\n",
              "      <td>4800</td>\n",
              "      <td>230</td>\n",
              "      <td>40</td>\n",
              "      <td>25</td>\n",
              "      <td>9.2</td>\n",
              "      <td>Snapdragon 865+</td>\n",
              "    </tr>\n",
              "    <tr>\n",
              "      <th>2</th>\n",
              "      <td>SAMSUNG</td>\n",
              "      <td>Non-Gaming Flagships</td>\n",
              "      <td>8.2</td>\n",
              "      <td>2208x1768</td>\n",
              "      <td>Foldable smartphone</td>\n",
              "      <td>Dynamic-AMOLED-2X</td>\n",
              "      <td>120</td>\n",
              "      <td>240</td>\n",
              "      <td>12</td>\n",
              "      <td>12</td>\n",
              "      <td>12</td>\n",
              "      <td>SAMSUNG</td>\n",
              "      <td>SAMSUNG</td>\n",
              "      <td>SAMSUNG</td>\n",
              "      <td>SAMSUNG</td>\n",
              "      <td>Aluminium</td>\n",
              "      <td>Glass</td>\n",
              "      <td>4800</td>\n",
              "      <td>230</td>\n",
              "      <td>30</td>\n",
              "      <td>not needed</td>\n",
              "      <td>8.0</td>\n",
              "      <td>Snapdragon 888+</td>\n",
              "    </tr>\n",
              "    <tr>\n",
              "      <th>3</th>\n",
              "      <td>XIAOMI</td>\n",
              "      <td>Non-Gaming Flagships</td>\n",
              "      <td>7.8</td>\n",
              "      <td>2208x1768</td>\n",
              "      <td>Foldable smartphone</td>\n",
              "      <td>AMOLED</td>\n",
              "      <td>120</td>\n",
              "      <td>300</td>\n",
              "      <td>50</td>\n",
              "      <td>12</td>\n",
              "      <td>12</td>\n",
              "      <td>SAMSUNG</td>\n",
              "      <td>SONY</td>\n",
              "      <td>SONY</td>\n",
              "      <td>SAMSUNG</td>\n",
              "      <td>Aluminium</td>\n",
              "      <td>Eco Leather</td>\n",
              "      <td>4500</td>\n",
              "      <td>230</td>\n",
              "      <td>33</td>\n",
              "      <td>not needed</td>\n",
              "      <td>8.6</td>\n",
              "      <td>Snapdragon 888+</td>\n",
              "    </tr>\n",
              "    <tr>\n",
              "      <th>4</th>\n",
              "      <td>APPLE</td>\n",
              "      <td>Non-Gaming Flagships</td>\n",
              "      <td>5.4</td>\n",
              "      <td>1284x2778</td>\n",
              "      <td>Non-Foldable</td>\n",
              "      <td>OLED</td>\n",
              "      <td>120</td>\n",
              "      <td>240</td>\n",
              "      <td>48</td>\n",
              "      <td>12</td>\n",
              "      <td>12</td>\n",
              "      <td>SAMSUNG</td>\n",
              "      <td>SAMSUNG</td>\n",
              "      <td>SAMSUNG</td>\n",
              "      <td>SAMSUNG</td>\n",
              "      <td>Stainless Steel</td>\n",
              "      <td>Glass</td>\n",
              "      <td>4500</td>\n",
              "      <td>210</td>\n",
              "      <td>30</td>\n",
              "      <td>20</td>\n",
              "      <td>8.0</td>\n",
              "      <td>APPLE A15</td>\n",
              "    </tr>\n",
              "  </tbody>\n",
              "</table>\n",
              "</div>\n",
              "      <button class=\"colab-df-convert\" onclick=\"convertToInteractive('df-972d9312-9775-4ec8-92e0-94b135fbbba2')\"\n",
              "              title=\"Convert this dataframe to an interactive table.\"\n",
              "              style=\"display:none;\">\n",
              "        \n",
              "  <svg xmlns=\"http://www.w3.org/2000/svg\" height=\"24px\"viewBox=\"0 0 24 24\"\n",
              "       width=\"24px\">\n",
              "    <path d=\"M0 0h24v24H0V0z\" fill=\"none\"/>\n",
              "    <path d=\"M18.56 5.44l.94 2.06.94-2.06 2.06-.94-2.06-.94-.94-2.06-.94 2.06-2.06.94zm-11 1L8.5 8.5l.94-2.06 2.06-.94-2.06-.94L8.5 2.5l-.94 2.06-2.06.94zm10 10l.94 2.06.94-2.06 2.06-.94-2.06-.94-.94-2.06-.94 2.06-2.06.94z\"/><path d=\"M17.41 7.96l-1.37-1.37c-.4-.4-.92-.59-1.43-.59-.52 0-1.04.2-1.43.59L10.3 9.45l-7.72 7.72c-.78.78-.78 2.05 0 2.83L4 21.41c.39.39.9.59 1.41.59.51 0 1.02-.2 1.41-.59l7.78-7.78 2.81-2.81c.8-.78.8-2.07 0-2.86zM5.41 20L4 18.59l7.72-7.72 1.47 1.35L5.41 20z\"/>\n",
              "  </svg>\n",
              "      </button>\n",
              "      \n",
              "  <style>\n",
              "    .colab-df-container {\n",
              "      display:flex;\n",
              "      flex-wrap:wrap;\n",
              "      gap: 12px;\n",
              "    }\n",
              "\n",
              "    .colab-df-convert {\n",
              "      background-color: #E8F0FE;\n",
              "      border: none;\n",
              "      border-radius: 50%;\n",
              "      cursor: pointer;\n",
              "      display: none;\n",
              "      fill: #1967D2;\n",
              "      height: 32px;\n",
              "      padding: 0 0 0 0;\n",
              "      width: 32px;\n",
              "    }\n",
              "\n",
              "    .colab-df-convert:hover {\n",
              "      background-color: #E2EBFA;\n",
              "      box-shadow: 0px 1px 2px rgba(60, 64, 67, 0.3), 0px 1px 3px 1px rgba(60, 64, 67, 0.15);\n",
              "      fill: #174EA6;\n",
              "    }\n",
              "\n",
              "    [theme=dark] .colab-df-convert {\n",
              "      background-color: #3B4455;\n",
              "      fill: #D2E3FC;\n",
              "    }\n",
              "\n",
              "    [theme=dark] .colab-df-convert:hover {\n",
              "      background-color: #434B5C;\n",
              "      box-shadow: 0px 1px 3px 1px rgba(0, 0, 0, 0.15);\n",
              "      filter: drop-shadow(0px 1px 2px rgba(0, 0, 0, 0.3));\n",
              "      fill: #FFFFFF;\n",
              "    }\n",
              "  </style>\n",
              "\n",
              "      <script>\n",
              "        const buttonEl =\n",
              "          document.querySelector('#df-972d9312-9775-4ec8-92e0-94b135fbbba2 button.colab-df-convert');\n",
              "        buttonEl.style.display =\n",
              "          google.colab.kernel.accessAllowed ? 'block' : 'none';\n",
              "\n",
              "        async function convertToInteractive(key) {\n",
              "          const element = document.querySelector('#df-972d9312-9775-4ec8-92e0-94b135fbbba2');\n",
              "          const dataTable =\n",
              "            await google.colab.kernel.invokeFunction('convertToInteractive',\n",
              "                                                     [key], {});\n",
              "          if (!dataTable) return;\n",
              "\n",
              "          const docLinkHtml = 'Like what you see? Visit the ' +\n",
              "            '<a target=\"_blank\" href=https://colab.research.google.com/notebooks/data_table.ipynb>data table notebook</a>'\n",
              "            + ' to learn more about interactive tables.';\n",
              "          element.innerHTML = '';\n",
              "          dataTable['output_type'] = 'display_data';\n",
              "          await google.colab.output.renderOutput(dataTable, element);\n",
              "          const docLink = document.createElement('div');\n",
              "          docLink.innerHTML = docLinkHtml;\n",
              "          element.appendChild(docLink);\n",
              "        }\n",
              "      </script>\n",
              "    </div>\n",
              "  </div>\n",
              "  "
            ],
            "text/plain": [
              "  Brand You Choose  ... Processor you prefer\n",
              "0          SAMSUNG  ...      Snapdragon 888+\n",
              "1          SAMSUNG  ...      Snapdragon 865+\n",
              "2          SAMSUNG  ...      Snapdragon 888+\n",
              "3           XIAOMI  ...      Snapdragon 888+\n",
              "4            APPLE  ...            APPLE A15\n",
              "\n",
              "[5 rows x 23 columns]"
            ]
          },
          "metadata": {},
          "execution_count": 73
        }
      ]
    },
    {
      "cell_type": "code",
      "source": [
        "nd.dtypes"
      ],
      "metadata": {
        "colab": {
          "base_uri": "https://localhost:8080/"
        },
        "id": "WtEzKGUpnice",
        "outputId": "f0c1f577-c345-4baf-c220-6a475d3609e2"
      },
      "execution_count": null,
      "outputs": [
        {
          "output_type": "execute_result",
          "data": {
            "text/plain": [
              "Brand You Choose                                   object\n",
              "Type of smartphone you need                        object\n",
              "Screen Size you prefer                            float64\n",
              "Screen Resolution                                  object\n",
              "Type                                               object\n",
              "Type of display you prefer                         object\n",
              "Refresh rate to choose (Hz)                         int64\n",
              "Touch sample/ response rate (Hz)                   object\n",
              "Primary Camera (MP)                                 int64\n",
              "Ultra-wide camera (MP)                             object\n",
              "Tertiary Camera_telephoto or macro_camera (MP)     object\n",
              "Sensor selected from the 1st image                 object\n",
              "Sensor selected from the 2nd image                 object\n",
              "Sensor selected from the 3rd image                 object\n",
              "Sensor selected from the 4th image                 object\n",
              "Side frame                                         object\n",
              "Back Panel                                         object\n",
              "Battery You Prefer (mAh)                            int64\n",
              "Weight of smartphone you prefer (g)                 int64\n",
              "Wired charger capacity (w)                          int64\n",
              "Wireless Charger (w)                               object\n",
              "Thickness you prefer (mm)                         float64\n",
              "Processor you prefer                               object\n",
              "dtype: object"
            ]
          },
          "metadata": {},
          "execution_count": 74
        }
      ]
    },
    {
      "cell_type": "code",
      "source": [
        "nd.columns"
      ],
      "metadata": {
        "colab": {
          "base_uri": "https://localhost:8080/"
        },
        "id": "MvTQ1JivnqBk",
        "outputId": "fbac17f4-25f7-46dd-f420-e34e05a1b298"
      },
      "execution_count": null,
      "outputs": [
        {
          "output_type": "execute_result",
          "data": {
            "text/plain": [
              "Index(['Brand You Choose', 'Type of smartphone you need',\n",
              "       'Screen Size you prefer', 'Screen Resolution', 'Type',\n",
              "       'Type of display you prefer', 'Refresh rate to choose (Hz)',\n",
              "       'Touch sample/ response rate (Hz)', 'Primary Camera (MP) ',\n",
              "       'Ultra-wide camera (MP)',\n",
              "       'Tertiary Camera_telephoto or macro_camera (MP)',\n",
              "       'Sensor selected from the 1st image',\n",
              "       'Sensor selected from the 2nd image',\n",
              "       'Sensor selected from the 3rd image',\n",
              "       'Sensor selected from the 4th image', 'Side frame', 'Back Panel',\n",
              "       'Battery You Prefer (mAh)', 'Weight of smartphone you prefer (g)',\n",
              "       'Wired charger capacity (w)', 'Wireless Charger (w)',\n",
              "       'Thickness you prefer (mm)', 'Processor you prefer'],\n",
              "      dtype='object')"
            ]
          },
          "metadata": {},
          "execution_count": 76
        }
      ]
    },
    {
      "cell_type": "code",
      "source": [
        "#Brand You Choose\n",
        "cp(nd)"
      ],
      "metadata": {
        "colab": {
          "base_uri": "https://localhost:8080/",
          "height": 887
        },
        "id": "YjTM1ph4ntVK",
        "outputId": "599705c5-83b2-4e36-8493-aa480bde1853"
      },
      "execution_count": null,
      "outputs": [
        {
          "name": "stdout",
          "output_type": "stream",
          "text": [
            "column Name Brand You Choose\n",
            "length : 8\n",
            "x_figsize : 6.6\n",
            "y_figsize : 5\n",
            "color 1\n",
            "1\n",
            "2\n",
            "color 2\n",
            "color 3\n",
            "3\n",
            "color 4\n",
            "4\n",
            "color 5\n",
            "5\n",
            "color 6\n",
            "6\n",
            "color 7\n",
            "7\n",
            "color 8\n",
            "8\n",
            "SAMSUNG     7\n",
            "APPLE       6\n",
            "IQOO        4\n",
            "ONEPLUS     4\n",
            "XIAOMI      2\n",
            "POCO        2\n",
            "MOTOROLA    1\n",
            "REALME      1\n",
            "Name: Brand You Choose, dtype: int64 AxesSubplot(0.125,0.125;0.775x0.755)\n",
            "enter image name :Brand You Choose.png\n"
          ]
        },
        {
          "output_type": "display_data",
          "data": {
            "image/png": "[encoded data removed]",
            "text/plain": [
              "<Figure size 475.2x360 with 1 Axes>"
            ]
          },
          "metadata": {
            "needs_background": "light"
          }
        }
      ]
    },
    {
      "cell_type": "code",
      "source": [
        "#Screen Size you prefer\n",
        "cp(nd)"
      ],
      "metadata": {
        "colab": {
          "base_uri": "https://localhost:8080/",
          "height": 1000
        },
        "id": "N9J7m96uopxP",
        "outputId": "35747ddc-3566-4612-a4b2-62f1dc67dde9"
      },
      "execution_count": null,
      "outputs": [
        {
          "name": "stdout",
          "output_type": "stream",
          "text": [
            "column Name Screen Size you prefer\n",
            "length : 16\n",
            "x_figsize : 6.6\n",
            "y_figsize : 5\n",
            "color 1\n",
            "9\n",
            "color 2\n",
            "10\n",
            "color 3\n",
            "11\n",
            "color 4\n",
            "12\n",
            "color 5\n",
            "13\n",
            "color 6\n",
            "14\n",
            "color 7\n",
            "15\n",
            "color 8\n",
            "16\n",
            "color 9\n",
            "17\n",
            "color 10\n",
            "18\n",
            "color 11\n",
            "19\n",
            "color 12\n",
            "20\n",
            "color 13\n",
            "21\n",
            "color 14\n",
            "22\n",
            "color 15\n",
            "23\n",
            "color 16\n",
            "24\n",
            "6.55    4\n",
            "6.00    3\n",
            "6.10    3\n",
            "6.20    3\n",
            "6.67    2\n",
            "6.70    2\n",
            "7.20    1\n",
            "8.00    1\n",
            "8.20    1\n",
            "7.80    1\n",
            "5.40    1\n",
            "5.80    1\n",
            "6.80    1\n",
            "5.90    1\n",
            "6.44    1\n",
            "6.30    1\n",
            "Name: Screen Size you prefer, dtype: int64 AxesSubplot(0.125,0.125;0.775x0.755)\n",
            "enter image name :Screen Size you prefer.png\n"
          ]
        },
        {
          "output_type": "display_data",
          "data": {
            "image/png": "[encoded data removed]",
            "text/plain": [
              "<Figure size 475.2x360 with 1 Axes>"
            ]
          },
          "metadata": {
            "needs_background": "light"
          }
        }
      ]
    },
    {
      "cell_type": "code",
      "source": [
        "#Screen Resolution\n",
        "cp(nd)"
      ],
      "metadata": {
        "colab": {
          "base_uri": "https://localhost:8080/",
          "height": 574
        },
        "id": "ukZOFQKAor7A",
        "outputId": "33e79d75-91d9-4867-b8b8-001a33d87c54"
      },
      "execution_count": null,
      "outputs": [
        {
          "name": "stdout",
          "output_type": "stream",
          "text": [
            "column Name Screen Resolution\n",
            "length : 2\n",
            "x_figsize : 6.6\n",
            "y_figsize : 5\n",
            "color 1\n",
            "25\n",
            "color 2\n",
            "26\n",
            "1284x2778    15\n",
            "2208x1768    12\n",
            "Name: Screen Resolution, dtype: int64 AxesSubplot(0.125,0.125;0.775x0.755)\n",
            "enter image name :Screen Resolution.png\n"
          ]
        },
        {
          "output_type": "display_data",
          "data": {
            "image/png": "[encoded data removed]",
            "text/plain": [
              "<Figure size 475.2x360 with 1 Axes>"
            ]
          },
          "metadata": {
            "needs_background": "light"
          }
        }
      ]
    },
    {
      "cell_type": "code",
      "source": [
        "#Type\n",
        "cp(nd)"
      ],
      "metadata": {
        "colab": {
          "base_uri": "https://localhost:8080/",
          "height": 623
        },
        "id": "lwq_UcdbotxB",
        "outputId": "f8c71bdb-a039-4988-c0ac-1df5b00c32da"
      },
      "execution_count": null,
      "outputs": [
        {
          "name": "stdout",
          "output_type": "stream",
          "text": [
            "column Name Type\n",
            "length : 2\n",
            "x_figsize : 6.6\n",
            "y_figsize : 5\n",
            "color 1\n",
            "26\n",
            "color 2\n",
            "27\n",
            "Non-Foldable           23\n",
            "Foldable smartphone     4\n",
            "Name: Type, dtype: int64 AxesSubplot(0.125,0.125;0.775x0.755)\n",
            "enter image name :Type.png\n"
          ]
        },
        {
          "output_type": "display_data",
          "data": {
            "image/png": "[encoded data removed]",
            "text/plain": [
              "<Figure size 475.2x360 with 1 Axes>"
            ]
          },
          "metadata": {
            "needs_background": "light"
          }
        }
      ]
    },
    {
      "cell_type": "code",
      "source": [
        "#Type of display you prefer\n",
        "cp(nd)"
      ],
      "metadata": {
        "colab": {
          "base_uri": "https://localhost:8080/",
          "height": 677
        },
        "id": "HBHs8Tcqovcg",
        "outputId": "e272a511-27f0-47c0-fd2d-5890d5fcade3"
      },
      "execution_count": null,
      "outputs": [
        {
          "name": "stdout",
          "output_type": "stream",
          "text": [
            "column Name Type of display you prefer\n",
            "length : 3\n",
            "x_figsize : 6.6\n",
            "y_figsize : 5\n",
            "color 1\n",
            "28\n",
            "color 2\n",
            "29\n",
            "color 3\n",
            "30\n",
            "AMOLED               18\n",
            "OLED                  6\n",
            "Dynamic-AMOLED-2X     3\n",
            "Name: Type of display you prefer, dtype: int64 AxesSubplot(0.125,0.125;0.775x0.755)\n",
            "enter image name :Type of display you prefer.png\n"
          ]
        },
        {
          "output_type": "display_data",
          "data": {
            "image/png": "[encoded data removed]",
            "text/plain": [
              "<Figure size 475.2x360 with 1 Axes>"
            ]
          },
          "metadata": {
            "needs_background": "light"
          }
        }
      ]
    },
    {
      "cell_type": "code",
      "source": [
        "#Refresh rate to choose (Hz)\n",
        "cp(nd)"
      ],
      "metadata": {
        "colab": {
          "base_uri": "https://localhost:8080/",
          "height": 641
        },
        "id": "G7Q0vhACoxSd",
        "outputId": "e53c4d14-7bd3-4dd8-8589-bbf9a07fd0e5"
      },
      "execution_count": null,
      "outputs": [
        {
          "name": "stdout",
          "output_type": "stream",
          "text": [
            "column Name Refresh rate to choose (Hz)\n",
            "length : 4\n",
            "x_figsize : 6.6\n",
            "y_figsize : 5\n",
            "color 1\n",
            "31\n",
            "color 2\n",
            "32\n",
            "color 3\n",
            "33\n",
            "color 4\n",
            "34\n",
            "120    22\n",
            "144     2\n",
            "60      2\n",
            "90      1\n",
            "Name: Refresh rate to choose (Hz), dtype: int64 AxesSubplot(0.125,0.125;0.775x0.755)\n",
            "enter image name :Refresh rate to choose (Hz).png\n"
          ]
        },
        {
          "output_type": "display_data",
          "data": {
            "image/png": "[encoded data removed]",
            "text/plain": [
              "<Figure size 475.2x360 with 1 Axes>"
            ]
          },
          "metadata": {
            "needs_background": "light"
          }
        }
      ]
    },
    {
      "cell_type": "code",
      "source": [
        "#Touch sample/ response rate (Hz)\n",
        "cp(nd)"
      ],
      "metadata": {
        "colab": {
          "base_uri": "https://localhost:8080/",
          "height": 745
        },
        "id": "WpJEUqXaoylR",
        "outputId": "86c223a1-b742-43ef-d502-aa39a75fcc92"
      },
      "execution_count": null,
      "outputs": [
        {
          "name": "stdout",
          "output_type": "stream",
          "text": [
            "column Name Touch sample/ response rate (Hz)\n",
            "length : 6\n",
            "x_figsize : 6.6\n",
            "y_figsize : 5\n",
            "color 1\n",
            "35\n",
            "color 2\n",
            "36\n",
            "color 3\n",
            "37\n",
            "color 4\n",
            "38\n",
            "color 5\n",
            "39\n",
            "color 6\n",
            "40\n",
            "300     8\n",
            "Null    7\n",
            "240     7\n",
            "600     2\n",
            "180     2\n",
            "480     1\n",
            "Name: Touch sample/ response rate (Hz), dtype: int64 AxesSubplot(0.125,0.125;0.775x0.755)\n",
            "enter image name :Touch sample rate.png\n"
          ]
        },
        {
          "output_type": "display_data",
          "data": {
            "image/png": "[encoded data removed]",
            "text/plain": [
              "<Figure size 475.2x360 with 1 Axes>"
            ]
          },
          "metadata": {
            "needs_background": "light"
          }
        }
      ]
    },
    {
      "cell_type": "code",
      "source": [
        "#Primary Camera (MP)\n",
        "cp(nd)"
      ],
      "metadata": {
        "colab": {
          "base_uri": "https://localhost:8080/",
          "height": 693
        },
        "id": "U2bHY_rjo0Ps",
        "outputId": "38ef3582-e18c-459e-bd95-17663065e720"
      },
      "execution_count": null,
      "outputs": [
        {
          "name": "stdout",
          "output_type": "stream",
          "text": [
            "column Name Primary Camera (MP) \n",
            "length : 5\n",
            "x_figsize : 6.6\n",
            "y_figsize : 5\n",
            "color 1\n",
            "41\n",
            "color 2\n",
            "42\n",
            "color 3\n",
            "43\n",
            "color 4\n",
            "44\n",
            "color 5\n",
            "45\n",
            "50     13\n",
            "12      5\n",
            "48      4\n",
            "64      3\n",
            "108     2\n",
            "Name: Primary Camera (MP) , dtype: int64 AxesSubplot(0.125,0.125;0.775x0.755)\n",
            "enter image name :Primary Camera (MP).png\n"
          ]
        },
        {
          "output_type": "display_data",
          "data": {
            "image/png": "[encoded data removed]",
            "text/plain": [
              "<Figure size 475.2x360 with 1 Axes>"
            ]
          },
          "metadata": {
            "needs_background": "light"
          }
        }
      ]
    },
    {
      "cell_type": "code",
      "source": [
        "#Ultra-wide camera (MP)\n",
        "cp(nd)"
      ],
      "metadata": {
        "colab": {
          "base_uri": "https://localhost:8080/",
          "height": 803
        },
        "id": "Ufr41QNwo10S",
        "outputId": "3395319a-55f1-4f82-e90f-10fbda7a4ef6"
      },
      "execution_count": null,
      "outputs": [
        {
          "name": "stdout",
          "output_type": "stream",
          "text": [
            "column Name Ultra-wide camera (MP)\n",
            "length : 6\n",
            "x_figsize : 6.6\n",
            "y_figsize : 5\n",
            "color 1\n",
            "46\n",
            "color 2\n",
            "47\n",
            "color 3\n",
            "48\n",
            "color 4\n",
            "49\n",
            "color 5\n",
            "50\n",
            "color 6\n",
            "51\n",
            "12                 14\n",
            "50                  6\n",
            "16                  3\n",
            "64                  2\n",
            "8                   1\n",
            "Don't Need this     1\n",
            "Name: Ultra-wide camera (MP), dtype: int64 AxesSubplot(0.125,0.125;0.775x0.755)\n",
            "enter image name :Ultra-wide camera (MP).png\n"
          ]
        },
        {
          "output_type": "display_data",
          "data": {
            "image/png": "[encoded data removed]",
            "text/plain": [
              "<Figure size 475.2x360 with 1 Axes>"
            ]
          },
          "metadata": {
            "needs_background": "light"
          }
        }
      ]
    },
    {
      "cell_type": "code",
      "source": [
        "#Tertiary Camera_telephoto or macro_camera (MP)\n",
        "cp(nd)"
      ],
      "metadata": {
        "colab": {
          "base_uri": "https://localhost:8080/",
          "height": 855
        },
        "id": "4A2X0r9So3M-",
        "outputId": "6067a240-c02e-4827-9885-becf2001aa49"
      },
      "execution_count": null,
      "outputs": [
        {
          "name": "stdout",
          "output_type": "stream",
          "text": [
            "column Name Tertiary Camera_telephoto or macro_camera (MP)\n",
            "length : 7\n",
            "x_figsize : 6.6\n",
            "y_figsize : 5\n",
            "color 1\n",
            "52\n",
            "color 2\n",
            "53\n",
            "color 3\n",
            "54\n",
            "color 4\n",
            "55\n",
            "color 5\n",
            "56\n",
            "color 6\n",
            "11\n",
            "color 7\n",
            "13\n",
            "12                 14\n",
            "50                  5\n",
            "5 (Macro)           3\n",
            "8                   2\n",
            "108                 1\n",
            "16                  1\n",
            "Don't need this     1\n",
            "Name: Tertiary Camera_telephoto or macro_camera (MP), dtype: int64 AxesSubplot(0.125,0.125;0.775x0.755)\n",
            "enter image name :Tertiary Camera.png\n"
          ]
        },
        {
          "output_type": "display_data",
          "data": {
            "image/png": "[encoded data removed]",
            "text/plain": [
              "<Figure size 475.2x360 with 1 Axes>"
            ]
          },
          "metadata": {
            "needs_background": "light"
          }
        }
      ]
    },
    {
      "cell_type": "code",
      "source": [
        "#Sensor selected from the 1st image\n",
        "cp(nd)"
      ],
      "metadata": {
        "colab": {
          "base_uri": "https://localhost:8080/",
          "height": 568
        },
        "id": "TA17wYQ0o4gp",
        "outputId": "f630c7b8-f011-45d5-d245-53f39802a116"
      },
      "execution_count": null,
      "outputs": [
        {
          "name": "stdout",
          "output_type": "stream",
          "text": [
            "column Name Sensor selected from the 1st image\n",
            "length : 2\n",
            "x_figsize : 6.6\n",
            "y_figsize : 5\n",
            "color 1\n",
            "14\n",
            "color 2\n",
            "15\n",
            "SAMSUNG    17\n",
            "SONY       10\n",
            "Name: Sensor selected from the 1st image, dtype: int64 AxesSubplot(0.125,0.125;0.775x0.755)\n",
            "enter image name :Sensor selected from the 1st image\n"
          ]
        },
        {
          "output_type": "display_data",
          "data": {
            "image/png": "[encoded data removed]",
            "text/plain": [
              "<Figure size 475.2x360 with 1 Axes>"
            ]
          },
          "metadata": {
            "needs_background": "light"
          }
        }
      ]
    },
    {
      "cell_type": "code",
      "source": [
        "#Sensor selected from the 2nd image\n",
        "cp(nd)"
      ],
      "metadata": {
        "colab": {
          "base_uri": "https://localhost:8080/",
          "height": 568
        },
        "id": "d1y5zTCDo56Z",
        "outputId": "7ea585cf-44e8-4f75-a952-f215543d4abc"
      },
      "execution_count": null,
      "outputs": [
        {
          "name": "stdout",
          "output_type": "stream",
          "text": [
            "column Name Sensor selected from the 2nd image\n",
            "length : 2\n",
            "x_figsize : 6.6\n",
            "y_figsize : 5\n",
            "color 1\n",
            "14\n",
            "color 2\n",
            "15\n",
            "SONY       15\n",
            "SAMSUNG    12\n",
            "Name: Sensor selected from the 2nd image, dtype: int64 AxesSubplot(0.125,0.125;0.775x0.755)\n",
            "enter image name :Sensor selected from the 2nd image.png\n"
          ]
        },
        {
          "output_type": "display_data",
          "data": {
            "image/png": "[encoded data removed]",
            "text/plain": [
              "<Figure size 475.2x360 with 1 Axes>"
            ]
          },
          "metadata": {
            "needs_background": "light"
          }
        }
      ]
    },
    {
      "cell_type": "code",
      "source": [
        "#Sensor selected from the 3rd image\n",
        "cp(nd)"
      ],
      "metadata": {
        "colab": {
          "base_uri": "https://localhost:8080/",
          "height": 568
        },
        "id": "DBaMb4Fbo7HF",
        "outputId": "396f98ba-b4d9-40a6-cec8-229408547a71"
      },
      "execution_count": null,
      "outputs": [
        {
          "name": "stdout",
          "output_type": "stream",
          "text": [
            "column Name Sensor selected from the 3rd image\n",
            "length : 2\n",
            "x_figsize : 6.6\n",
            "y_figsize : 5\n",
            "color 1\n",
            "15\n",
            "color 2\n",
            "14\n",
            "SAMSUNG    17\n",
            "SONY       10\n",
            "Name: Sensor selected from the 3rd image, dtype: int64 AxesSubplot(0.125,0.125;0.775x0.755)\n",
            "enter image name :Sensor selected from the 3rd image.png\n"
          ]
        },
        {
          "output_type": "display_data",
          "data": {
            "image/png": "[encoded data removed]",
            "text/plain": [
              "<Figure size 475.2x360 with 1 Axes>"
            ]
          },
          "metadata": {
            "needs_background": "light"
          }
        }
      ]
    },
    {
      "cell_type": "code",
      "source": [
        "#Sensor selected from the 4th image\n",
        "cp(nd)"
      ],
      "metadata": {
        "colab": {
          "base_uri": "https://localhost:8080/",
          "height": 568
        },
        "id": "YUiM7poro8I2",
        "outputId": "07ab7419-68f8-4dea-cce9-61c9d8726ed2"
      },
      "execution_count": null,
      "outputs": [
        {
          "name": "stdout",
          "output_type": "stream",
          "text": [
            "column Name Sensor selected from the 4th image\n",
            "length : 2\n",
            "x_figsize : 6.6\n",
            "y_figsize : 5\n",
            "color 1\n",
            "15\n",
            "color 2\n",
            "14\n",
            "SAMSUNG    26\n",
            "SONY        1\n",
            "Name: Sensor selected from the 4th image, dtype: int64 AxesSubplot(0.125,0.125;0.775x0.755)\n",
            "enter image name :Sensor selected from the 4th image.png\n"
          ]
        },
        {
          "output_type": "display_data",
          "data": {
            "image/png": "[encoded data removed]",
            "text/plain": [
              "<Figure size 475.2x360 with 1 Axes>"
            ]
          },
          "metadata": {
            "needs_background": "light"
          }
        }
      ]
    },
    {
      "cell_type": "code",
      "source": [
        "#Side frame\n",
        "cp(nd)"
      ],
      "metadata": {
        "colab": {
          "base_uri": "https://localhost:8080/",
          "height": 643
        },
        "id": "eG4A3WVEo929",
        "outputId": "618a72fd-3a7b-4215-b2fb-ba71620799e6"
      },
      "execution_count": null,
      "outputs": [
        {
          "name": "stdout",
          "output_type": "stream",
          "text": [
            "column Name Side frame\n",
            "length : 3\n",
            "x_figsize : 6.6\n",
            "y_figsize : 5\n",
            "color 1\n",
            "16\n",
            "color 2\n",
            "26\n",
            "color 3\n",
            "36\n",
            "Aluminium          23\n",
            "Stainless Steel     2\n",
            "Plastic             2\n",
            "Name: Side frame, dtype: int64 AxesSubplot(0.125,0.125;0.775x0.755)\n",
            "enter image name :Side frame.png\n"
          ]
        },
        {
          "output_type": "display_data",
          "data": {
            "image/png": "[encoded data removed]",
            "text/plain": [
              "<Figure size 475.2x360 with 1 Axes>"
            ]
          },
          "metadata": {
            "needs_background": "light"
          }
        }
      ]
    },
    {
      "cell_type": "code",
      "source": [
        "#Back Panel\n",
        "cp(nd)"
      ],
      "metadata": {
        "colab": {
          "base_uri": "https://localhost:8080/",
          "height": 629
        },
        "id": "Odmf-vE9o_TH",
        "outputId": "e62b2259-f31b-4042-dd0d-cc94cb26d586"
      },
      "execution_count": null,
      "outputs": [
        {
          "name": "stdout",
          "output_type": "stream",
          "text": [
            "column Name Back Panel\n",
            "length : 3\n",
            "x_figsize : 6.6\n",
            "y_figsize : 5\n",
            "color 1\n",
            "17\n",
            "color 2\n",
            "27\n",
            "color 3\n",
            "37\n",
            "Glass          17\n",
            "Plastic         6\n",
            "Eco Leather     4\n",
            "Name: Back Panel, dtype: int64 AxesSubplot(0.125,0.125;0.775x0.755)\n",
            "enter image name :Back Panel.png\n"
          ]
        },
        {
          "output_type": "display_data",
          "data": {
            "image/png": "[encoded data removed]",
            "text/plain": [
              "<Figure size 475.2x360 with 1 Axes>"
            ]
          },
          "metadata": {
            "needs_background": "light"
          }
        }
      ]
    },
    {
      "cell_type": "code",
      "source": [
        "#Battery You Prefer (mAh)\n",
        "cp(nd)"
      ],
      "metadata": {
        "colab": {
          "base_uri": "https://localhost:8080/",
          "height": 803
        },
        "id": "oMyI1-hIpAmu",
        "outputId": "b47e2134-67c1-420c-f441-1c6a300b00d2"
      },
      "execution_count": null,
      "outputs": [
        {
          "name": "stdout",
          "output_type": "stream",
          "text": [
            "column Name Battery You Prefer (mAh)\n",
            "length : 7\n",
            "x_figsize : 6.6\n",
            "y_figsize : 5\n",
            "color 1\n",
            "18\n",
            "color 2\n",
            "20\n",
            "color 3\n",
            "22\n",
            "color 4\n",
            "24\n",
            "color 5\n",
            "26\n",
            "color 6\n",
            "28\n",
            "color 7\n",
            "30\n",
            "5000    11\n",
            "4500     6\n",
            "4800     5\n",
            "6000     2\n",
            "3500     1\n",
            "4300     1\n",
            "4000     1\n",
            "Name: Battery You Prefer (mAh), dtype: int64 AxesSubplot(0.125,0.125;0.775x0.755)\n",
            "enter image name :Battery You Prefer (mAh).png\n"
          ]
        },
        {
          "output_type": "display_data",
          "data": {
            "image/png": "[encoded data removed]",
            "text/plain": [
              "<Figure size 475.2x360 with 1 Axes>"
            ]
          },
          "metadata": {
            "needs_background": "light"
          }
        }
      ]
    },
    {
      "cell_type": "code",
      "source": [
        "#Weight of smartphone you prefer (g)\n",
        "cp(nd)"
      ],
      "metadata": {
        "colab": {
          "base_uri": "https://localhost:8080/",
          "height": 797
        },
        "id": "BEXNagPwpB9_",
        "outputId": "475edd42-a656-427a-9366-14fe4af5712d"
      },
      "execution_count": null,
      "outputs": [
        {
          "name": "stdout",
          "output_type": "stream",
          "text": [
            "column Name Weight of smartphone you prefer (g)\n",
            "length : 7\n",
            "x_figsize : 6.6\n",
            "y_figsize : 5\n",
            "color 1\n",
            "19\n",
            "color 2\n",
            "21\n",
            "color 3\n",
            "23\n",
            "color 4\n",
            "25\n",
            "color 5\n",
            "27\n",
            "color 6\n",
            "29\n",
            "color 7\n",
            "31\n",
            "188    12\n",
            "177     7\n",
            "230     3\n",
            "183     2\n",
            "210     1\n",
            "204     1\n",
            "199     1\n",
            "Name: Weight of smartphone you prefer (g), dtype: int64 AxesSubplot(0.125,0.125;0.775x0.755)\n",
            "enter image name :Weight of smartphone you prefer (g).png\n"
          ]
        },
        {
          "output_type": "display_data",
          "data": {
            "image/png": "[encoded data removed]",
            "text/plain": [
              "<Figure size 475.2x360 with 1 Axes>"
            ]
          },
          "metadata": {
            "needs_background": "light"
          }
        }
      ]
    },
    {
      "cell_type": "code",
      "source": [
        "#Wired charger capacity (w)\n",
        "cp(nd)"
      ],
      "metadata": {
        "colab": {
          "base_uri": "https://localhost:8080/",
          "height": 739
        },
        "id": "M3G6ksWYpDsV",
        "outputId": "3e859c1d-30cc-4d62-ef02-94be68969192"
      },
      "execution_count": null,
      "outputs": [
        {
          "name": "stdout",
          "output_type": "stream",
          "text": [
            "column Name Wired charger capacity (w)\n",
            "length : 6\n",
            "x_figsize : 6.6\n",
            "y_figsize : 5\n",
            "color 1\n",
            "2\n",
            "color 2\n",
            "5\n",
            "color 3\n",
            "8\n",
            "color 4\n",
            "11\n",
            "color 5\n",
            "14\n",
            "color 6\n",
            "17\n",
            "65    9\n",
            "30    8\n",
            "50    4\n",
            "33    4\n",
            "40    1\n",
            "80    1\n",
            "Name: Wired charger capacity (w), dtype: int64 AxesSubplot(0.125,0.125;0.775x0.755)\n",
            "enter image name :Wired charger capacity (w).png\n"
          ]
        },
        {
          "output_type": "display_data",
          "data": {
            "image/png": "[encoded data removed]",
            "text/plain": [
              "<Figure size 475.2x360 with 1 Axes>"
            ]
          },
          "metadata": {
            "needs_background": "light"
          }
        }
      ]
    },
    {
      "cell_type": "code",
      "source": [
        "#Wireless Charger (w)\n",
        "cp(nd)"
      ],
      "metadata": {
        "colab": {
          "base_uri": "https://localhost:8080/",
          "height": 731
        },
        "id": "4g3OW1W6pGAX",
        "outputId": "e101b6ec-4d9f-4e64-e85b-885f0a303fe9"
      },
      "execution_count": null,
      "outputs": [
        {
          "name": "stdout",
          "output_type": "stream",
          "text": [
            "column Name Wireless Charger (w)\n",
            "length : 5\n",
            "x_figsize : 6.6\n",
            "y_figsize : 5\n",
            "color 1\n",
            "20\n",
            "color 2\n",
            "23\n",
            "color 3\n",
            "26\n",
            "color 4\n",
            "29\n",
            "color 5\n",
            "32\n",
            "20            10\n",
            "not needed     8\n",
            "25             4\n",
            "45             3\n",
            "15             2\n",
            "Name: Wireless Charger (w), dtype: int64 AxesSubplot(0.125,0.125;0.775x0.755)\n",
            "enter image name :Wireless Charger (w).png\n"
          ]
        },
        {
          "output_type": "display_data",
          "data": {
            "image/png": "[encoded data removed]",
            "text/plain": [
              "<Figure size 475.2x360 with 1 Axes>"
            ]
          },
          "metadata": {
            "needs_background": "light"
          }
        }
      ]
    },
    {
      "cell_type": "code",
      "source": [
        "#Thickness you prefer (mm)\n",
        "cp(nd)"
      ],
      "metadata": {
        "colab": {
          "base_uri": "https://localhost:8080/",
          "height": 795
        },
        "id": "CXN6EVJwpH4Z",
        "outputId": "0eebecb3-2b1d-4197-8047-ef07a4a6f35a"
      },
      "execution_count": null,
      "outputs": [
        {
          "name": "stdout",
          "output_type": "stream",
          "text": [
            "column Name Thickness you prefer (mm)\n",
            "length : 7\n",
            "x_figsize : 6.6\n",
            "y_figsize : 5\n",
            "color 1\n",
            "1\n",
            "color 2\n",
            "5\n",
            "color 3\n",
            "10\n",
            "color 4\n",
            "15\n",
            "color 5\n",
            "20\n",
            "color 6\n",
            "25\n",
            "color 7\n",
            "30\n",
            "8.0    11\n",
            "8.8     5\n",
            "8.6     4\n",
            "7.6     3\n",
            "8.3     2\n",
            "9.2     1\n",
            "7.3     1\n",
            "Name: Thickness you prefer (mm), dtype: int64 AxesSubplot(0.125,0.125;0.775x0.755)\n",
            "enter image name :Thickness you prefer (mm).png\n"
          ]
        },
        {
          "output_type": "display_data",
          "data": {
            "image/png": "[encoded data removed]",
            "text/plain": [
              "<Figure size 475.2x360 with 1 Axes>"
            ]
          },
          "metadata": {
            "needs_background": "light"
          }
        }
      ]
    },
    {
      "cell_type": "code",
      "source": [
        "#Processor you prefer\n",
        "cp(nd)"
      ],
      "metadata": {
        "colab": {
          "base_uri": "https://localhost:8080/",
          "height": 855
        },
        "id": "XaxEV52hpJGN",
        "outputId": "464cc59f-ec48-426f-dbd8-fa2c41b7e983"
      },
      "execution_count": null,
      "outputs": [
        {
          "name": "stdout",
          "output_type": "stream",
          "text": [
            "column Name Processor you prefer\n",
            "length : 6\n",
            "x_figsize : 6.6\n",
            "y_figsize : 5\n",
            "color 1\n",
            "2\n",
            "color 2\n",
            "6\n",
            "color 3\n",
            "11\n",
            "color 4\n",
            "17\n",
            "color 5\n",
            "23\n",
            "color 6\n",
            "28\n",
            "Snapdragon 888+            13\n",
            "Snapdragon 865+             6\n",
            "APPLE A15                   5\n",
            "Exynos 2100                 1\n",
            "Exynos 2100                 1\n",
            "MediaTek Dimensity 1200     1\n",
            "Name: Processor you prefer, dtype: int64 AxesSubplot(0.125,0.125;0.775x0.755)\n",
            "enter image name :Processor you prefer.png\n"
          ]
        },
        {
          "output_type": "display_data",
          "data": {
            "image/png": "[encoded data removed]",
            "text/plain": [
              "<Figure size 475.2x360 with 1 Axes>"
            ]
          },
          "metadata": {
            "needs_background": "light"
          }
        }
      ]
    },
    {
      "cell_type": "code",
      "source": [
        "nso1=len(nd[nd['Sensor selected from the 1st image']=='SONY'])\n",
        "nso2=len(nd[nd['Sensor selected from the 2nd image']=='SONY'])\n",
        "nso3=len(nd[nd['Sensor selected from the 3rd image']=='SONY'])\n",
        "nso4=len(nd[nd['Sensor selected from the 4th image']=='SONY'])\n",
        "\n",
        "nsa1=len(nd[nd['Sensor selected from the 1st image']=='SAMSUNG'])\n",
        "nsa2=len(nd[nd['Sensor selected from the 2nd image']=='SAMSUNG'])\n",
        "nsa3=len(nd[nd['Sensor selected from the 3rd image']=='SAMSUNG'])\n",
        "nsa4=len(nd[nd['Sensor selected from the 4th image']=='SAMSUNG'])\n",
        "\n",
        "print('For Normal Flagship','\\nSony total selections =',nso1+nso2+nso3+nso4,'\\nSamsung total selections = ', nsa1+nsa2+nsa3+nsa4)\n",
        "#**here samsung has the overall amximum selections out of the 4 image for normal flagships**"
      ],
      "metadata": {
        "colab": {
          "base_uri": "https://localhost:8080/"
        },
        "id": "EXplOC_DpTQT",
        "outputId": "de28a2a9-4b0d-41da-de59-4dc6c9e0c56b"
      },
      "execution_count": null,
      "outputs": [
        {
          "output_type": "stream",
          "name": "stdout",
          "text": [
            "For Normal Flagship \n",
            "Sony total selections = 36 \n",
            "Samsung total selections =  72\n"
          ]
        }
      ]
    },
    {
      "cell_type": "markdown",
      "source": [
        "1. **SAMSUNG** was selected as the brand by most people in survey then followed by **APPLE**, **iQOO** and **ONEPLUS**\n",
        "\n",
        "2. **6.55** followed by 6.0,6.1,6.2\n",
        "\n",
        "3. 1284x2778 was the Screen Resolution selected by most\n",
        "\n",
        "4. **Non-foldable** was most (23/27)\n",
        "\n",
        "5. **AMOLED** followed by **OLED**\n",
        "\n",
        "6. **120Hz** refresh rate\n",
        "\n",
        "7. **300Hz** touch sample rate\n",
        "\n",
        "8. Primary Camer **50MP** followed by 12\n",
        "\n",
        "9. Ultrawide Camera **12MP** followed by 50\n",
        "\n",
        "10. Tertiary camera **12MP** followed by 50\n",
        "\n",
        "11. **Samsung** was the overall most selected Sensor\n",
        "\n",
        "12. **Aluminium** frame\n",
        "\n",
        "13. **Glass** back panel most prefered\n",
        "\n",
        "14. **5000mAh** batter most recorded then 4500\n",
        "\n",
        "15. weight **188**,177 g\n",
        "\n",
        "16. thickness **8.8**\n",
        "\n",
        "17. **65w** wired charger\n",
        "\n",
        "18. **20w** wired charger follwed by 'not need'\n",
        "\n",
        "19. snapdragon 888+ then 865+, Apple A15"
      ],
      "metadata": {
        "id": "F2vRkV1Yr5tq"
      }
    }
  ]
}