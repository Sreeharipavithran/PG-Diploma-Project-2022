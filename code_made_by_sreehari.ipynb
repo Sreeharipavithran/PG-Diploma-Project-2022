{
  "nbformat": 4,
  "nbformat_minor": 0,
  "metadata": {
    "colab": {
      "name": "code made by sreehari.ipynb",
      "provenance": []
    },
    "kernelspec": {
      "name": "python3",
      "display_name": "Python 3"
    },
    "language_info": {
      "name": "python"
    }
  },
  "cells": [
    {
      "cell_type": "markdown",
      "source": [
        "# **Found 57 colors**\n",
        "**Below show the 57 colors available in python, there is still more than that but I have opted these 57 as part of my projects**"
      ],
      "metadata": {
        "id": "mV2nLNkoLEBU"
      }
    },
    {
      "cell_type": "code",
      "execution_count": null,
      "metadata": {
        "id": "v8orZGCvK65Z"
      },
      "outputs": [],
      "source": [
        "#some colors in python\n",
        "clr=[]\n",
        "colors=['b','y','m','g','r','c','dimgray','darkorange','limegreen','lightsteelblue','rosybrown','darkgoldenrod','lightseagreen',\n",
        "        'mediumslateblue','indianred','tan','olivedrab','teal','mediumseagreen','crimson','orchid','midnightblue','maroon','palegreen',\n",
        "        'peru','orange','darkseagreen','slategray','dodgerblue','mediumvioletred','mediumslateblue','mediumturquoise','salmon','cornflowerblue',\n",
        "        'thistle','steelblue','yellowgreen','khaki','orangered','greenyellow','chocolate','burlywood','powderblue','lavender','indigo',\n",
        "        'firebrick','oldlace','coral','deeppink','rebeccapurple','navy','deepskyblue','forestgreen','mediumaquamarine','papayawhip','tomato',\n",
        "        'silver']"
      ]
    },
    {
      "cell_type": "markdown",
      "source": [
        "# **cp stands for countplot**\n",
        "**The function code below is made by me for my PGD DBA project purpose, the aim of this function is only to plot countplot based on value_counts() of a particular column in a dataframe, function will ask column name, figuresize, color number(which is color from the 57, that is arranged as clr_list in the below code)**\n"
      ],
      "metadata": {
        "id": "HCm4aG8GLd7N"
      }
    },
    {
      "cell_type": "code",
      "source": [
        "def cp(df):\n",
        "  colors=[]\n",
        "  column_name=input(\"column Name \")\n",
        "  length=len(df[column_name].unique())\n",
        "  print('length :',length )\n",
        "  figx=int(input('x_figsize : '))\n",
        "  figy=int(input('y_figsize : '))\n",
        "  clr_list=['b','y','m','g','r','c','dimgray','darkorange','limegreen','lightsteelblue','rosybrown','darkgoldenrod','lightseagreen',\n",
        "        'mediumslateblue','indianred','tan','olivedrab','teal','mediumseagreen','crimson','orchid','midnightblue','maroon','palegreen',\n",
        "        'peru','orange','darkseagreen','slategray','dodgerblue','mediumvioletred','mediumslateblue','mediumturquoise','salmon','cornflowerblue',\n",
        "        'thistle','steelblue','yellowgreen','khaki','orangered','greenyellow','chocolate','burlywood','powderblue','lavender','indigo',\n",
        "        'firebrick','oldlace','coral','deeppink','rebeccapurple','navy','deepskyblue','forestgreen','mediumaquamarine','papayawhip','tomato',\n",
        "        'silver']\n",
        "  for i in range(1,length+1):\n",
        "    print(\"color\",i)\n",
        "    colors.append(clr_list[int(input())])\n",
        "  plt.subplots(figsize=(figx,figy))\n",
        "  print(df[column_name].value_counts(),df[column_name].value_counts().plot.bar(color=colors))\n",
        "  plt.savefig(input('enter image name :'))"
      ],
      "metadata": {
        "id": "kSS1Fyq-LAKr"
      },
      "execution_count": null,
      "outputs": []
    }
  ]
}